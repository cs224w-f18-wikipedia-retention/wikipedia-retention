{
 "cells": [
  {
   "cell_type": "code",
   "execution_count": 1,
   "metadata": {},
   "outputs": [
    {
     "name": "stdout",
     "output_type": "stream",
     "text": [
      "/home/amiyaguchi/cs224w/wikipedia-retention\n"
     ]
    }
   ],
   "source": [
    "cd .."
   ]
  },
  {
   "cell_type": "code",
   "execution_count": 17,
   "metadata": {},
   "outputs": [
    {
     "name": "stdout",
     "output_type": "stream",
     "text": [
      "2007-1-enwiki-projection-user.csv\t kcore-2007-1.csv\r\n",
      "2007-1-enwiki-projection-user-roles.csv  louvain_level5_modularity.tsv\r\n",
      "2007-1-user-network-v3.csv\t\t markov_bounds.csv\r\n",
      "2007-2-enwiki-projection-user.csv\t role-features\r\n",
      "2007-2-enwiki-projection-user-roles.csv  role-nmf-G-v1.csv\r\n",
      "2007-3-enwiki-projection-user.csv\t role-nmf-v1.csv\r\n",
      "2007-3-enwiki-projection-user-roles.csv  roles\r\n",
      "2007-4-enwiki-projection-user.csv\t rolx_article_distribution\r\n",
      "2007-4-enwiki-projection-user-roles.csv  rolx-roles\r\n",
      "aa_full_headers.csv\t\t\t rolx-v\r\n",
      "admin_mapping.csv\t\t\t user-network-v3\r\n",
      "all_article_features.csv\t\t user-network-v3.csv\r\n",
      "all_user_features.csv\t\t\t user-network-v3-mappings\r\n",
      "base_features_reg.csv\t\t\t user-network-v3-v\r\n",
      "community_norm_features.csv\t\t uu_full.csv\r\n",
      "enwiki-meta-compact\r\n"
     ]
    }
   ],
   "source": [
    "! ls data/processed/"
   ]
  },
  {
   "cell_type": "code",
   "execution_count": 2,
   "metadata": {},
   "outputs": [],
   "source": [
    "from pyspark.sql import SparkSession, functions as F, types as T\n",
    "\n",
    "spark = SparkSession.builder.getOrCreate()\n",
    "enmain = spark.read.parquet(\"data/interim/enwiki-meta-main\")\n",
    "enmain.createOrReplaceTempView(\"enmain\")"
   ]
  },
  {
   "cell_type": "code",
   "execution_count": 16,
   "metadata": {},
   "outputs": [],
   "source": [
    "from pyspark.sql.window import Window\n",
    "\n",
    "previous_revision = Window.partitionBy(\"article_id\").orderBy(\"rev_id\")\n",
    "\n",
    "def transform(enmain):\n",
    "    res = (\n",
    "        enmain\n",
    "        .select(\n",
    "            \"user_id\",\n",
    "            \"username\",\n",
    "            \"article_id\",\n",
    "            \"article_title\",\n",
    "            \"textdata\",\n",
    "            \"rev_id\",\n",
    "            \"timestamp\",\n",
    "            (F.size(\"main\") - F.lag(F.size(\"main\")).over(previous_revision)).alias(\"link_diff\"),\n",
    "            F.array_except(F.lag(\"main\").over(previous_revision), \"main\").alias(\"link_remove\"),\n",
    "            F.array_except(\"main\", F.lag(\"main\").over(previous_revision)).alias(\"link_add\")\n",
    "        )\n",
    "        .orderBy(\"article_title\", \"rev_id\")\n",
    "    )\n",
    "    return res\n",
    "\n",
    "rev_diffs = transform(enmain)\n",
    "rev_diffs.createOrReplaceTempView(\"rev_diffs\")"
   ]
  },
  {
   "cell_type": "code",
   "execution_count": 20,
   "metadata": {},
   "outputs": [],
   "source": [
    "rev_diffs.write.parquet(\"data/processed/enwiki-meta-main-compact/v1\", mode=\"overwrite\")"
   ]
  },
  {
   "cell_type": "code",
   "execution_count": 21,
   "metadata": {},
   "outputs": [],
   "source": [
    "rev_diffs = spark.read.parquet(\"data/processed/enwiki-meta-main-compact/v1\")"
   ]
  },
  {
   "cell_type": "code",
   "execution_count": 22,
   "metadata": {},
   "outputs": [
    {
     "name": "stdout",
     "output_type": "stream",
     "text": [
      "CPU times: user 2.37 ms, sys: 2.26 ms, total: 4.63 ms\n",
      "Wall time: 543 ms\n"
     ]
    },
    {
     "data": {
      "text/plain": [
       "116590880"
      ]
     },
     "execution_count": 22,
     "metadata": {},
     "output_type": "execute_result"
    }
   ],
   "source": [
    "%time rev_diffs.count()"
   ]
  },
  {
   "cell_type": "code",
   "execution_count": 24,
   "metadata": {},
   "outputs": [],
   "source": [
    "link_from = rev_diffs.withColumn(\"src\", F.explode(\"link_add\"))\n",
    "link_to = rev_diffs.withColumn(\"dst\", F.explode(\"link_remove\"))\n",
    "\n",
    "link_from.createOrReplaceTempView(\"link_from\")\n",
    "link_to.createOrReplaceTempView(\"link_to\")\n",
    "\n",
    "edges = spark.sql(\"\"\"\n",
    "-- why doesnt left outer join work?\n",
    "\n",
    "SELECT\n",
    "    s.user_id,\n",
    "    s.username,\n",
    "    s.article_id,\n",
    "    s.rev_id,\n",
    "    s.timestamp as added_ts,\n",
    "    t.timestamp as removed_ts,\n",
    "    t.rev_id - s.rev_id as span_rev,\n",
    "    (unix_timestamp(t.timestamp) - unix_timestamp(s.timestamp)) as span_seconds,\n",
    "    s.article_title as src,\n",
    "    t.dst\n",
    "FROM link_from AS s\n",
    "JOIN link_to AS t\n",
    "ON s.article_title = t.article_title\n",
    "    AND s.src = t.dst\n",
    "    AND s.rev_id < t.rev_id\n",
    "    AND s.timestamp < t.timestamp\n",
    "\n",
    "UNION\n",
    "\n",
    "SELECT\n",
    "    s.user_id,\n",
    "    s.username,\n",
    "    s.article_id,\n",
    "    s.rev_id,\n",
    "    s.timestamp as added_ts,\n",
    "    null as removed_ts,\n",
    "    null as span_rev,\n",
    "    null as span_seconds,\n",
    "    s.article_title as src,\n",
    "    null as dst\n",
    "FROM link_from AS s\n",
    "LEFT OUTER JOIN link_to AS t\n",
    "ON s.article_title = t.article_title\n",
    "    AND t.dst is null\n",
    "    AND s.rev_id < t.rev_id\n",
    "    AND s.timestamp < t.timestamp\n",
    "\"\"\")\n",
    "\n",
    "edges.orderBy(\"src\", \"rev_id\").write.parquet(\"data/processed/rev_history/v1\", mode=\"overwrite\")"
   ]
  },
  {
   "cell_type": "code",
   "execution_count": 25,
   "metadata": {},
   "outputs": [
    {
     "name": "stdout",
     "output_type": "stream",
     "text": [
      "+-------+--------------+----------+--------+-------------------+-------------------+--------+------------+--------------------+--------------------+\n",
      "|user_id|      username|article_id|  rev_id|           added_ts|         removed_ts|span_rev|span_seconds|                 src|                 dst|\n",
      "+-------+--------------+----------+--------+-------------------+-------------------+--------+------------+--------------------+--------------------+\n",
      "|1328606|        Krm500|    166570|92570903|2006-12-06 15:28:33|2006-12-08 08:42:49|  380237|      148456|List_of_tallest_s...|          Gothenburg|\n",
      "|1328606|        Krm500|    166570|92570903|2006-12-06 15:28:33|               null|    null|        null|List_of_tallest_s...|                null|\n",
      "|1382933|           PKT|    166570|92924884|2006-12-08 06:07:28|2006-12-08 08:42:49|   26256|        9321|List_of_tallest_s...|    Toronto,_Ontario|\n",
      "|1382933|           PKT|    166570|92924884|2006-12-08 06:07:28|               null|    null|        null|List_of_tallest_s...|                null|\n",
      "|   null|ip:89.49.82.64|    166570|92951140|2006-12-08 08:42:49|2007-01-03 13:51:00| 5314447|     2264891|List_of_tallest_s...|  Alvinston,_Ontario|\n",
      "|   null|ip:89.49.82.64|    166570|92951140|2006-12-08 08:42:49|2007-04-17 13:56:12|30680081|    11247203|List_of_tallest_s...|CKCO-42_Televisio...|\n",
      "|   null|ip:89.49.82.64|    166570|92951140|2006-12-08 08:42:49|2006-12-16 08:46:18| 1770481|      691409|List_of_tallest_s...|  Alvinston,_Ontario|\n",
      "|   null|ip:89.49.82.64|    166570|92951140|2006-12-08 08:42:49|2006-12-16 08:46:18| 1770481|      691409|List_of_tallest_s...|CHCH-51_Televisio...|\n",
      "|   null|ip:89.49.82.64|    166570|92951140|2006-12-08 08:42:49|2007-01-06 09:26:10| 5951732|     2508201|List_of_tallest_s...|CIII_Television_T...|\n",
      "|   null|ip:89.49.82.64|    166570|92951140|2006-12-08 08:42:49|2006-12-16 08:46:18| 1770481|      691409|List_of_tallest_s...|     London,_Ontario|\n",
      "|   null|ip:89.49.82.64|    166570|92951140|2006-12-08 08:42:49|2007-01-06 09:26:10| 5951732|     2508201|List_of_tallest_s...|  Alvinston,_Ontario|\n",
      "|   null|ip:89.49.82.64|    166570|92951140|2006-12-08 08:42:49|2007-01-01 18:04:26| 4897602|     2107297|List_of_tallest_s...|  Alvinston,_Ontario|\n",
      "|   null|ip:89.49.82.64|    166570|92951140|2006-12-08 08:42:49|2006-12-16 08:46:18| 1770481|      691409|List_of_tallest_s...|CFPL_Television_T...|\n",
      "|   null|ip:89.49.82.64|    166570|92951140|2006-12-08 08:42:49|2007-01-01 18:04:26| 4897602|     2107297|List_of_tallest_s...|CIII_Television_T...|\n",
      "|   null|ip:89.49.82.64|    166570|92951140|2006-12-08 08:42:49|2007-01-01 18:04:26| 4897602|     2107297|List_of_tallest_s...|CHCH-51_Televisio...|\n",
      "|   null|ip:89.49.82.64|    166570|92951140|2006-12-08 08:42:49|2006-12-16 08:46:18| 1770481|      691409|List_of_tallest_s...|      Paris,_Ontario|\n",
      "|   null|ip:89.49.82.64|    166570|92951140|2006-12-08 08:42:49|2007-04-17 13:56:12|30680081|    11247203|List_of_tallest_s...|  Alvinston,_Ontario|\n",
      "|   null|ip:89.49.82.64|    166570|92951140|2006-12-08 08:42:49|2007-04-17 13:56:12|30680081|    11247203|List_of_tallest_s...|     London,_Ontario|\n",
      "|   null|ip:89.49.82.64|    166570|92951140|2006-12-08 08:42:49|2007-01-03 13:51:00| 5314447|     2264891|List_of_tallest_s...|CHCH-51_Televisio...|\n",
      "|   null|ip:89.49.82.64|    166570|92951140|2006-12-08 08:42:49|2007-01-01 03:54:57| 4758583|     2056328|List_of_tallest_s...|      Paris,_Ontario|\n",
      "+-------+--------------+----------+--------+-------------------+-------------------+--------+------------+--------------------+--------------------+\n",
      "only showing top 20 rows\n",
      "\n"
     ]
    }
   ],
   "source": [
    "edges = spark.read.parquet(\"data/processed/rev_history/v1\")\n",
    "edges.show()"
   ]
  },
  {
   "cell_type": "code",
   "execution_count": null,
   "metadata": {},
   "outputs": [],
   "source": [
    "%time edges.count()"
   ]
  },
  {
   "cell_type": "code",
   "execution_count": null,
   "metadata": {},
   "outputs": [],
   "source": [
    "edges.where(\"to is null\").count()"
   ]
  }
 ],
 "metadata": {
  "kernelspec": {
   "display_name": "Python 3",
   "language": "python",
   "name": "python3"
  },
  "language_info": {
   "codemirror_mode": {
    "name": "ipython",
    "version": 3
   },
   "file_extension": ".py",
   "mimetype": "text/x-python",
   "name": "python",
   "nbconvert_exporter": "python",
   "pygments_lexer": "ipython3",
   "version": "3.6.6"
  }
 },
 "nbformat": 4,
 "nbformat_minor": 2
}
