{
 "cells": [
  {
   "cell_type": "code",
   "execution_count": 1,
   "metadata": {},
   "outputs": [
    {
     "name": "stdout",
     "output_type": "stream",
     "text": [
      "/home/amiyaguchi/cs224w/wikipedia-retention\n"
     ]
    }
   ],
   "source": [
    "cd .."
   ]
  },
  {
   "cell_type": "code",
   "execution_count": 2,
   "metadata": {},
   "outputs": [],
   "source": [
    "from src.data.snap_import_user_projection import UnimodalUserProjection\n",
    "from pyspark.sql import SparkSession, functions as F\n",
    "\n",
    "spark = SparkSession.builder.getOrCreate()\n",
    "\n",
    "input_path = \"data/processed/enwiki-meta-compact\"\n",
    "model = UnimodalUserProjection(spark).extract(input_path).transform()"
   ]
  },
  {
   "cell_type": "code",
   "execution_count": 3,
   "metadata": {},
   "outputs": [
    {
     "data": {
      "text/plain": [
       "53595946"
      ]
     },
     "execution_count": 3,
     "metadata": {},
     "output_type": "execute_result"
    }
   ],
   "source": [
    "spark.table(\"bipartite\").cache()\n",
    "spark.table(\"bipartite\").count()"
   ]
  },
  {
   "cell_type": "code",
   "execution_count": 4,
   "metadata": {},
   "outputs": [
    {
     "name": "stdout",
     "output_type": "stream",
     "text": [
      "+-------+-------+\n",
      "|user_id|role_id|\n",
      "+-------+-------+\n",
      "|  44750|      1|\n",
      "|2118749|      1|\n",
      "|  84417|      1|\n",
      "| 921428|      1|\n",
      "| 282514|      1|\n",
      "+-------+-------+\n",
      "only showing top 5 rows\n",
      "\n"
     ]
    }
   ],
   "source": [
    "role_df = spark.read.csv(\n",
    "    \"data/processed/rolx-roles\",\n",
    "    schema=\"user_id INT, role_id INT\",\n",
    "    sep='\\t',\n",
    "    comment='-', \n",
    "    ignoreLeadingWhiteSpace=True\n",
    ")\n",
    "role_df.show(n=5)"
   ]
  },
  {
   "cell_type": "code",
   "execution_count": 5,
   "metadata": {},
   "outputs": [
    {
     "name": "stdout",
     "output_type": "stream",
     "text": [
      "+------------+------------+\n",
      "|min(role_id)|max(role_id)|\n",
      "+------------+------------+\n",
      "|           0|          30|\n",
      "+------------+------------+\n",
      "\n"
     ]
    }
   ],
   "source": [
    "role_df.selectExpr(\"min(role_id)\", \"max(role_id)\").show()"
   ]
  },
  {
   "cell_type": "code",
   "execution_count": 6,
   "metadata": {},
   "outputs": [],
   "source": [
    "admin_df = spark.read.csv(\n",
    "    \"data/processed/admin_mapping.csv\",\n",
    "    schema=\"user_id INT, username STRING\"\n",
    ")"
   ]
  },
  {
   "cell_type": "code",
   "execution_count": 7,
   "metadata": {},
   "outputs": [
    {
     "name": "stdout",
     "output_type": "stream",
     "text": [
      "+-------+-------+--------+\n",
      "|user_id|role_id|is_admin|\n",
      "+-------+-------+--------+\n",
      "|  44750|      1|       0|\n",
      "|2118749|      1|       0|\n",
      "|  84417|      1|       0|\n",
      "| 921428|      1|       0|\n",
      "| 282514|      1|       0|\n",
      "+-------+-------+--------+\n",
      "only showing top 5 rows\n",
      "\n"
     ]
    }
   ],
   "source": [
    "role_admin = (\n",
    "    role_df.join(admin_df, on=\"user_id\", how='left')\n",
    "    .selectExpr(\n",
    "        \"user_id\", \n",
    "        \"role_id\", \n",
    "        \"cast(username is not null as int) as is_admin\"\n",
    "    )\n",
    ")\n",
    "\n",
    "role_admin.show(n=5)"
   ]
  },
  {
   "cell_type": "code",
   "execution_count": 8,
   "metadata": {},
   "outputs": [
    {
     "data": {
      "text/plain": [
       "[Row(role_id=0),\n",
       " Row(role_id=1),\n",
       " Row(role_id=2),\n",
       " Row(role_id=3),\n",
       " Row(role_id=4)]"
      ]
     },
     "execution_count": 8,
     "metadata": {},
     "output_type": "execute_result"
    }
   ],
   "source": [
    "sorted(role_admin.select(\"role_id\").distinct().collect())[:5]"
   ]
  },
  {
   "cell_type": "code",
   "execution_count": 9,
   "metadata": {},
   "outputs": [
    {
     "name": "stdout",
     "output_type": "stream",
     "text": [
      "+-------+-------+--------+\n",
      "|role_id|n_users|n_admins|\n",
      "+-------+-------+--------+\n",
      "|      1|  57823|     712|\n",
      "|     15|  55728|       2|\n",
      "|     21|  51549|       0|\n",
      "|     14|  51364|       2|\n",
      "|      6|  49790|       3|\n",
      "+-------+-------+--------+\n",
      "only showing top 5 rows\n",
      "\n"
     ]
    }
   ],
   "source": [
    "(\n",
    "    role_admin\n",
    "    .groupBy(\"role_id\")\n",
    "    .agg(\n",
    "        F.expr(\"count(distinct user_id) as n_users\"),\n",
    "        F.expr(\"sum(is_admin) as n_admins\")\n",
    "    )\n",
    "    .orderBy(F.desc(\"n_users\"))\n",
    ").show(n=5)"
   ]
  },
  {
   "cell_type": "code",
   "execution_count": 10,
   "metadata": {},
   "outputs": [],
   "source": [
    "bipartite = (\n",
    "    spark.table(\"bipartite\")\n",
    "    .join(role_admin, on=\"user_id\", how=\"left\")\n",
    "    .na.fill({\"role_id\": -1, \"is_admin\": 0})\n",
    "    .limit(1000)\n",
    ")"
   ]
  },
  {
   "cell_type": "code",
   "execution_count": 11,
   "metadata": {},
   "outputs": [],
   "source": [
    "article_roles = (\n",
    "    bipartite\n",
    "    .groupby(\"article_id\", \"edit_date\")\n",
    "    .pivot(\"role_id\")\n",
    "    .agg(F.count(\"user_id\").alias(\"n_users\"))\n",
    "    .fillna(0)\n",
    ")\n",
    "\n",
    "totals = (\n",
    "    bipartite\n",
    "    .groupby(\"article_id\", \"edit_date\")\n",
    "    .agg(F.count(\"user_id\").alias(\"deg\"))\n",
    ")\n",
    "\n",
    "normalized = (\n",
    "    article_roles\n",
    "    .join(totals, on=[\"article_id\", \"edit_date\"])\n",
    "    .select(\n",
    "        \"article_id\",\n",
    "        \"edit_date\",\n",
    "        *[\n",
    "            (F.col(x)/F.col(\"deg\")).alias(f\"role_{x}\")\n",
    "            for x in article_roles.columns[2:]\n",
    "        ]\n",
    "    )\n",
    ")\n",
    "\n",
    "user_roles = (\n",
    "    bipartite\n",
    "    .join(normalized, on=[\"article_id\", \"edit_date\"])\n",
    "    .groupby(\"user_id\")\n",
    "    .agg(*[F.sum(x).alias(x) for x in normalized.columns[2:]])\n",
    ")\n",
    "\n",
    "# user_roles.repartition(1).write.parquet(\"data/processed/rolx_article_distribution\")"
   ]
  },
  {
   "cell_type": "code",
   "execution_count": 12,
   "metadata": {},
   "outputs": [],
   "source": [
    "x = user_roles.toPandas()"
   ]
  },
  {
   "cell_type": "code",
   "execution_count": 15,
   "metadata": {},
   "outputs": [
    {
     "data": {
      "text/html": [
       "<div>\n",
       "<style scoped>\n",
       "    .dataframe tbody tr th:only-of-type {\n",
       "        vertical-align: middle;\n",
       "    }\n",
       "\n",
       "    .dataframe tbody tr th {\n",
       "        vertical-align: top;\n",
       "    }\n",
       "\n",
       "    .dataframe thead th {\n",
       "        text-align: right;\n",
       "    }\n",
       "</style>\n",
       "<table border=\"1\" class=\"dataframe\">\n",
       "  <thead>\n",
       "    <tr style=\"text-align: right;\">\n",
       "      <th></th>\n",
       "      <th>role_1</th>\n",
       "      <th>role_6</th>\n",
       "      <th>role_26</th>\n",
       "    </tr>\n",
       "  </thead>\n",
       "  <tbody>\n",
       "    <tr>\n",
       "      <th>0</th>\n",
       "      <td>195.0</td>\n",
       "      <td>0.0</td>\n",
       "      <td>0.0</td>\n",
       "    </tr>\n",
       "    <tr>\n",
       "      <th>1</th>\n",
       "      <td>0.0</td>\n",
       "      <td>0.0</td>\n",
       "      <td>266.0</td>\n",
       "    </tr>\n",
       "    <tr>\n",
       "      <th>2</th>\n",
       "      <td>0.0</td>\n",
       "      <td>78.0</td>\n",
       "      <td>0.0</td>\n",
       "    </tr>\n",
       "    <tr>\n",
       "      <th>3</th>\n",
       "      <td>461.0</td>\n",
       "      <td>0.0</td>\n",
       "      <td>0.0</td>\n",
       "    </tr>\n",
       "  </tbody>\n",
       "</table>\n",
       "</div>"
      ],
      "text/plain": [
       "   role_1  role_6  role_26\n",
       "0   195.0     0.0      0.0\n",
       "1     0.0     0.0    266.0\n",
       "2     0.0    78.0      0.0\n",
       "3   461.0     0.0      0.0"
      ]
     },
     "execution_count": 15,
     "metadata": {},
     "output_type": "execute_result"
    }
   ],
   "source": [
    "x.iloc[:, 1:]"
   ]
  }
 ],
 "metadata": {
  "kernelspec": {
   "display_name": "Python 2",
   "language": "python",
   "name": "python2"
  },
  "language_info": {
   "codemirror_mode": {
    "name": "ipython",
    "version": 3
   },
   "file_extension": ".py",
   "mimetype": "text/x-python",
   "name": "python",
   "nbconvert_exporter": "python",
   "pygments_lexer": "ipython3",
   "version": "3.6.6"
  }
 },
 "nbformat": 4,
 "nbformat_minor": 2
}
