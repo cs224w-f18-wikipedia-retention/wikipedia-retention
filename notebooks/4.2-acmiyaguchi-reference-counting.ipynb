{
 "cells": [
  {
   "cell_type": "code",
   "execution_count": 2,
   "metadata": {},
   "outputs": [
    {
     "name": "stdout",
     "output_type": "stream",
     "text": [
      "/home/amiyaguchi/cs224w/wikipedia-retention\n"
     ]
    }
   ],
   "source": [
    "cd .."
   ]
  },
  {
   "cell_type": "code",
   "execution_count": 3,
   "metadata": {},
   "outputs": [],
   "source": [
    "from pyspark.sql import SparkSession, functions as F, types as T\n",
    "\n",
    "spark = SparkSession.builder.getOrCreate()\n",
    "enmain = spark.read.parquet(\"data/interim/enwiki-meta-main\")\n",
    "enmain.createOrReplaceTempView(\"enmain\")"
   ]
  },
  {
   "cell_type": "code",
   "execution_count": 4,
   "metadata": {},
   "outputs": [
    {
     "name": "stdout",
     "output_type": "stream",
     "text": [
      "-RECORD 0--------------------------------------------------------------------------------------------------------------------------------------------------------------------------------------------------------------------------------------------------------------\n",
      " article_id    | 8807453                                                                                                                                                                                                                                               \n",
      " rev_id        | 99128362                                                                                                                                                                                                                                              \n",
      " article_title | Chrysolaminarin                                                                                                                                                                                                                                       \n",
      " timestamp     | 2007-01-07 09:44:52                                                                                                                                                                                                                                   \n",
      " username      | DJIndica                                                                                                                                                                                                                                              \n",
      " user_id       | 739748                                                                                                                                                                                                                                                \n",
      " category      | [Polysaccharides]                                                                                                                                                                                                                                     \n",
      " image         | null                                                                                                                                                                                                                                                  \n",
      " main          | [Bacillariophyta, Heterokonts, Brown_algae, Laminarin, Phytoplankton, Photosynthetic, Polymer, Polysaccharide]                                                                                                                                        \n",
      " talk          | null                                                                                                                                                                                                                                                  \n",
      " user          | null                                                                                                                                                                                                                                                  \n",
      " user_talk     | null                                                                                                                                                                                                                                                  \n",
      " other         | null                                                                                                                                                                                                                                                  \n",
      " external      | [http://arnica.csustan.edu/boty1050/Protista/protista.htm, http://comenius.susqu.edu/bi/202/Protists/terms/chrysolaminarin.htm]                                                                                                                       \n",
      " template      | [Organic-compound-stub]                                                                                                                                                                                                                               \n",
      " comment       | [[WP:AES|←]]Created page with 'Chrysolaminarin (also known as leucosin) is a [[polymer]] of glucopyranoside units.<ref>\"[http://comenius.susqu.edu/bi/202/Protists/terms/chrysolaminarin.htm Basic ...'                                               \n",
      " minor         | false                                                                                                                                                                                                                                                 \n",
      " textdata      | 58                                                                                                                                                                                                                                                    \n",
      " year          | 2007                                                                                                                                                                                                                                                  \n",
      " quarter       | 1                                                                                                                                                                                                                                                     \n",
      "-RECORD 1--------------------------------------------------------------------------------------------------------------------------------------------------------------------------------------------------------------------------------------------------------------\n",
      " article_id    | 8887678                                                                                                                                                                                                                                               \n",
      " rev_id        | 100234698                                                                                                                                                                                                                                             \n",
      " article_title | Inkwenkwezi_Private_Game_Reserve                                                                                                                                                                                                                      \n",
      " timestamp     | 2007-01-12 07:43:28                                                                                                                                                                                                                                   \n",
      " username      | Mrf-rouk                                                                                                                                                                                                                                              \n",
      " user_id       | 3233723                                                                                                                                                                                                                                               \n",
      " category      | [Conservation_areas_of_South_Africa]                                                                                                                                                                                                                  \n",
      " image         | null                                                                                                                                                                                                                                                  \n",
      " main          | [List_of_conservation_areas_of_South_Africa, Eastern_Cape, Eastern_Cape, Rhinoceros, White_Rhinoceros, South_Africa, South_Africa, South_Africa, South_Africa, East_London, East_London, Black_Rhinoceros, 1989, 1895, 1960, Shaka, Wild_coast, 1999] \n",
      " talk          | null                                                                                                                                                                                                                                                  \n",
      " user          | null                                                                                                                                                                                                                                                  \n",
      " user_talk     | null                                                                                                                                                                                                                                                  \n",
      " other         | null                                                                                                                                                                                                                                                  \n",
      " external      | [http://www.kznwildlife.com/, http://www.kwazulunatal.gov.za/, http://www.parks-sa.co.za/]                                                                                                                                                            \n",
      " template      | [Infobox_protected_area]                                                                                                                                                                                                                              \n",
      " comment       | [[WP:AES|←]]Created page with '{{Infobox_protected_area | name = Inkwenkwezi Private Game Reserve | iucn_category = | image = South Africa Locator Blank.PNG | caption = Map of [[South Afri...'                                                      \n",
      " minor         | false                                                                                                                                                                                                                                                 \n",
      " textdata      | 290                                                                                                                                                                                                                                                   \n",
      " year          | 2007                                                                                                                                                                                                                                                  \n",
      " quarter       | 1                                                                                                                                                                                                                                                     \n",
      "-RECORD 2--------------------------------------------------------------------------------------------------------------------------------------------------------------------------------------------------------------------------------------------------------------\n",
      " article_id    | 8807453                                                                                                                                                                                                                                               \n",
      " rev_id        | 118618791                                                                                                                                                                                                                                             \n",
      " article_title | Chrysolaminarin                                                                                                                                                                                                                                       \n",
      " timestamp     | 2007-03-28 14:39:33                                                                                                                                                                                                                                   \n",
      " username      | ip:66.41.0.129                                                                                                                                                                                                                                        \n",
      " user_id       | null                                                                                                                                                                                                                                                  \n",
      " category      | [Polysaccharides]                                                                                                                                                                                                                                     \n",
      " image         | null                                                                                                                                                                                                                                                  \n",
      " main          | [Bacillariophyta, Heterokonts, Brown_algae, Laminarin, Phytoplankton, Photosynthetic, Polymer, Polysaccharide]                                                                                                                                        \n",
      " talk          | null                                                                                                                                                                                                                                                  \n",
      " user          | null                                                                                                                                                                                                                                                  \n",
      " user_talk     | null                                                                                                                                                                                                                                                  \n",
      " other         | null                                                                                                                                                                                                                                                  \n",
      " external      | [http://arnica.csustan.edu/boty1050/Protista/protista.htm, http://comenius.susqu.edu/bi/202/Protists/terms/chrysolaminarin.htm]                                                                                                                       \n",
      " template      | [Organic-compound-stub]                                                                                                                                                                                                                               \n",
      " comment       | null                                                                                                                                                                                                                                                  \n",
      " minor         | false                                                                                                                                                                                                                                                 \n",
      " textdata      | 72                                                                                                                                                                                                                                                    \n",
      " year          | 2007                                                                                                                                                                                                                                                  \n",
      " quarter       | 1                                                                                                                                                                                                                                                     \n",
      "-RECORD 3--------------------------------------------------------------------------------------------------------------------------------------------------------------------------------------------------------------------------------------------------------------\n",
      " article_id    | 8887678                                                                                                                                                                                                                                               \n",
      " rev_id        | 100235259                                                                                                                                                                                                                                             \n",
      " article_title | Inkwenkwezi_Private_Game_Reserve                                                                                                                                                                                                                      \n",
      " timestamp     | 2007-01-12 07:46:40                                                                                                                                                                                                                                   \n",
      " username      | Mrf-rouk                                                                                                                                                                                                                                              \n",
      " user_id       | 3233723                                                                                                                                                                                                                                               \n",
      " category      | [Conservation_areas_of_South_Africa]                                                                                                                                                                                                                  \n",
      " image         | null                                                                                                                                                                                                                                                  \n",
      " main          | [List_of_conservation_areas_of_South_Africa, Eastern_Cape, Eastern_Cape, South_Africa, South_Africa, South_Africa, South_Africa, East_London, East_London, Wild_coast]                                                                                \n",
      " talk          | null                                                                                                                                                                                                                                                  \n",
      " user          | null                                                                                                                                                                                                                                                  \n",
      " user_talk     | null                                                                                                                                                                                                                                                  \n",
      " other         | null                                                                                                                                                                                                                                                  \n",
      " external      | [http://www.inkwenkwezi.com/]                                                                                                                                                                                                                         \n",
      " template      | [Infobox_protected_area]                                                                                                                                                                                                                              \n",
      " comment       | null                                                                                                                                                                                                                                                  \n",
      " minor         | false                                                                                                                                                                                                                                                 \n",
      " textdata      | 96                                                                                                                                                                                                                                                    \n",
      " year          | 2007                                                                                                                                                                                                                                                  \n",
      " quarter       | 1                                                                                                                                                                                                                                                     \n",
      "-RECORD 4--------------------------------------------------------------------------------------------------------------------------------------------------------------------------------------------------------------------------------------------------------------\n",
      " article_id    | 8807453                                                                                                                                                                                                                                               \n",
      " rev_id        | 118618935                                                                                                                                                                                                                                             \n",
      " article_title | Chrysolaminarin                                                                                                                                                                                                                                       \n",
      " timestamp     | 2007-03-28 14:40:09                                                                                                                                                                                                                                   \n",
      " username      | ip:66.41.0.129                                                                                                                                                                                                                                        \n",
      " user_id       | null                                                                                                                                                                                                                                                  \n",
      " category      | [Polysaccharides]                                                                                                                                                                                                                                     \n",
      " image         | null                                                                                                                                                                                                                                                  \n",
      " main          | [Bacillariophyta, Heterokonts, Brown_algae, Laminarin, Phytoplankton, Photosynthetic, Polymer, Polysaccharide]                                                                                                                                        \n",
      " talk          | null                                                                                                                                                                                                                                                  \n",
      " user          | null                                                                                                                                                                                                                                                  \n",
      " user_talk     | null                                                                                                                                                                                                                                                  \n",
      " other         | null                                                                                                                                                                                                                                                  \n",
      " external      | [http://arnica.csustan.edu/boty1050/Protista/protista.htm, http://comenius.susqu.edu/bi/202/Protists/terms/chrysolaminarin.htm]                                                                                                                       \n",
      " template      | [Organic-compound-stub]                                                                                                                                                                                                                               \n",
      " comment       | null                                                                                                                                                                                                                                                  \n",
      " minor         | false                                                                                                                                                                                                                                                 \n",
      " textdata      | 72                                                                                                                                                                                                                                                    \n",
      " year          | 2007                                                                                                                                                                                                                                                  \n",
      " quarter       | 1                                                                                                                                                                                                                                                     \n",
      "only showing top 5 rows\n",
      "\n"
     ]
    }
   ],
   "source": [
    "enmain.show(n=5, vertical=True, truncate=False)"
   ]
  },
  {
   "cell_type": "code",
   "execution_count": 9,
   "metadata": {},
   "outputs": [],
   "source": [
    "article_sample = set(\n",
    "    map(lambda x: x.article_id, (\n",
    "            enmain\n",
    "            .groupBy(\"article_id\")\n",
    "            .agg(F.count(\"*\").alias(\"n_edits\"))\n",
    "            .where(\"n_edits > 10 and n_edits < 50\")\n",
    "            .orderBy(F.rand())\n",
    "            .take(1000)\n",
    "        )))"
   ]
  },
  {
   "cell_type": "code",
   "execution_count": 12,
   "metadata": {},
   "outputs": [
    {
     "data": {
      "text/plain": [
       "23143"
      ]
     },
     "execution_count": 12,
     "metadata": {},
     "output_type": "execute_result"
    }
   ],
   "source": [
    "sample = enmain.where(F.col(\"article_id\").isin(article_sample))\n",
    "sample.cache()\n",
    "sample.count()"
   ]
  },
  {
   "cell_type": "markdown",
   "metadata": {},
   "source": [
    "- How many times are they referenced in main? In user/talk?\n",
    "- Distribution of article edits (by count, by textdata)\n",
    "- Distribution of article age\n",
    "- Are the user references increasing? Can we create a diff?\n",
    "- Which is the canonical reference to time? Revision or timestamp?"
   ]
  },
  {
   "cell_type": "code",
   "execution_count": 54,
   "metadata": {},
   "outputs": [
    {
     "name": "stdout",
     "output_type": "stream",
     "text": [
      "-RECORD 0---------------------------------------------------------------------------------------------------------------------------------------------------------------------------------------------------------------------------------------------------------------------------------------------------------------------------------------------------------------------------------------------------------------------------------------------------------------------------------------------------------------------------------------------------------------------------------------------------------------------------------------------------------------------------------------------------------------------------------------------------------------------------------------\n",
      " article_id    | 18558                                                                                                                                                                                                                                                                                                                                                                                                                                                                                                                                                                                                                                                                                                                                                                          \n",
      " rev_id        | 99868                                                                                                                                                                                                                                                                                                                                                                                                                                                                                                                                                                                                                                                                                                                                                                          \n",
      " timestamp     | 2002-02-25 07:51:15                                                                                                                                                                                                                                                                                                                                                                                                                                                                                                                                                                                                                                                                                                                                                            \n",
      " article_title | Latin_music                                                                                                                                                                                                                                                                                                                                                                                                                                                                                                                                                                                                                                                                                                                                                                    \n",
      " main          | [Rock_en_espanol, Banda]                                                                                                                                                                                                                                                                                                                                                                                                                                                                                                                                                                                                                                                                                                                                                       \n",
      "-RECORD 1---------------------------------------------------------------------------------------------------------------------------------------------------------------------------------------------------------------------------------------------------------------------------------------------------------------------------------------------------------------------------------------------------------------------------------------------------------------------------------------------------------------------------------------------------------------------------------------------------------------------------------------------------------------------------------------------------------------------------------------------------------------------------------------\n",
      " article_id    | 18558                                                                                                                                                                                                                                                                                                                                                                                                                                                                                                                                                                                                                                                                                                                                                                          \n",
      " rev_id        | 99899                                                                                                                                                                                                                                                                                                                                                                                                                                                                                                                                                                                                                                                                                                                                                                          \n",
      " timestamp     | 2002-06-19 13:09:19                                                                                                                                                                                                                                                                                                                                                                                                                                                                                                                                                                                                                                                                                                                                                            \n",
      " article_title | Latin_music                                                                                                                                                                                                                                                                                                                                                                                                                                                                                                                                                                                                                                                                                                                                                                    \n",
      " main          | [Rock_en_espanol, Banda]                                                                                                                                                                                                                                                                                                                                                                                                                                                                                                                                                                                                                                                                                                                                                       \n",
      "-RECORD 2---------------------------------------------------------------------------------------------------------------------------------------------------------------------------------------------------------------------------------------------------------------------------------------------------------------------------------------------------------------------------------------------------------------------------------------------------------------------------------------------------------------------------------------------------------------------------------------------------------------------------------------------------------------------------------------------------------------------------------------------------------------------------------------\n",
      " article_id    | 18558                                                                                                                                                                                                                                                                                                                                                                                                                                                                                                                                                                                                                                                                                                                                                                          \n",
      " rev_id        | 99972                                                                                                                                                                                                                                                                                                                                                                                                                                                                                                                                                                                                                                                                                                                                                                          \n",
      " timestamp     | 2002-06-19 13:54:15                                                                                                                                                                                                                                                                                                                                                                                                                                                                                                                                                                                                                                                                                                                                                            \n",
      " article_title | Latin_music                                                                                                                                                                                                                                                                                                                                                                                                                                                                                                                                                                                                                                                                                                                                                                    \n",
      " main          | [Conga, Jelly_Roll_Morton, Sir_Douglas_Quintet, Big_band, St._Louis__Blues, Carlos_Santana, Vincent_Lopez, Dizzy_Gillespie, Jazz, Rhythm_and_blues, Rhythm_and_blues, Texas_Tornadoes, Doug_Sahm, Mambo, Judy_Garland, Salsa, Perez_Prado, Shakira, 30s, Tex_Mex, Tex_Mex, 50s, 50s, Rock_en_espanol, Latin_American, Hit_Parade, Xavier_Cugat, Jernmnifer_Lopez, Marijuana, Marc_Anthony, Johnny_Rodriquez, Big_Pun, Afro-Cuban_jazz, Popular_music, Desi_Arnaz, Mexico, 40s, Selena, 1990s, Rock_and_roll, Chuck_Berry, The_Champs, Country_music, Country_music, Ricky_Martin, Samba, Conjunto, Banda, Merengue, Jennifer_Lopez, Carmen_Miranda, Richie_Valens, Paso_doble, Mana, Clave, Christina_Aguilera, Question_Mark_and_the_Mysterians, Freddy_Fender, Wedding_song] \n",
      "only showing top 3 rows\n",
      "\n"
     ]
    }
   ],
   "source": [
    "rev_history = (\n",
    "    sample\n",
    "    .select(\"article_id\", \n",
    "            \"rev_id\", \n",
    "            \"timestamp\", \n",
    "            \"article_title\", \n",
    "            \"main\")\n",
    "    .orderBy(\"article_id\", \"rev_id\")\n",
    ")\n",
    "\n",
    "rev_history.show(n=3, vertical=True, truncate=False)\n",
    "rev_history.createOrReplaceTempView(\"rev_history\")"
   ]
  },
  {
   "cell_type": "code",
   "execution_count": 138,
   "metadata": {},
   "outputs": [
    {
     "name": "stdout",
     "output_type": "stream",
     "text": [
      "+----------+--------+---------------+-------------------+----+----+\n",
      "|article_id|  rev_id|  article_title|          timestamp|refs|diff|\n",
      "+----------+--------+---------------+-------------------+----+----+\n",
      "|   2029502|15059829|Per-Olov_Löwdin|2005-06-12 02:07:33|   4|null|\n",
      "|   2029502|15070286|Per-Olov_Löwdin|2005-06-12 02:19:44|   7|   3|\n",
      "|   2029502|17645885|Per-Olov_Löwdin|2005-06-12 08:50:42|   7|   0|\n",
      "|   2029502|18626082|Per-Olov_Löwdin|2005-07-11 13:59:21|   7|   0|\n",
      "|   2029502|19075949|Per-Olov_Löwdin|2005-07-18 05:30:43|   8|   1|\n",
      "|   2029502|19798880|Per-Olov_Löwdin|2005-07-28 11:14:38|   8|   0|\n",
      "|   2029502|20948757|Per-Olov_Löwdin|2005-08-13 14:32:56|  12|   4|\n",
      "|   2029502|23049120|Per-Olov_Löwdin|2005-09-11 11:01:25|  16|   4|\n",
      "|   2029502|27810111|Per-Olov_Löwdin|2005-11-09 03:01:27|  16|   0|\n",
      "|   2029502|36308025|Per-Olov_Löwdin|2006-01-22 19:25:43|  16|   0|\n",
      "|   2029502|40685718|Per-Olov_Löwdin|2006-02-21 23:57:03|  16|   0|\n",
      "|   2029502|42958835|Per-Olov_Löwdin|2006-03-09 04:21:00|  16|   0|\n",
      "|   2029502|42959664|Per-Olov_Löwdin|2006-03-09 04:31:54|  19|   3|\n",
      "|   2029502|42960726|Per-Olov_Löwdin|2006-03-09 04:43:07|  27|   8|\n",
      "|   2029502|42961422|Per-Olov_Löwdin|2006-03-09 04:50:10|  28|   1|\n",
      "|   2029502|42961576|Per-Olov_Löwdin|2006-03-09 04:51:43|  28|   0|\n",
      "|   2029502|56798798|Per-Olov_Löwdin|2006-06-04 02:06:48|  29|   1|\n",
      "|   2029502|56798820|Per-Olov_Löwdin|2006-06-04 02:07:09|  29|   0|\n",
      "|   2029502|56798959|Per-Olov_Löwdin|2006-06-04 02:08:38|  29|   0|\n",
      "|   2029502|64422677|Per-Olov_Löwdin|2006-07-17 23:40:04|  29|   0|\n",
      "+----------+--------+---------------+-------------------+----+----+\n",
      "only showing top 20 rows\n",
      "\n"
     ]
    }
   ],
   "source": [
    "from pyspark.sql.window import Window\n",
    "\n",
    "previous_rev = Window.partitionBy(\"article_id\").orderBy(\"rev_id\")\n",
    "\n",
    "diffs = (\n",
    "    revhistory\n",
    "    .select(\"article_id\", \"rev_id\", \"article_title\", \"timestamp\", F.size(\"main\").alias(\"refs\"))\n",
    "    .withColumn(\"diff\", F.col(\"refs\") - F.lag(\"refs\").over(previous_rev))\n",
    ")\n",
    "diffs.show()"
   ]
  },
  {
   "cell_type": "code",
   "execution_count": 192,
   "metadata": {},
   "outputs": [
    {
     "data": {
      "text/plain": [
       "[Row(article_id=60683, rev_id=110971, timestamp=datetime.datetime(2002, 7, 6, 1, 14, 10), article_title='Reality_enforcement', main=['A_priori', 'Consensus_reality', 'Idealism', 'Reality', 'Anti-psychiatry', 'Involuntary_commitment', 'Theory'], out_of_order=True),\n",
       " Row(article_id=18558, rev_id=265008, timestamp=datetime.datetime(2001, 12, 11, 12, 26, 53), article_title='Latin_music', main=None, out_of_order=True)]"
      ]
     },
     "execution_count": 192,
     "metadata": {},
     "output_type": "execute_result"
    }
   ],
   "source": [
    "revhistory.withColumn(\"out_of_order\", F.col(\"timestamp\") < F.lag(\"timestamp\").over(previous_rev)).where(\"out_of_order\").collect()"
   ]
  },
  {
   "cell_type": "code",
   "execution_count": 193,
   "metadata": {},
   "outputs": [
    {
     "data": {
      "text/plain": [
       "[Row(article_id=60683, rev_id=58542, timestamp=datetime.datetime(2002, 7, 8, 4, 16, 5), article_title='Reality_enforcement', main=['A_priori', 'Consensus_reality', 'Idealism', 'Reality', 'Anti-psychiatry', 'Delusion', 'Involuntary_commitment', 'Theory'], out_of_order=True),\n",
       " Row(article_id=18558, rev_id=99868, timestamp=datetime.datetime(2002, 2, 25, 7, 51, 15), article_title='Latin_music', main=['Rock_en_espanol', 'Banda'], out_of_order=True)]"
      ]
     },
     "execution_count": 193,
     "metadata": {},
     "output_type": "execute_result"
    }
   ],
   "source": [
    "prev_timestamp = Window.partitionBy(\"article_id\").orderBy(\"timestamp\")\n",
    "revhistory.withColumn(\"out_of_order\", F.col(\"rev_id\") < F.lag(\"rev_id\").over(prev_timestamp)).where(\"out_of_order\").collect()"
   ]
  },
  {
   "cell_type": "code",
   "execution_count": 134,
   "metadata": {},
   "outputs": [
    {
     "name": "stdout",
     "output_type": "stream",
     "text": [
      "+----------+--------+\n",
      "|article_id|max_size|\n",
      "+----------+--------+\n",
      "|    655357|    2422|\n",
      "|    209735|     677|\n",
      "|   1204658|     288|\n",
      "|   9303959|     248|\n",
      "|   1254664|     220|\n",
      "+----------+--------+\n",
      "only showing top 5 rows\n",
      "\n"
     ]
    }
   ],
   "source": [
    "import matplotlib.pyplot as plt\n",
    "\n",
    "max_size = spark.sql(\"\"\"\n",
    "select\n",
    "    article_id,\n",
    "    max(size(main)) as max_size\n",
    "from rev_history\n",
    "where main is not null\n",
    "group by 1\n",
    "order by 2 desc\n",
    "\"\"\")\n",
    "\n",
    "max_size.show(n=5)\n",
    "dist = max_size.groupby(\"max_size\").count().toPandas()"
   ]
  },
  {
   "cell_type": "code",
   "execution_count": 126,
   "metadata": {},
   "outputs": [
    {
     "data": {
      "image/png": "[encoded data removed]",
      "text/plain": [
       "<Figure size 432x288 with 1 Axes>"
      ]
     },
     "metadata": {
      "needs_background": "light"
     },
     "output_type": "display_data"
    }
   ],
   "source": [
    "import numpy as np\n",
    "plt.scatter(dist[\"max_size\"], dist[\"count\"]/dist[\"count\"].sum())\n",
    "plt.xscale('log')"
   ]
  },
  {
   "cell_type": "code",
   "execution_count": 145,
   "metadata": {},
   "outputs": [
    {
     "data": {
      "text/plain": [
       "[Row(article_id=1042254, diff=48),\n",
       " Row(article_id=500679, diff=48),\n",
       " Row(article_id=964726, diff=48),\n",
       " Row(article_id=182906, diff=48),\n",
       " Row(article_id=2496154, diff=48)]"
      ]
     },
     "execution_count": 145,
     "metadata": {},
     "output_type": "execute_result"
    }
   ],
   "source": [
    "articles_by_diff = diffs.groupBy(\"article_id\").agg(F.count(\"diff\").alias(\"diff\")).orderBy(F.desc(\"diff\")).collect()\n",
    "articles_by_diff[:5]"
   ]
  },
  {
   "cell_type": "code",
   "execution_count": 151,
   "metadata": {},
   "outputs": [
    {
     "name": "stdout",
     "output_type": "stream",
     "text": [
      "+----------+--------+-------------------+-------------+--------------------+\n",
      "|article_id|  rev_id|          timestamp|article_title|                main|\n",
      "+----------+--------+-------------------+-------------+--------------------+\n",
      "|   5539546|58317087|2006-06-12 19:14:33|  Glenn_Flear|    [Chess, Endgame]|\n",
      "|   5539546|58317583|2006-06-12 19:17:34|  Glenn_Flear|[England, Chess, ...|\n",
      "|   5539546|58317767|2006-06-12 19:18:45|  Glenn_Flear|[England, France,...|\n",
      "|   5539546|58324915|2006-06-12 20:10:08|  Glenn_Flear|[England, France,...|\n",
      "|   5539546|58324972|2006-06-12 20:10:33|  Glenn_Flear|[England, France,...|\n",
      "+----------+--------+-------------------+-------------+--------------------+\n",
      "only showing top 5 rows\n",
      "\n"
     ]
    }
   ],
   "source": [
    "freqedit = revhistory.where(revhistory.article_id == articles_by_diff[10].article_id)\n",
    "freqedit.show(n=5)"
   ]
  },
  {
   "cell_type": "code",
   "execution_count": 194,
   "metadata": {},
   "outputs": [
    {
     "name": "stdout",
     "output_type": "stream",
     "text": [
      "-RECORD 0-----------------------------------------------------------------------------------------------------------------------------------------------------------------\n",
      " article_title | Glenn_Flear                                                                                                                                              \n",
      " rev_id        | 58317583                                                                                                                                                 \n",
      " timestamp     | 2006-06-12 19:17:34                                                                                                                                      \n",
      " diff          | 2                                                                                                                                                        \n",
      " diff_remove   | []                                                                                                                                                       \n",
      " diff_add      | [England, Grandmaster]                                                                                                                                   \n",
      "-RECORD 1-----------------------------------------------------------------------------------------------------------------------------------------------------------------\n",
      " article_title | Glenn_Flear                                                                                                                                              \n",
      " rev_id        | 58317767                                                                                                                                                 \n",
      " timestamp     | 2006-06-12 19:18:45                                                                                                                                      \n",
      " diff          | 1                                                                                                                                                        \n",
      " diff_remove   | []                                                                                                                                                       \n",
      " diff_add      | [France]                                                                                                                                                 \n",
      "-RECORD 2-----------------------------------------------------------------------------------------------------------------------------------------------------------------\n",
      " article_title | Glenn_Flear                                                                                                                                              \n",
      " rev_id        | 58324915                                                                                                                                                 \n",
      " timestamp     | 2006-06-12 20:10:08                                                                                                                                      \n",
      " diff          | 1                                                                                                                                                        \n",
      " diff_remove   | []                                                                                                                                                       \n",
      " diff_add      | [Chess_openings]                                                                                                                                         \n",
      "-RECORD 3-----------------------------------------------------------------------------------------------------------------------------------------------------------------\n",
      " article_title | Glenn_Flear                                                                                                                                              \n",
      " rev_id        | 64160562                                                                                                                                                 \n",
      " timestamp     | 2006-07-16 12:48:34                                                                                                                                      \n",
      " diff          | 10                                                                                                                                                       \n",
      " diff_remove   | []                                                                                                                                                       \n",
      " diff_add      | [Rafael_Vaganian, John_Nunn, Bent_Larsen, Jon_Speelman, Lev_Polugaevsky, Nigel_Short, Lajos_Portisch, Zoltan_Ribli, Boris_Spassky, Murray_Chandler]      \n",
      "-RECORD 4-----------------------------------------------------------------------------------------------------------------------------------------------------------------\n",
      " article_title | Glenn_Flear                                                                                                                                              \n",
      " rev_id        | 64163071                                                                                                                                                 \n",
      " timestamp     | 2006-07-16 13:05:52                                                                                                                                      \n",
      " diff          | 2                                                                                                                                                        \n",
      " diff_remove   | [England]                                                                                                                                                \n",
      " diff_add      | [Leicester, 1959, February_12]                                                                                                                           \n",
      "-RECORD 5-----------------------------------------------------------------------------------------------------------------------------------------------------------------\n",
      " article_title | Glenn_Flear                                                                                                                                              \n",
      " rev_id        | 64163235                                                                                                                                                 \n",
      " timestamp     | 2006-07-16 13:07:01                                                                                                                                      \n",
      " diff          | 1                                                                                                                                                        \n",
      " diff_remove   | []                                                                                                                                                       \n",
      " diff_add      | [England]                                                                                                                                                \n",
      "-RECORD 6-----------------------------------------------------------------------------------------------------------------------------------------------------------------\n",
      " article_title | Glenn_Flear                                                                                                                                              \n",
      " rev_id        | 65342290                                                                                                                                                 \n",
      " timestamp     | 2006-07-23 00:33:09                                                                                                                                      \n",
      " diff          | 3                                                                                                                                                        \n",
      " diff_remove   | []                                                                                                                                                       \n",
      " diff_add      | [Dubai, Chess_Olympiad, Plovdiv]                                                                                                                         \n",
      "-RECORD 7-----------------------------------------------------------------------------------------------------------------------------------------------------------------\n",
      " article_title | Glenn_Flear                                                                                                                                              \n",
      " rev_id        | 65342331                                                                                                                                                 \n",
      " timestamp     | 2006-07-23 00:33:38                                                                                                                                      \n",
      " diff          | 1                                                                                                                                                        \n",
      " diff_remove   | []                                                                                                                                                       \n",
      " diff_add      | [European_Team_Championship]                                                                                                                             \n",
      "-RECORD 8-----------------------------------------------------------------------------------------------------------------------------------------------------------------\n",
      " article_title | Glenn_Flear                                                                                                                                              \n",
      " rev_id        | 81659368                                                                                                                                                 \n",
      " timestamp     | 2006-10-15 13:41:59                                                                                                                                      \n",
      " diff          | -2                                                                                                                                                       \n",
      " diff_remove   | [European_Team_Championship, Plovdiv]                                                                                                                    \n",
      " diff_add      | []                                                                                                                                                       \n",
      "-RECORD 9-----------------------------------------------------------------------------------------------------------------------------------------------------------------\n",
      " article_title | Glenn_Flear                                                                                                                                              \n",
      " rev_id        | 81878252                                                                                                                                                 \n",
      " timestamp     | 2006-10-16 15:45:28                                                                                                                                      \n",
      " diff          | 2                                                                                                                                                        \n",
      " diff_remove   | []                                                                                                                                                       \n",
      " diff_add      | [European_Team_Championship, Plovdiv]                                                                                                                    \n",
      "-RECORD 10----------------------------------------------------------------------------------------------------------------------------------------------------------------\n",
      " article_title | Glenn_Flear                                                                                                                                              \n",
      " rev_id        | 119000946                                                                                                                                                \n",
      " timestamp     | 2007-03-30 02:57:50                                                                                                                                      \n",
      " diff          | 1                                                                                                                                                        \n",
      " diff_remove   | []                                                                                                                                                       \n",
      " diff_add      | [Montpellier]                                                                                                                                            \n",
      "-RECORD 11----------------------------------------------------------------------------------------------------------------------------------------------------------------\n",
      " article_title | Glenn_Flear                                                                                                                                              \n",
      " rev_id        | 124515509                                                                                                                                                \n",
      " timestamp     | 2007-04-20 19:07:23                                                                                                                                      \n",
      " diff          | -6                                                                                                                                                       \n",
      " diff_remove   | [Rafael_Vaganian, Bent_Larsen, Jon_Speelman, Lev_Polugaevsky, Lajos_Portisch, Boris_Spassky]                                                             \n",
      " diff_add      | []                                                                                                                                                       \n",
      "-RECORD 12----------------------------------------------------------------------------------------------------------------------------------------------------------------\n",
      " article_title | Glenn_Flear                                                                                                                                              \n",
      " rev_id        | 124515550                                                                                                                                                \n",
      " timestamp     | 2007-04-20 19:07:37                                                                                                                                      \n",
      " diff          | -4                                                                                                                                                       \n",
      " diff_remove   | [Dubai, Chess_Olympiad, European_Team_Championship, Plovdiv]                                                                                             \n",
      " diff_add      | []                                                                                                                                                       \n",
      "-RECORD 13----------------------------------------------------------------------------------------------------------------------------------------------------------------\n",
      " article_title | Glenn_Flear                                                                                                                                              \n",
      " rev_id        | 124515595                                                                                                                                                \n",
      " timestamp     | 2007-04-20 19:07:58                                                                                                                                      \n",
      " diff          | 10                                                                                                                                                       \n",
      " diff_remove   | []                                                                                                                                                       \n",
      " diff_add      | [Dubai, Rafael_Vaganian, Bent_Larsen, Jon_Speelman, Lev_Polugaevsky, Chess_Olympiad, Lajos_Portisch, European_Team_Championship, Boris_Spassky, Plovdiv] \n",
      "-RECORD 14----------------------------------------------------------------------------------------------------------------------------------------------------------------\n",
      " article_title | Glenn_Flear                                                                                                                                              \n",
      " rev_id        | 167168534                                                                                                                                                \n",
      " timestamp     | 2007-10-26 00:16:14                                                                                                                                      \n",
      " diff          | 1                                                                                                                                                        \n",
      " diff_remove   | []                                                                                                                                                       \n",
      " diff_add      | [Kenneth_Whyld]                                                                                                                                          \n",
      "-RECORD 15----------------------------------------------------------------------------------------------------------------------------------------------------------------\n",
      " article_title | Glenn_Flear                                                                                                                                              \n",
      " rev_id        | 180012862                                                                                                                                                \n",
      " timestamp     | 2007-12-24 12:49:38                                                                                                                                      \n",
      " diff          | 2                                                                                                                                                        \n",
      " diff_remove   | []                                                                                                                                                       \n",
      " diff_add      | [Grandmaster, International_Master]                                                                                                                      \n",
      "\n"
     ]
    }
   ],
   "source": [
    "(\n",
    "    freqedit\n",
    "    .select(\n",
    "        \"article_title\",\n",
    "        \"rev_id\",\n",
    "        \"timestamp\",\n",
    "        (F.size(\"main\") - F.lag(F.size(\"main\")).over(previous_rev)).alias(\"diff\"),\n",
    "        F.array_except(F.lag(\"main\").over(previous_rev), \"main\").alias(\"diff_remove\"),\n",
    "        F.array_except(\"main\", F.lag(\"main\").over(previous_rev)).alias(\"diff_add\")\n",
    "    )\n",
    "    .where(\"diff <> 0\")\n",
    ").show(n=20, truncate=False, vertical=True)"
   ]
  }
 ],
 "metadata": {
  "kernelspec": {
   "display_name": "Python 3",
   "language": "python",
   "name": "python3"
  },
  "language_info": {
   "codemirror_mode": {
    "name": "ipython",
    "version": 3
   },
   "file_extension": ".py",
   "mimetype": "text/x-python",
   "name": "python",
   "nbconvert_exporter": "python",
   "pygments_lexer": "ipython3",
   "version": "3.6.6"
  }
 },
 "nbformat": 4,
 "nbformat_minor": 2
}
