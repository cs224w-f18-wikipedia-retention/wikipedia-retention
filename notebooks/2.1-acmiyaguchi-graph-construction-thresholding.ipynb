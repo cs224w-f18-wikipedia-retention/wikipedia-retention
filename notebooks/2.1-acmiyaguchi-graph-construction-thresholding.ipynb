{
 "cells": [
  {
   "cell_type": "code",
   "execution_count": 1,
   "metadata": {},
   "outputs": [],
   "source": [
    "%load_ext autoreload\n",
    "%autoreload 2"
   ]
  },
  {
   "cell_type": "markdown",
   "metadata": {},
   "source": [
    "# Spark Preprocessing"
   ]
  },
  {
   "cell_type": "code",
   "execution_count": 1,
   "metadata": {},
   "outputs": [],
   "source": [
    "from pyspark.sql import SparkSession, functions as F\n",
    "\n",
    "spark = SparkSession.builder.getOrCreate()\n",
    "df = spark.read.parquet(\"../data/processed/enwiki-meta-compact\")\n",
    "df.createOrReplaceTempView(\"enwiki\")"
   ]
  },
  {
   "cell_type": "code",
   "execution_count": 2,
   "metadata": {},
   "outputs": [
    {
     "name": "stdout",
     "output_type": "stream",
     "text": [
      "+-------+----------+----------+---------+\n",
      "|user_id|article_id|word_count|num_edits|\n",
      "+-------+----------+----------+---------+\n",
      "|     62|     31429|      1317|        3|\n",
      "|      4|     11701|       140|        1|\n",
      "|     66|     34340|       352|        1|\n",
      "|      2|      7655|       531|        1|\n",
      "|    188|     64109|       124|        1|\n",
      "+-------+----------+----------+---------+\n",
      "only showing top 5 rows\n",
      "\n",
      "CPU times: user 2.6 ms, sys: 7.17 ms, total: 9.77 ms\n",
      "Wall time: 14.4 s\n"
     ]
    }
   ],
   "source": [
    "def get_edges(period):\n",
    "    query = \"\"\"\n",
    "    with subset as (\n",
    "        SELECT\n",
    "            concat(year, '-', quarter) as period,\n",
    "            article_id,\n",
    "            cast(user_id as int) as user_id,\n",
    "            textdata\n",
    "        FROM\n",
    "            enwiki\n",
    "    )\n",
    "    -- collect the weighted edge-list\n",
    "    SELECT\n",
    "        user_id,\n",
    "        article_id,\n",
    "        sum(textdata) as word_count,\n",
    "        count(*) as num_edits \n",
    "    FROM\n",
    "        subset\n",
    "    WHERE\n",
    "        subset.user_id is not null AND\n",
    "        period = '{}'\n",
    "    GROUP BY 1, 2\n",
    "    \"\"\".format(period)\n",
    "\n",
    "    res = spark.sql(query)\n",
    "    return res\n",
    "\n",
    "%time get_edges('2002-1').show(n=5)"
   ]
  },
  {
   "cell_type": "code",
   "execution_count": 35,
   "metadata": {},
   "outputs": [
    {
     "name": "stdout",
     "output_type": "stream",
     "text": [
      "4694179\n",
      "+-------+----------+----------+---------+\n",
      "|user_id|article_id|word_count|num_edits|\n",
      "+-------+----------+----------+---------+\n",
      "| 239028|    618219|       509|        1|\n",
      "|1087617|   5561815|       202|        1|\n",
      "|2489796|   7823005|    100758|       48|\n",
      "| 643861|   7720015|       167|        2|\n",
      "| 789390|    284325|      1864|        1|\n",
      "+-------+----------+----------+---------+\n",
      "only showing top 5 rows\n",
      "\n"
     ]
    }
   ],
   "source": [
    "edges_df = get_edges('2007-1')\n",
    "edges_df.cache()\n",
    "edges_df.createOrReplaceTempView(\"edges\")\n",
    "print(edges_df.count())\n",
    "edges_df.show(n=5)"
   ]
  },
  {
   "cell_type": "code",
   "execution_count": 36,
   "metadata": {},
   "outputs": [
    {
     "data": {
      "text/plain": [
       "354500"
      ]
     },
     "execution_count": 36,
     "metadata": {},
     "output_type": "execute_result"
    }
   ],
   "source": [
    "user_count = edges_df.select(\"user_id\").distinct().count()\n",
    "user_count"
   ]
  },
  {
   "cell_type": "code",
   "execution_count": 7,
   "metadata": {},
   "outputs": [
    {
     "data": {
      "text/plain": [
       "196368"
      ]
     },
     "execution_count": 7,
     "metadata": {},
     "output_type": "execute_result"
    }
   ],
   "source": [
    "edges_df.where(\"num_edits > 1\").select(\"user_id\").distinct().count()"
   ]
  },
  {
   "cell_type": "code",
   "execution_count": 8,
   "metadata": {},
   "outputs": [
    {
     "data": {
      "text/plain": [
       "1291873"
      ]
     },
     "execution_count": 8,
     "metadata": {},
     "output_type": "execute_result"
    }
   ],
   "source": [
    "edges_df.select(\"article_id\").distinct().count()"
   ]
  },
  {
   "cell_type": "markdown",
   "metadata": {},
   "source": [
    "Remove all nodes with `degree = 1` and where the number of shared articles is greater than 1."
   ]
  },
  {
   "cell_type": "code",
   "execution_count": 14,
   "metadata": {},
   "outputs": [
    {
     "name": "stdout",
     "output_type": "stream",
     "text": [
      "3779272\n",
      "CPU times: user 5.47 ms, sys: 12.3 ms, total: 17.8 ms\n",
      "Wall time: 35.8 s\n"
     ]
    }
   ],
   "source": [
    "def project_common_neighbors(edges, threshold):\n",
    "    edges.createOrReplaceTempView(\"edges\")\n",
    "    query = \"\"\"\n",
    "    with unimodal_projection as (\n",
    "        SELECT\n",
    "            t1.user_id as e1,\n",
    "            t2.user_id as e2,\n",
    "            count(*) as shared_articles\n",
    "        FROM edges t1\n",
    "        JOIN edges t2 ON t1.article_id = t2.article_id\n",
    "        WHERE t1.user_id < t2.user_id\n",
    "        GROUP BY 1, 2\n",
    "    )\n",
    "\n",
    "    SELECT e1, e2, shared_articles\n",
    "    FROM unimodal_projection\n",
    "    WHERE shared_articles > {}\n",
    "    \"\"\".format(threshold)\n",
    "    return spark.sql(query)\n",
    "    \n",
    "\n",
    "%time print(project_common_neighbors(edges_df, 1).count())"
   ]
  },
  {
   "cell_type": "code",
   "execution_count": 37,
   "metadata": {},
   "outputs": [
    {
     "data": {
      "text/plain": [
       "0"
      ]
     },
     "execution_count": 37,
     "metadata": {},
     "output_type": "execute_result"
    }
   ],
   "source": [
    "import os\n",
    "\n",
    "elist = project_common_neighbors(edges_df, 0)\n",
    "\n",
    "path = \"../data/interim/2007Q1-user-network-v1\"\n",
    "elist.select(\"e1\", \"e2\").coalesce(1).write.csv(path, sep='\\t')\n",
    "os.system(\"mv {0}/*.csv {0}.csv && rm -r {0}\".format(path))"
   ]
  },
  {
   "cell_type": "code",
   "execution_count": 39,
   "metadata": {},
   "outputs": [
    {
     "name": "stdout",
     "output_type": "stream",
     "text": [
      "6995\t293836\r\n",
      "982822\t3309840\r\n",
      "218757\t433328\r\n",
      "33566\t3828001\r\n",
      "363815\t516856\r\n"
     ]
    }
   ],
   "source": [
    "!head -n5 \"../data/interim/2007Q1-user-network-v1.csv\""
   ]
  },
  {
   "cell_type": "code",
   "execution_count": 13,
   "metadata": {},
   "outputs": [
    {
     "name": "stdout",
     "output_type": "stream",
     "text": [
      "[(0, 344379, 29473902), (1, 115699, 3779272), (2, 63390, 1688425), (3, 43815, 1031248), (4, 33896, 720445), (5, 27785, 543160), (6, 23816, 429896), (7, 21013, 352194), (8, 18915, 295729), (9, 17197, 252971), (10, 15840, 219787), (11, 14655, 193441), (12, 13687, 172009), (13, 12815, 154293), (14, 12083, 139421), (15, 11405, 126689), (16, 10840, 115801), (17, 10308, 106445), (18, 9810, 98302), (19, 9409, 91176)]\n"
     ]
    }
   ],
   "source": [
    "import numpy as np\n",
    "import pyspark.sql.functions as F\n",
    "\n",
    "elist.cache()\n",
    "\n",
    "res = []\n",
    "for i in range(0, 20):\n",
    "    threshed = elist.where(F.col(\"shared_articles\") > i)\n",
    "    e1 = threshed.selectExpr(\"e1 as nodes\").distinct()\n",
    "    e2 = threshed.selectExpr(\"e2 as nodes\").distinct()\n",
    "    nodes = e1.union(e2).distinct().count()\n",
    "    edges = threshed.count()\n",
    "    res.append((i, nodes, edges))\n",
    "\n",
    "elist.unpersist()\n",
    "\n",
    "print(res)"
   ]
  },
  {
   "cell_type": "code",
   "execution_count": 28,
   "metadata": {},
   "outputs": [
    {
     "data": {
      "image/png": "[encoded data removed]",
      "text/plain": [
       "<Figure size 432x288 with 1 Axes>"
      ]
     },
     "metadata": {
      "needs_background": "light"
     },
     "output_type": "display_data"
    },
    {
     "data": {
      "image/png": "[encoded data removed]",
      "text/plain": [
       "<Figure size 432x288 with 1 Axes>"
      ]
     },
     "metadata": {
      "needs_background": "light"
     },
     "output_type": "display_data"
    },
    {
     "data": {
      "image/png": "[encoded data removed]",
      "text/plain": [
       "<Figure size 432x288 with 1 Axes>"
      ]
     },
     "metadata": {
      "needs_background": "light"
     },
     "output_type": "display_data"
    }
   ],
   "source": [
    "import matplotlib.pyplot as plt\n",
    "from functools import partial\n",
    "\n",
    "thresh, n_nodes, n_edges = zip(*res)\n",
    "plt.plot(thresh, n_nodes)\n",
    "plt.show()\n",
    "\n",
    "plt.plot(thresh, n_edges)\n",
    "plt.show()\n",
    "\n",
    "def density(nodes, edges):\n",
    "    total = nodes*(nodes-1)/2\n",
    "    return (1.0*edges)/total\n",
    "\n",
    "# not very useful\n",
    "plt.plot(thresh, map(lambda x: density(*x), zip(n_nodes, n_edges)))\n",
    "plt.show()"
   ]
  },
  {
   "cell_type": "code",
   "execution_count": 18,
   "metadata": {},
   "outputs": [
    {
     "data": {
      "text/plain": [
       "1825594"
      ]
     },
     "execution_count": 18,
     "metadata": {},
     "output_type": "execute_result"
    }
   ],
   "source": [
    "def get_edges_blocked(period):\n",
    "    query = \"\"\"\n",
    "    with subset as (\n",
    "        SELECT\n",
    "            concat(year, '-', quarter) as period,\n",
    "            dayofyear(timestamp) as doy,\n",
    "            article_id,\n",
    "            cast(user_id as int) as user_id,\n",
    "            textdata\n",
    "        FROM\n",
    "            enwiki\n",
    "    )\n",
    "    -- collect the weighted edge-list\n",
    "    SELECT\n",
    "        user_id,\n",
    "        article_id,\n",
    "        doy,\n",
    "        sum(textdata) as word_count,\n",
    "        count(*) as num_edits \n",
    "    FROM\n",
    "        subset\n",
    "    WHERE\n",
    "        subset.user_id is not null AND\n",
    "        period = '{}'\n",
    "    GROUP BY 1, 2, 3\n",
    "    \"\"\".format(period)\n",
    "\n",
    "    return spark.sql(query)\n",
    "\n",
    "\n",
    "def project_common_neighbors_by_day(edges, threshold):\n",
    "    edges.createOrReplaceTempView(\"edges\")\n",
    "    query = \"\"\"\n",
    "    with unimodal_projection as (\n",
    "        SELECT\n",
    "            t1.user_id as e1,\n",
    "            t2.user_id as e2,\n",
    "            count(*) as shared_articles\n",
    "        FROM edges t1\n",
    "        JOIN edges t2 \n",
    "        ON t1.article_id = t2.article_id AND t1.doy = t2.doy\n",
    "        WHERE t1.user_id < t2.user_id\n",
    "        GROUP BY 1, 2\n",
    "    )\n",
    "\n",
    "    SELECT e1, e2, shared_articles\n",
    "    FROM unimodal_projection\n",
    "    WHERE shared_articles > {}\n",
    "    \"\"\".format(threshold)\n",
    "    return spark.sql(query)\n",
    "    \n",
    "\n",
    "edge_blocked = get_edges_blocked(\"2007-1\")\n",
    "elist_day = project_common_neighbors_by_day(edge_blocked, 0)\n",
    "elist_day.cache()\n",
    "elist_day.count()"
   ]
  },
  {
   "cell_type": "code",
   "execution_count": 27,
   "metadata": {},
   "outputs": [
    {
     "name": "stdout",
     "output_type": "stream",
     "text": [
      "2007-1-enwiki-projection-roles.csv  agm_2007Q1_1000.csv  enwiki-meta-parquet\r\n",
      "2007Q1-edges-v1.csv\t\t    agm_2007Q1_100.csv\t role-2007-1\r\n",
      "2007Q1-user-network-v1.csv\t    agm_2007Q1_200.csv\t role-2007-2\r\n",
      "2007Q1-user-network-v2.csv\t    agm_2007Q1_500.csv\t role-2007-3\r\n",
      "agm\t\t\t\t    agm_2007Q1_50.csv\t role-2007-4\r\n"
     ]
    }
   ],
   "source": [
    "!ls ../data/interim/"
   ]
  },
  {
   "cell_type": "code",
   "execution_count": 31,
   "metadata": {},
   "outputs": [
    {
     "data": {
      "text/plain": [
       "0"
      ]
     },
     "execution_count": 31,
     "metadata": {},
     "output_type": "execute_result"
    }
   ],
   "source": [
    "import os\n",
    "path = \"../data/interim/2007Q1-user-network-v2\"\n",
    "elist_day.select(\"e1\", \"e2\").coalesce(1).write.csv(path, sep='\\t')\n",
    "\n",
    "os.system(\"mv {0}/*.csv {0}.csv && rm -r {0}\".format(path))"
   ]
  },
  {
   "cell_type": "code",
   "execution_count": 32,
   "metadata": {},
   "outputs": [
    {
     "name": "stdout",
     "output_type": "stream",
     "text": [
      "411035\t2372661\r\n",
      "238968\t372343\r\n",
      "297629\t2287529\r\n",
      "433328\t1915965\r\n",
      "94147\t416594\r\n"
     ]
    }
   ],
   "source": [
    "!head -n5 ../data/interim/2007Q1-user-network-v2.csv"
   ]
  },
  {
   "cell_type": "code",
   "execution_count": 19,
   "metadata": {},
   "outputs": [
    {
     "data": {
      "text/plain": [
       "[(0, 212654, 1825594),\n",
       " (1, 46451, 213195),\n",
       " (2, 23149, 88016),\n",
       " (3, 15282, 50116),\n",
       " (4, 11449, 33105),\n",
       " (5, 9156, 23882),\n",
       " (6, 7563, 18217),\n",
       " (7, 6451, 14468),\n",
       " (8, 5598, 11825),\n",
       " (9, 4930, 9844),\n",
       " (10, 4395, 8412),\n",
       " (11, 3964, 7266),\n",
       " (12, 3569, 6251),\n",
       " (13, 3260, 5500),\n",
       " (14, 2928, 4810),\n",
       " (15, 2709, 4328),\n",
       " (16, 2521, 3893),\n",
       " (17, 2339, 3533),\n",
       " (18, 2178, 3207),\n",
       " (19, 2025, 2905)]"
      ]
     },
     "execution_count": 19,
     "metadata": {},
     "output_type": "execute_result"
    }
   ],
   "source": [
    "res_day = []\n",
    "for i in range(0, 20):\n",
    "    threshed = elist_day.where(F.col(\"shared_articles\") > i)\n",
    "    e1 = threshed.selectExpr(\"e1 as nodes\").distinct()\n",
    "    e2 = threshed.selectExpr(\"e2 as nodes\").distinct()\n",
    "    nodes = e1.union(e2).distinct().count()\n",
    "    edges = threshed.select(\"e1\", \"e2\").distinct().count()\n",
    "    res_day.append((i, nodes, edges))\n",
    "\n",
    "res_day"
   ]
  },
  {
   "cell_type": "code",
   "execution_count": null,
   "metadata": {},
   "outputs": [],
   "source": [
    "thresh, n_nodes, n_edges = zip(*res)\n",
    "plt.plot(thresh, n_nodes)\n",
    "plt.show()\n",
    "\n",
    "plt.plot(thresh, n_edges)\n",
    "plt.show()"
   ]
  },
  {
   "cell_type": "code",
   "execution_count": 6,
   "metadata": {},
   "outputs": [
    {
     "data": {
      "text/plain": [
       "DataFrame[user_id: int, article_set: vector, hashes: array<vector>]"
      ]
     },
     "execution_count": 6,
     "metadata": {},
     "output_type": "execute_result"
    }
   ],
   "source": [
    "from pyspark.ml.feature import MinHashLSH\n",
    "from pyspark.ml.linalg import Vectors, VectorUDT\n",
    "from functools import partial\n",
    "\n",
    "def to_sparse(size, arr):\n",
    "    return Vectors.sparse(size, {idx: 1.0 for idx in arr})\n",
    "    \n",
    "\n",
    "n_articles = edges_df.selectExpr(\"max(article_id) as n_articles\").collect()[0].n_articles + 1\n",
    "sparse_udf = F.udf(partial(to_sparse, n_articles), VectorUDT())\n",
    "\n",
    "user_article = (\n",
    "    edges_df\n",
    "    .groupby(\"user_id\")\n",
    "    .agg(F.collect_set(\"article_id\").alias(\"article_set\"))\n",
    "    .withColumn(\"article_set\", sparse_udf(\"article_set\"))\n",
    ")\n",
    "\n",
    "mh = MinHashLSH(inputCol=\"article_set\", outputCol=\"hashes\", numHashTables=5)\n",
    "model = mh.fit(user_article)\n",
    "\n",
    "transformed = model.transform(user_article)\n",
    "transformed.cache()"
   ]
  },
  {
   "cell_type": "code",
   "execution_count": 7,
   "metadata": {},
   "outputs": [
    {
     "data": {
      "text/plain": [
       "221223"
      ]
     },
     "execution_count": 7,
     "metadata": {},
     "output_type": "execute_result"
    }
   ],
   "source": [
    "def simjoin(model, transformed, threshold=0.5):\n",
    "    return (\n",
    "        model.approxSimilarityJoin(transformed, transformed, threshold, distCol=\"JaccardDistance\")\n",
    "        .select(\n",
    "            F.col(\"datasetA.user_id\").alias(\"source\"),\n",
    "            F.col(\"datasetB.user_id\").alias(\"dest\"),\n",
    "            F.col(\"JaccardDistance\"))\n",
    "        .where(\"source < dest\")\n",
    "    )\n",
    "\n",
    "data = simjoin(model, transformed, 0.5)\n",
    "data.count()"
   ]
  },
  {
   "cell_type": "code",
   "execution_count": 9,
   "metadata": {},
   "outputs": [
    {
     "data": {
      "text/plain": [
       "[(0.0, 0, 0),\n",
       " (0.1, 92098, 220169),\n",
       " (0.2, 92172, 219708),\n",
       " (0.30000000000000004, 92265, 220171),\n",
       " (0.4, 93409, 221168),\n",
       " (0.5, 93546, 221042),\n",
       " (0.6000000000000001, 143766, 453561),\n",
       " (0.7000000000000001, 170424, 628656),\n",
       " (0.8, 188266, 769902),\n",
       " (0.9, 221774, 1024455),\n",
       " (1.0, 257831, 1254054)]"
      ]
     },
     "execution_count": 9,
     "metadata": {},
     "output_type": "execute_result"
    }
   ],
   "source": [
    "import numpy as np\n",
    "\n",
    "def sim_stats(data):\n",
    "    e1 = data.selectExpr(\"source as nodes\").distinct()\n",
    "    e2 = data.selectExpr(\"dest as nodes\").distinct()\n",
    "    nodes = e1.union(e2).distinct().count()\n",
    "    edges = data.count()\n",
    "    return nodes, edges\n",
    "\n",
    "res_sim = []\n",
    "for i in np.linspace(0, 1, 11):\n",
    "    data = simjoin(model, transformed, i)\n",
    "    n, e = sim_stats(data)\n",
    "    res_sim.append((i, n, e))\n",
    "\n",
    "res_sim"
   ]
  },
  {
   "cell_type": "code",
   "execution_count": 13,
   "metadata": {},
   "outputs": [
    {
     "data": {
      "image/png": "[encoded data removed]",
      "text/plain": [
       "<Figure size 432x288 with 1 Axes>"
      ]
     },
     "metadata": {
      "needs_background": "light"
     },
     "output_type": "display_data"
    },
    {
     "data": {
      "image/png": "[encoded data removed]",
      "text/plain": [
       "<Figure size 432x288 with 1 Axes>"
      ]
     },
     "metadata": {
      "needs_background": "light"
     },
     "output_type": "display_data"
    }
   ],
   "source": [
    "import matplotlib.pyplot as plt\n",
    "\n",
    "thresh, n_nodes, n_edges = zip(*res_sim)\n",
    "plt.plot(1-np.array(thresh), n_nodes)\n",
    "plt.show()\n",
    "\n",
    "plt.plot(1-np.array(thresh), n_edges)\n",
    "plt.show()"
   ]
  },
  {
   "cell_type": "markdown",
   "metadata": {},
   "source": [
    "# Snap processing"
   ]
  },
  {
   "cell_type": "code",
   "execution_count": 1,
   "metadata": {},
   "outputs": [
    {
     "name": "stdout",
     "output_type": "stream",
     "text": [
      "user_id,article_id,word_count,num_edits\r\n",
      "239028,618219,509,1\r\n",
      "1087617,5561815,202,1\r\n",
      "2489796,7823005,100758,48\r\n",
      "643861,7720015,167,2\r\n"
     ]
    }
   ],
   "source": [
    "! head -n5 ../data/interim/2007Q1-edges-v1.csv"
   ]
  },
  {
   "cell_type": "code",
   "execution_count": 2,
   "metadata": {},
   "outputs": [
    {
     "name": "stdout",
     "output_type": "stream",
     "text": [
      "3054371,516856,1\r\n",
      "6995,293836,1\r\n",
      "982822,3309840,1\r\n",
      "218757,433328,6\r\n",
      "33566,3828001,3\r\n"
     ]
    }
   ],
   "source": [
    "! head -n 5 ../data/interim/2007Q1-user-network-v1.csv"
   ]
  }
 ],
 "metadata": {
  "kernelspec": {
   "display_name": "Python 2",
   "language": "python",
   "name": "python2"
  },
  "language_info": {
   "codemirror_mode": {
    "name": "ipython",
    "version": 2
   },
   "file_extension": ".py",
   "mimetype": "text/x-python",
   "name": "python",
   "nbconvert_exporter": "python",
   "pygments_lexer": "ipython2",
   "version": "2.7.15"
  }
 },
 "nbformat": 4,
 "nbformat_minor": 2
}
