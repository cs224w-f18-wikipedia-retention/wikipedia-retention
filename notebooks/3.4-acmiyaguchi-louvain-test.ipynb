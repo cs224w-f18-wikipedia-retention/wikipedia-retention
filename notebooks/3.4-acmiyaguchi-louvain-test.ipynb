{
 "cells": [
  {
   "cell_type": "code",
   "execution_count": 1,
   "metadata": {},
   "outputs": [
    {
     "name": "stdout",
     "output_type": "stream",
     "text": [
      "/home/amiyaguchi/cs224w/wikipedia-retention\n"
     ]
    }
   ],
   "source": [
    "cd .."
   ]
  },
  {
   "cell_type": "code",
   "execution_count": 6,
   "metadata": {},
   "outputs": [
    {
     "name": "stdout",
     "output_type": "stream",
     "text": [
      "6128530 4663843\r\n",
      "6128531 4663844\r\n",
      "6128532 4663845\r\n",
      "6128533 4663846\r\n",
      "6128534 51705\r\n"
     ]
    }
   ],
   "source": [
    "! tail -n 5 data/processed/louvain_level5_modularity.tsv"
   ]
  },
  {
   "cell_type": "code",
   "execution_count": 7,
   "metadata": {},
   "outputs": [],
   "source": [
    "from pyspark.sql import SparkSession, functions as F\n",
    "\n",
    "spark = SparkSession.builder.getOrCreate()"
   ]
  },
  {
   "cell_type": "code",
   "execution_count": 9,
   "metadata": {},
   "outputs": [],
   "source": [
    "enwiki = spark.read.parquet(\"data/processed/enwiki-meta-compact\")"
   ]
  },
  {
   "cell_type": "code",
   "execution_count": 8,
   "metadata": {},
   "outputs": [
    {
     "name": "stdout",
     "output_type": "stream",
     "text": [
      "+-------+------------+\n",
      "|user_id|community_id|\n",
      "+-------+------------+\n",
      "|      0|           0|\n",
      "|      1|       51705|\n",
      "|      2|       51705|\n",
      "|      3|       51705|\n",
      "|      4|       51705|\n",
      "+-------+------------+\n",
      "only showing top 5 rows\n",
      "\n"
     ]
    }
   ],
   "source": [
    "louvain_df = spark.read.csv(\n",
    "    \"data/processed/louvain_level5_modularity.tsv\",\n",
    "    schema=\"user_id INT, community_id INT\",\n",
    "    sep=' ',\n",
    ")\n",
    "louvain_df.show(n=5)"
   ]
  },
  {
   "cell_type": "code",
   "execution_count": 13,
   "metadata": {},
   "outputs": [],
   "source": [
    "admins = spark.read.csv(\"data/processed/admin_mapping.csv\", schema=\"user_id INT, username STRING\")"
   ]
  },
  {
   "cell_type": "code",
   "execution_count": 17,
   "metadata": {},
   "outputs": [
    {
     "data": {
      "text/plain": [
       "1525762"
      ]
     },
     "execution_count": 17,
     "metadata": {},
     "output_type": "execute_result"
    }
   ],
   "source": [
    "summary = (\n",
    "    enwiki\n",
    "    .where(\"cast(user_id as int) is not null\")\n",
    "    .withColumn(\"user_id\", F.expr(\"cast(user_id as int)\"))\n",
    "    .groupby(\"user_id\")\n",
    "    .agg(\n",
    "        F.expr(\"log(sum(textdata)+1) as edit_count\"),\n",
    "        F.expr(\"count(distinct article_id) as n_articles\"),\n",
    "        F.expr(\"count(*) as n_edits\")\n",
    "    )\n",
    "    .join(admins.select(\"user_id\", F.lit(True).alias(\"is_admin\")), on=\"user_id\", how=\"left\")\n",
    "    .fillna(False)\n",
    "    .join(louvain_df, on=\"user_id\", how=\"left\")\n",
    "    .fillna(-1)\n",
    ")\n",
    "\n",
    "summary.cache()\n",
    "summary.count()"
   ]
  },
  {
   "cell_type": "code",
   "execution_count": 19,
   "metadata": {},
   "outputs": [],
   "source": [
    "summary.createOrReplaceTempView(\"summary\")"
   ]
  },
  {
   "cell_type": "code",
   "execution_count": 22,
   "metadata": {},
   "outputs": [
    {
     "data": {
      "text/plain": [
       "61067"
      ]
     },
     "execution_count": 22,
     "metadata": {},
     "output_type": "execute_result"
    }
   ],
   "source": [
    "spark.sql(\"select distinct community_id from summary\").count()"
   ]
  },
  {
   "cell_type": "code",
   "execution_count": 27,
   "metadata": {},
   "outputs": [
    {
     "name": "stdout",
     "output_type": "stream",
     "text": [
      "+------------+-------+--------+------------------+------------+\n",
      "|community_id|n_users|n_admins|   sum(edit_count)|sum(n_edits)|\n",
      "+------------+-------+--------+------------------+------------+\n",
      "|      972758| 613724|     174|5100580.8203973705|    27298829|\n",
      "|     1159752| 337346|      99| 2750866.345648309|    15194061|\n",
      "|       51705| 276304|     446|2277826.9965153104|    26449917|\n",
      "|     1866976| 156782|      23|1341586.6485320781|     6202260|\n",
      "|      313924|  55660|       6| 459204.6200409094|     2837420|\n",
      "|     1604435|   6690|       1| 52006.40890295624|      141737|\n",
      "|      453765|   5926|       1| 45245.67429800462|       85037|\n",
      "|      190747|   2814|       0|20841.004989795914|       62041|\n",
      "|       52157|   1420|       0|10773.834111095412|       18908|\n",
      "|      654127|     97|       0|235.86548729764655|         102|\n",
      "|     3513055|     92|       0| 724.3393082222365|         293|\n",
      "|     1726367|     92|       0| 726.0197960722212|        2214|\n",
      "|     2806597|     78|       0| 631.6159459337579|         313|\n",
      "|     1679424|     76|       0| 642.2421474450379|         720|\n",
      "|      962752|     68|       0| 418.6473020662548|          86|\n",
      "|     2671427|     63|       0| 603.0873983571024|         297|\n",
      "|      166027|     60|       0|480.82340942861504|         319|\n",
      "|     1152369|     48|       0|294.02111395844076|          53|\n",
      "|     2208905|     38|       0|301.59641052761526|         104|\n",
      "|     4184273|     37|       0|232.27497515933632|         327|\n",
      "+------------+-------+--------+------------------+------------+\n",
      "only showing top 20 rows\n",
      "\n"
     ]
    }
   ],
   "source": [
    "spark.sql(\"\"\"\n",
    "select\n",
    "    community_id,\n",
    "    count(distinct user_id) as n_users,\n",
    "    sum(cast(is_admin as int)) as n_admins,\n",
    "    sum(edit_count),\n",
    "    sum(n_edits)\n",
    "from summary\n",
    "group by 1\n",
    "order by 2 desc\n",
    "\"\"\").show()"
   ]
  }
 ],
 "metadata": {
  "kernelspec": {
   "display_name": "Python 3",
   "language": "python",
   "name": "python3"
  },
  "language_info": {
   "codemirror_mode": {
    "name": "ipython",
    "version": 3
   },
   "file_extension": ".py",
   "mimetype": "text/x-python",
   "name": "python",
   "nbconvert_exporter": "python",
   "pygments_lexer": "ipython3",
   "version": "3.7.0"
  }
 },
 "nbformat": 4,
 "nbformat_minor": 2
}
