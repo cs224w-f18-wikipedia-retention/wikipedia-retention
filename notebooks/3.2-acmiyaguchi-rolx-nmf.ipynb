{
 "cells": [
  {
   "cell_type": "code",
   "execution_count": 2,
   "metadata": {},
   "outputs": [
    {
     "name": "stdout",
     "output_type": "stream",
     "text": [
      "/home/amiyaguchi/cs224w/wikipedia-retention\n"
     ]
    }
   ],
   "source": [
    "cd .."
   ]
  },
  {
   "cell_type": "code",
   "execution_count": 3,
   "metadata": {},
   "outputs": [],
   "source": [
    "import pandas as pd\n",
    "\n",
    "df = pd.read_csv(\"data/processed/rolx-v\", header=None, sep=' ')"
   ]
  },
  {
   "cell_type": "code",
   "execution_count": 4,
   "metadata": {},
   "outputs": [
    {
     "data": {
      "text/html": [
       "<div>\n",
       "<style scoped>\n",
       "    .dataframe tbody tr th:only-of-type {\n",
       "        vertical-align: middle;\n",
       "    }\n",
       "\n",
       "    .dataframe tbody tr th {\n",
       "        vertical-align: top;\n",
       "    }\n",
       "\n",
       "    .dataframe thead th {\n",
       "        text-align: right;\n",
       "    }\n",
       "</style>\n",
       "<table border=\"1\" class=\"dataframe\">\n",
       "  <thead>\n",
       "    <tr style=\"text-align: right;\">\n",
       "      <th></th>\n",
       "      <th>0</th>\n",
       "      <th>1</th>\n",
       "      <th>2</th>\n",
       "      <th>3</th>\n",
       "      <th>4</th>\n",
       "      <th>5</th>\n",
       "      <th>6</th>\n",
       "      <th>7</th>\n",
       "      <th>8</th>\n",
       "      <th>9</th>\n",
       "      <th>...</th>\n",
       "      <th>42</th>\n",
       "      <th>43</th>\n",
       "      <th>44</th>\n",
       "      <th>45</th>\n",
       "      <th>46</th>\n",
       "      <th>47</th>\n",
       "      <th>48</th>\n",
       "      <th>49</th>\n",
       "      <th>50</th>\n",
       "      <th>51</th>\n",
       "    </tr>\n",
       "  </thead>\n",
       "  <tbody>\n",
       "    <tr>\n",
       "      <th>0</th>\n",
       "      <td>6425.0</td>\n",
       "      <td>1252030.0</td>\n",
       "      <td>5437202.0</td>\n",
       "      <td>7934837.0</td>\n",
       "      <td>1234.994141</td>\n",
       "      <td>1.097501e+09</td>\n",
       "      <td>170817.281250</td>\n",
       "      <td>9.823708e+09</td>\n",
       "      <td>1528981.875</td>\n",
       "      <td>1869379.000</td>\n",
       "      <td>...</td>\n",
       "      <td>2404.663818</td>\n",
       "      <td>337856608.0</td>\n",
       "      <td>310962.46875</td>\n",
       "      <td>3.109415e+09</td>\n",
       "      <td>2002417.000</td>\n",
       "      <td>338893600.0</td>\n",
       "      <td>308761.84375</td>\n",
       "      <td>3.135328e+09</td>\n",
       "      <td>1997065.250</td>\n",
       "      <td>337238208.0</td>\n",
       "    </tr>\n",
       "    <tr>\n",
       "      <th>1</th>\n",
       "      <td>2959.0</td>\n",
       "      <td>236281.0</td>\n",
       "      <td>3483336.0</td>\n",
       "      <td>3952939.0</td>\n",
       "      <td>1335.903687</td>\n",
       "      <td>4.858620e+08</td>\n",
       "      <td>164198.031250</td>\n",
       "      <td>4.268761e+09</td>\n",
       "      <td>1442636.500</td>\n",
       "      <td>1769694.125</td>\n",
       "      <td>...</td>\n",
       "      <td>2457.227051</td>\n",
       "      <td>328497920.0</td>\n",
       "      <td>310578.12500</td>\n",
       "      <td>3.072270e+09</td>\n",
       "      <td>1999905.875</td>\n",
       "      <td>335243104.0</td>\n",
       "      <td>306964.84375</td>\n",
       "      <td>3.140742e+09</td>\n",
       "      <td>1988548.625</td>\n",
       "      <td>333772448.0</td>\n",
       "    </tr>\n",
       "    <tr>\n",
       "      <th>2</th>\n",
       "      <td>10235.0</td>\n",
       "      <td>1396460.0</td>\n",
       "      <td>6005368.0</td>\n",
       "      <td>8788053.0</td>\n",
       "      <td>858.627563</td>\n",
       "      <td>1.046455e+09</td>\n",
       "      <td>102242.835938</td>\n",
       "      <td>1.199413e+10</td>\n",
       "      <td>1171874.375</td>\n",
       "      <td>1375504.250</td>\n",
       "      <td>...</td>\n",
       "      <td>2471.866455</td>\n",
       "      <td>332505152.0</td>\n",
       "      <td>316542.68750</td>\n",
       "      <td>3.094534e+09</td>\n",
       "      <td>2028123.250</td>\n",
       "      <td>341046080.0</td>\n",
       "      <td>308040.53125</td>\n",
       "      <td>3.193330e+09</td>\n",
       "      <td>1999627.625</td>\n",
       "      <td>336064192.0</td>\n",
       "    </tr>\n",
       "    <tr>\n",
       "      <th>3</th>\n",
       "      <td>105.0</td>\n",
       "      <td>2598.0</td>\n",
       "      <td>447860.0</td>\n",
       "      <td>452951.0</td>\n",
       "      <td>4313.818848</td>\n",
       "      <td>6.886670e+07</td>\n",
       "      <td>655873.375000</td>\n",
       "      <td>3.422819e+08</td>\n",
       "      <td>3259827.750</td>\n",
       "      <td>4567261.500</td>\n",
       "      <td>...</td>\n",
       "      <td>2376.960205</td>\n",
       "      <td>344903008.0</td>\n",
       "      <td>309467.56250</td>\n",
       "      <td>3.211684e+09</td>\n",
       "      <td>2016765.125</td>\n",
       "      <td>339384704.0</td>\n",
       "      <td>310340.50000</td>\n",
       "      <td>3.149223e+09</td>\n",
       "      <td>2014740.875</td>\n",
       "      <td>339198272.0</td>\n",
       "    </tr>\n",
       "    <tr>\n",
       "      <th>4</th>\n",
       "      <td>4360.0</td>\n",
       "      <td>504545.0</td>\n",
       "      <td>4665195.0</td>\n",
       "      <td>5669925.0</td>\n",
       "      <td>1300.441528</td>\n",
       "      <td>7.075592e+08</td>\n",
       "      <td>162284.218750</td>\n",
       "      <td>6.522889e+09</td>\n",
       "      <td>1496075.375</td>\n",
       "      <td>1819343.500</td>\n",
       "      <td>...</td>\n",
       "      <td>2404.033936</td>\n",
       "      <td>333137120.0</td>\n",
       "      <td>308907.03125</td>\n",
       "      <td>3.097117e+09</td>\n",
       "      <td>2005056.875</td>\n",
       "      <td>336754208.0</td>\n",
       "      <td>307344.87500</td>\n",
       "      <td>3.136502e+09</td>\n",
       "      <td>1997853.125</td>\n",
       "      <td>335776928.0</td>\n",
       "    </tr>\n",
       "  </tbody>\n",
       "</table>\n",
       "<p>5 rows × 52 columns</p>\n",
       "</div>"
      ],
      "text/plain": [
       "        0          1          2          3            4             5   \\\n",
       "0   6425.0  1252030.0  5437202.0  7934837.0  1234.994141  1.097501e+09   \n",
       "1   2959.0   236281.0  3483336.0  3952939.0  1335.903687  4.858620e+08   \n",
       "2  10235.0  1396460.0  6005368.0  8788053.0   858.627563  1.046455e+09   \n",
       "3    105.0     2598.0   447860.0   452951.0  4313.818848  6.886670e+07   \n",
       "4   4360.0   504545.0  4665195.0  5669925.0  1300.441528  7.075592e+08   \n",
       "\n",
       "              6             7            8            9      ...       \\\n",
       "0  170817.281250  9.823708e+09  1528981.875  1869379.000     ...        \n",
       "1  164198.031250  4.268761e+09  1442636.500  1769694.125     ...        \n",
       "2  102242.835938  1.199413e+10  1171874.375  1375504.250     ...        \n",
       "3  655873.375000  3.422819e+08  3259827.750  4567261.500     ...        \n",
       "4  162284.218750  6.522889e+09  1496075.375  1819343.500     ...        \n",
       "\n",
       "            42           43            44            45           46  \\\n",
       "0  2404.663818  337856608.0  310962.46875  3.109415e+09  2002417.000   \n",
       "1  2457.227051  328497920.0  310578.12500  3.072270e+09  1999905.875   \n",
       "2  2471.866455  332505152.0  316542.68750  3.094534e+09  2028123.250   \n",
       "3  2376.960205  344903008.0  309467.56250  3.211684e+09  2016765.125   \n",
       "4  2404.033936  333137120.0  308907.03125  3.097117e+09  2005056.875   \n",
       "\n",
       "            47            48            49           50           51  \n",
       "0  338893600.0  308761.84375  3.135328e+09  1997065.250  337238208.0  \n",
       "1  335243104.0  306964.84375  3.140742e+09  1988548.625  333772448.0  \n",
       "2  341046080.0  308040.53125  3.193330e+09  1999627.625  336064192.0  \n",
       "3  339384704.0  310340.50000  3.149223e+09  2014740.875  339198272.0  \n",
       "4  336754208.0  307344.87500  3.136502e+09  1997853.125  335776928.0  \n",
       "\n",
       "[5 rows x 52 columns]"
      ]
     },
     "execution_count": 4,
     "metadata": {},
     "output_type": "execute_result"
    }
   ],
   "source": [
    "df.head()"
   ]
  },
  {
   "cell_type": "code",
   "execution_count": 5,
   "metadata": {},
   "outputs": [
    {
     "data": {
      "text/plain": [
       "(943475, 52)"
      ]
     },
     "execution_count": 5,
     "metadata": {},
     "output_type": "execute_result"
    }
   ],
   "source": [
    "df.shape"
   ]
  },
  {
   "cell_type": "code",
   "execution_count": 8,
   "metadata": {},
   "outputs": [],
   "source": [
    "from sklearn.decomposition import NMF\n",
    "import numpy as np\n",
    "\n",
    "def description_length_error(V, G, F):\n",
    "    B = 64\n",
    "    M = B * V.shape[1] * (V.shape[0] + F.shape[1])\n",
    "    GF = G.dot(F)\n",
    "    E = (V*np.ma.log(np.ma.divide(V, GF)) - V + GF).sum()\n",
    "    return -(M + E)\n",
    "\n",
    "\n",
    "def rolx_error(estimator, X, y):\n",
    "    G = estimator.transform(X)\n",
    "    F = estimator.components_\n",
    "    return description_length_error(y, G, F)"
   ]
  },
  {
   "cell_type": "code",
   "execution_count": 32,
   "metadata": {},
   "outputs": [
    {
     "data": {
      "text/plain": [
       "3280237805554.9614"
      ]
     },
     "execution_count": 32,
     "metadata": {},
     "output_type": "execute_result"
    }
   ],
   "source": [
    "V = df.iloc[:, 1:].values\n",
    "model = NMF(n_components=31)\n",
    "model.fit(V)\n",
    "G = model.transform(V)\n",
    "F = model.components_\n",
    "\n",
    "B = 64\n",
    "M = B * V.shape[1] * (V.shape[0] + F.shape[1])\n",
    "GF = G.dot(F)\n",
    "E = (V*np.ma.log(np.ma.divide(V,GF)) - V + GF).sum()\n",
    "M+E"
   ]
  },
  {
   "cell_type": "code",
   "execution_count": 33,
   "metadata": {},
   "outputs": [
    {
     "name": "stdout",
     "output_type": "stream",
     "text": [
      "CPU times: user 12min 53s, sys: 3min 36s, total: 16min 29s\n",
      "Wall time: 4min 36s\n"
     ]
    },
    {
     "data": {
      "text/plain": [
       "-3280237805554.9614"
      ]
     },
     "execution_count": 33,
     "metadata": {},
     "output_type": "execute_result"
    }
   ],
   "source": [
    "%time rolx_error(model, V, V)"
   ]
  },
  {
   "cell_type": "code",
   "execution_count": null,
   "metadata": {},
   "outputs": [
    {
     "name": "stderr",
     "output_type": "stream",
     "text": [
      "/home/amiyaguchi/cs224w/wikipedia-retention/venv3/lib/python3.6/site-packages/sklearn/decomposition/nmf.py:1035: ConvergenceWarning: Maximum number of iteration 200 reached. Increase it to improve convergence.\n",
      "  \" improve convergence.\" % max_iter, ConvergenceWarning)\n",
      "/home/amiyaguchi/cs224w/wikipedia-retention/venv3/lib/python3.6/site-packages/sklearn/decomposition/nmf.py:1035: ConvergenceWarning: Maximum number of iteration 200 reached. Increase it to improve convergence.\n",
      "  \" improve convergence.\" % max_iter, ConvergenceWarning)\n",
      "/home/amiyaguchi/cs224w/wikipedia-retention/venv3/lib/python3.6/site-packages/sklearn/decomposition/nmf.py:1035: ConvergenceWarning: Maximum number of iteration 200 reached. Increase it to improve convergence.\n",
      "  \" improve convergence.\" % max_iter, ConvergenceWarning)\n",
      "/home/amiyaguchi/cs224w/wikipedia-retention/venv3/lib/python3.6/site-packages/sklearn/decomposition/nmf.py:1035: ConvergenceWarning: Maximum number of iteration 200 reached. Increase it to improve convergence.\n",
      "  \" improve convergence.\" % max_iter, ConvergenceWarning)\n",
      "/home/amiyaguchi/cs224w/wikipedia-retention/venv3/lib/python3.6/site-packages/sklearn/decomposition/nmf.py:1035: ConvergenceWarning: Maximum number of iteration 200 reached. Increase it to improve convergence.\n",
      "  \" improve convergence.\" % max_iter, ConvergenceWarning)\n",
      "/home/amiyaguchi/cs224w/wikipedia-retention/venv3/lib/python3.6/site-packages/sklearn/decomposition/nmf.py:1035: ConvergenceWarning: Maximum number of iteration 200 reached. Increase it to improve convergence.\n",
      "  \" improve convergence.\" % max_iter, ConvergenceWarning)\n",
      "/home/amiyaguchi/cs224w/wikipedia-retention/venv3/lib/python3.6/site-packages/sklearn/decomposition/nmf.py:1035: ConvergenceWarning: Maximum number of iteration 200 reached. Increase it to improve convergence.\n",
      "  \" improve convergence.\" % max_iter, ConvergenceWarning)\n",
      "/home/amiyaguchi/cs224w/wikipedia-retention/venv3/lib/python3.6/site-packages/sklearn/decomposition/nmf.py:1035: ConvergenceWarning: Maximum number of iteration 200 reached. Increase it to improve convergence.\n",
      "  \" improve convergence.\" % max_iter, ConvergenceWarning)\n",
      "/home/amiyaguchi/cs224w/wikipedia-retention/venv3/lib/python3.6/site-packages/sklearn/decomposition/nmf.py:1035: ConvergenceWarning: Maximum number of iteration 200 reached. Increase it to improve convergence.\n",
      "  \" improve convergence.\" % max_iter, ConvergenceWarning)\n",
      "/home/amiyaguchi/cs224w/wikipedia-retention/venv3/lib/python3.6/site-packages/sklearn/decomposition/nmf.py:1035: ConvergenceWarning: Maximum number of iteration 200 reached. Increase it to improve convergence.\n",
      "  \" improve convergence.\" % max_iter, ConvergenceWarning)\n",
      "/home/amiyaguchi/cs224w/wikipedia-retention/venv3/lib/python3.6/site-packages/sklearn/decomposition/nmf.py:1035: ConvergenceWarning: Maximum number of iteration 200 reached. Increase it to improve convergence.\n",
      "  \" improve convergence.\" % max_iter, ConvergenceWarning)\n",
      "/home/amiyaguchi/cs224w/wikipedia-retention/venv3/lib/python3.6/site-packages/sklearn/decomposition/nmf.py:1035: ConvergenceWarning: Maximum number of iteration 200 reached. Increase it to improve convergence.\n",
      "  \" improve convergence.\" % max_iter, ConvergenceWarning)\n",
      "/home/amiyaguchi/cs224w/wikipedia-retention/venv3/lib/python3.6/site-packages/sklearn/decomposition/nmf.py:1035: ConvergenceWarning: Maximum number of iteration 200 reached. Increase it to improve convergence.\n",
      "  \" improve convergence.\" % max_iter, ConvergenceWarning)\n",
      "/home/amiyaguchi/cs224w/wikipedia-retention/venv3/lib/python3.6/site-packages/sklearn/decomposition/nmf.py:1035: ConvergenceWarning: Maximum number of iteration 200 reached. Increase it to improve convergence.\n",
      "  \" improve convergence.\" % max_iter, ConvergenceWarning)\n",
      "/home/amiyaguchi/cs224w/wikipedia-retention/venv3/lib/python3.6/site-packages/sklearn/decomposition/nmf.py:1035: ConvergenceWarning: Maximum number of iteration 200 reached. Increase it to improve convergence.\n",
      "  \" improve convergence.\" % max_iter, ConvergenceWarning)\n",
      "/home/amiyaguchi/cs224w/wikipedia-retention/venv3/lib/python3.6/site-packages/sklearn/decomposition/nmf.py:1035: ConvergenceWarning: Maximum number of iteration 200 reached. Increase it to improve convergence.\n",
      "  \" improve convergence.\" % max_iter, ConvergenceWarning)\n",
      "/home/amiyaguchi/cs224w/wikipedia-retention/venv3/lib/python3.6/site-packages/sklearn/decomposition/nmf.py:1035: ConvergenceWarning: Maximum number of iteration 200 reached. Increase it to improve convergence.\n",
      "  \" improve convergence.\" % max_iter, ConvergenceWarning)\n",
      "/home/amiyaguchi/cs224w/wikipedia-retention/venv3/lib/python3.6/site-packages/sklearn/decomposition/nmf.py:1035: ConvergenceWarning: Maximum number of iteration 200 reached. Increase it to improve convergence.\n",
      "  \" improve convergence.\" % max_iter, ConvergenceWarning)\n",
      "/home/amiyaguchi/cs224w/wikipedia-retention/venv3/lib/python3.6/site-packages/sklearn/decomposition/nmf.py:1035: ConvergenceWarning: Maximum number of iteration 200 reached. Increase it to improve convergence.\n",
      "  \" improve convergence.\" % max_iter, ConvergenceWarning)\n"
     ]
    }
   ],
   "source": [
    "from time import time\n",
    "from scipy.stats import randint as sp_randint\n",
    "from sklearn.model_selection import RandomizedSearchCV\n",
    "\n",
    "V = df.iloc[:, 1:].values\n",
    "\n",
    "\n",
    "def error(estimator, X, y):\n",
    "    return -estimator.reconstruction_err_\n",
    "\n",
    "n_iter_search = 8\n",
    "random_search = RandomizedSearchCV(\n",
    "    NMF(solver='mu', beta_loss='kullback-leibler'), \n",
    "    param_distributions={\"n_components\": sp_randint(1, 64)},\n",
    "    n_iter=n_iter_search,\n",
    "    scoring=error\n",
    ")\n",
    "\n",
    "start = time()\n",
    "random_search.fit(V, V)\n",
    "print(\"RandomizedSearchCV took %.2f seconds for %d candidates\"\n",
    "      \" parameter settings.\" % ((time() - start), n_iter_search))"
   ]
  },
  {
   "cell_type": "code",
   "execution_count": null,
   "metadata": {},
   "outputs": [],
   "source": [
    "random_search.best_estimator_"
   ]
  }
 ],
 "metadata": {
  "kernelspec": {
   "display_name": "Python 3",
   "language": "python",
   "name": "python3"
  },
  "language_info": {
   "codemirror_mode": {
    "name": "ipython",
    "version": 3
   },
   "file_extension": ".py",
   "mimetype": "text/x-python",
   "name": "python",
   "nbconvert_exporter": "python",
   "pygments_lexer": "ipython3",
   "version": "3.6.6"
  }
 },
 "nbformat": 4,
 "nbformat_minor": 2
}
