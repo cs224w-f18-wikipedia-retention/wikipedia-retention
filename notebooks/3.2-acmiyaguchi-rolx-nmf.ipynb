{
 "cells": [
  {
   "cell_type": "code",
   "execution_count": 2,
   "metadata": {},
   "outputs": [
    {
     "name": "stdout",
     "output_type": "stream",
     "text": [
      "/home/amiyaguchi/cs224w/wikipedia-retention\n"
     ]
    }
   ],
   "source": [
    "cd .."
   ]
  },
  {
   "cell_type": "code",
   "execution_count": 3,
   "metadata": {},
   "outputs": [],
   "source": [
    "import pandas as pd\n",
    "\n",
    "df = pd.read_csv(\"data/processed/rolx-v\", header=None, sep=' ')"
   ]
  },
  {
   "cell_type": "code",
   "execution_count": 4,
   "metadata": {},
   "outputs": [
    {
     "data": {
      "text/html": [
       "<div>\n",
       "<style scoped>\n",
       "    .dataframe tbody tr th:only-of-type {\n",
       "        vertical-align: middle;\n",
       "    }\n",
       "\n",
       "    .dataframe tbody tr th {\n",
       "        vertical-align: top;\n",
       "    }\n",
       "\n",
       "    .dataframe thead th {\n",
       "        text-align: right;\n",
       "    }\n",
       "</style>\n",
       "<table border=\"1\" class=\"dataframe\">\n",
       "  <thead>\n",
       "    <tr style=\"text-align: right;\">\n",
       "      <th></th>\n",
       "      <th>0</th>\n",
       "      <th>1</th>\n",
       "      <th>2</th>\n",
       "      <th>3</th>\n",
       "      <th>4</th>\n",
       "      <th>5</th>\n",
       "      <th>6</th>\n",
       "      <th>7</th>\n",
       "      <th>8</th>\n",
       "      <th>9</th>\n",
       "      <th>...</th>\n",
       "      <th>42</th>\n",
       "      <th>43</th>\n",
       "      <th>44</th>\n",
       "      <th>45</th>\n",
       "      <th>46</th>\n",
       "      <th>47</th>\n",
       "      <th>48</th>\n",
       "      <th>49</th>\n",
       "      <th>50</th>\n",
       "      <th>51</th>\n",
       "    </tr>\n",
       "  </thead>\n",
       "  <tbody>\n",
       "    <tr>\n",
       "      <th>0</th>\n",
       "      <td>6425.0</td>\n",
       "      <td>1252030.0</td>\n",
       "      <td>5437202.0</td>\n",
       "      <td>7934837.0</td>\n",
       "      <td>1234.994141</td>\n",
       "      <td>1.097501e+09</td>\n",
       "      <td>170817.281250</td>\n",
       "      <td>9.823708e+09</td>\n",
       "      <td>1528981.875</td>\n",
       "      <td>1869379.000</td>\n",
       "      <td>...</td>\n",
       "      <td>2404.663818</td>\n",
       "      <td>337856608.0</td>\n",
       "      <td>310962.46875</td>\n",
       "      <td>3.109415e+09</td>\n",
       "      <td>2002417.000</td>\n",
       "      <td>338893600.0</td>\n",
       "      <td>308761.84375</td>\n",
       "      <td>3.135328e+09</td>\n",
       "      <td>1997065.250</td>\n",
       "      <td>337238208.0</td>\n",
       "    </tr>\n",
       "    <tr>\n",
       "      <th>1</th>\n",
       "      <td>2959.0</td>\n",
       "      <td>236281.0</td>\n",
       "      <td>3483336.0</td>\n",
       "      <td>3952939.0</td>\n",
       "      <td>1335.903687</td>\n",
       "      <td>4.858620e+08</td>\n",
       "      <td>164198.031250</td>\n",
       "      <td>4.268761e+09</td>\n",
       "      <td>1442636.500</td>\n",
       "      <td>1769694.125</td>\n",
       "      <td>...</td>\n",
       "      <td>2457.227051</td>\n",
       "      <td>328497920.0</td>\n",
       "      <td>310578.12500</td>\n",
       "      <td>3.072270e+09</td>\n",
       "      <td>1999905.875</td>\n",
       "      <td>335243104.0</td>\n",
       "      <td>306964.84375</td>\n",
       "      <td>3.140742e+09</td>\n",
       "      <td>1988548.625</td>\n",
       "      <td>333772448.0</td>\n",
       "    </tr>\n",
       "    <tr>\n",
       "      <th>2</th>\n",
       "      <td>10235.0</td>\n",
       "      <td>1396460.0</td>\n",
       "      <td>6005368.0</td>\n",
       "      <td>8788053.0</td>\n",
       "      <td>858.627563</td>\n",
       "      <td>1.046455e+09</td>\n",
       "      <td>102242.835938</td>\n",
       "      <td>1.199413e+10</td>\n",
       "      <td>1171874.375</td>\n",
       "      <td>1375504.250</td>\n",
       "      <td>...</td>\n",
       "      <td>2471.866455</td>\n",
       "      <td>332505152.0</td>\n",
       "      <td>316542.68750</td>\n",
       "      <td>3.094534e+09</td>\n",
       "      <td>2028123.250</td>\n",
       "      <td>341046080.0</td>\n",
       "      <td>308040.53125</td>\n",
       "      <td>3.193330e+09</td>\n",
       "      <td>1999627.625</td>\n",
       "      <td>336064192.0</td>\n",
       "    </tr>\n",
       "    <tr>\n",
       "      <th>3</th>\n",
       "      <td>105.0</td>\n",
       "      <td>2598.0</td>\n",
       "      <td>447860.0</td>\n",
       "      <td>452951.0</td>\n",
       "      <td>4313.818848</td>\n",
       "      <td>6.886670e+07</td>\n",
       "      <td>655873.375000</td>\n",
       "      <td>3.422819e+08</td>\n",
       "      <td>3259827.750</td>\n",
       "      <td>4567261.500</td>\n",
       "      <td>...</td>\n",
       "      <td>2376.960205</td>\n",
       "      <td>344903008.0</td>\n",
       "      <td>309467.56250</td>\n",
       "      <td>3.211684e+09</td>\n",
       "      <td>2016765.125</td>\n",
       "      <td>339384704.0</td>\n",
       "      <td>310340.50000</td>\n",
       "      <td>3.149223e+09</td>\n",
       "      <td>2014740.875</td>\n",
       "      <td>339198272.0</td>\n",
       "    </tr>\n",
       "    <tr>\n",
       "      <th>4</th>\n",
       "      <td>4360.0</td>\n",
       "      <td>504545.0</td>\n",
       "      <td>4665195.0</td>\n",
       "      <td>5669925.0</td>\n",
       "      <td>1300.441528</td>\n",
       "      <td>7.075592e+08</td>\n",
       "      <td>162284.218750</td>\n",
       "      <td>6.522889e+09</td>\n",
       "      <td>1496075.375</td>\n",
       "      <td>1819343.500</td>\n",
       "      <td>...</td>\n",
       "      <td>2404.033936</td>\n",
       "      <td>333137120.0</td>\n",
       "      <td>308907.03125</td>\n",
       "      <td>3.097117e+09</td>\n",
       "      <td>2005056.875</td>\n",
       "      <td>336754208.0</td>\n",
       "      <td>307344.87500</td>\n",
       "      <td>3.136502e+09</td>\n",
       "      <td>1997853.125</td>\n",
       "      <td>335776928.0</td>\n",
       "    </tr>\n",
       "  </tbody>\n",
       "</table>\n",
       "<p>5 rows × 52 columns</p>\n",
       "</div>"
      ],
      "text/plain": [
       "        0          1          2          3            4             5   \\\n",
       "0   6425.0  1252030.0  5437202.0  7934837.0  1234.994141  1.097501e+09   \n",
       "1   2959.0   236281.0  3483336.0  3952939.0  1335.903687  4.858620e+08   \n",
       "2  10235.0  1396460.0  6005368.0  8788053.0   858.627563  1.046455e+09   \n",
       "3    105.0     2598.0   447860.0   452951.0  4313.818848  6.886670e+07   \n",
       "4   4360.0   504545.0  4665195.0  5669925.0  1300.441528  7.075592e+08   \n",
       "\n",
       "              6             7            8            9      ...       \\\n",
       "0  170817.281250  9.823708e+09  1528981.875  1869379.000     ...        \n",
       "1  164198.031250  4.268761e+09  1442636.500  1769694.125     ...        \n",
       "2  102242.835938  1.199413e+10  1171874.375  1375504.250     ...        \n",
       "3  655873.375000  3.422819e+08  3259827.750  4567261.500     ...        \n",
       "4  162284.218750  6.522889e+09  1496075.375  1819343.500     ...        \n",
       "\n",
       "            42           43            44            45           46  \\\n",
       "0  2404.663818  337856608.0  310962.46875  3.109415e+09  2002417.000   \n",
       "1  2457.227051  328497920.0  310578.12500  3.072270e+09  1999905.875   \n",
       "2  2471.866455  332505152.0  316542.68750  3.094534e+09  2028123.250   \n",
       "3  2376.960205  344903008.0  309467.56250  3.211684e+09  2016765.125   \n",
       "4  2404.033936  333137120.0  308907.03125  3.097117e+09  2005056.875   \n",
       "\n",
       "            47            48            49           50           51  \n",
       "0  338893600.0  308761.84375  3.135328e+09  1997065.250  337238208.0  \n",
       "1  335243104.0  306964.84375  3.140742e+09  1988548.625  333772448.0  \n",
       "2  341046080.0  308040.53125  3.193330e+09  1999627.625  336064192.0  \n",
       "3  339384704.0  310340.50000  3.149223e+09  2014740.875  339198272.0  \n",
       "4  336754208.0  307344.87500  3.136502e+09  1997853.125  335776928.0  \n",
       "\n",
       "[5 rows x 52 columns]"
      ]
     },
     "execution_count": 4,
     "metadata": {},
     "output_type": "execute_result"
    }
   ],
   "source": [
    "df.head()"
   ]
  },
  {
   "cell_type": "code",
   "execution_count": 5,
   "metadata": {},
   "outputs": [
    {
     "data": {
      "text/plain": [
       "(943475, 52)"
      ]
     },
     "execution_count": 5,
     "metadata": {},
     "output_type": "execute_result"
    }
   ],
   "source": [
    "df.shape"
   ]
  },
  {
   "cell_type": "code",
   "execution_count": 8,
   "metadata": {},
   "outputs": [],
   "source": [
    "from sklearn.decomposition import NMF\n",
    "import numpy as np\n",
    "\n",
    "def description_length_error(V, G, F):\n",
    "    B = 64\n",
    "    M = B * V.shape[1] * (V.shape[0] + F.shape[1])\n",
    "    GF = G.dot(F)\n",
    "    E = (V*np.ma.log(np.ma.divide(V, GF)) - V + GF).sum()\n",
    "    return -(M + E)\n",
    "\n",
    "\n",
    "def rolx_error(estimator, X, y):\n",
    "    G = estimator.transform(X)\n",
    "    F = estimator.components_\n",
    "    return description_length_error(y, G, F)"
   ]
  },
  {
   "cell_type": "code",
   "execution_count": 32,
   "metadata": {},
   "outputs": [
    {
     "data": {
      "text/plain": [
       "3280237805554.9614"
      ]
     },
     "execution_count": 32,
     "metadata": {},
     "output_type": "execute_result"
    }
   ],
   "source": [
    "V = df.iloc[:, 1:].values\n",
    "model = NMF(n_components=31)\n",
    "model.fit(V)\n",
    "G = model.transform(V)\n",
    "F = model.components_\n",
    "\n",
    "B = 64\n",
    "M = B * V.shape[1] * (V.shape[0] + F.shape[1])\n",
    "GF = G.dot(F)\n",
    "E = (V*np.ma.log(np.ma.divide(V,GF)) - V + GF).sum()\n",
    "M+E"
   ]
  },
  {
   "cell_type": "code",
   "execution_count": 33,
   "metadata": {},
   "outputs": [
    {
     "name": "stdout",
     "output_type": "stream",
     "text": [
      "CPU times: user 12min 53s, sys: 3min 36s, total: 16min 29s\n",
      "Wall time: 4min 36s\n"
     ]
    },
    {
     "data": {
      "text/plain": [
       "-3280237805554.9614"
      ]
     },
     "execution_count": 33,
     "metadata": {},
     "output_type": "execute_result"
    }
   ],
   "source": [
    "%time rolx_error(model, V, V)"
   ]
  },
  {
   "cell_type": "code",
   "execution_count": 19,
   "metadata": {},
   "outputs": [],
   "source": [
    "V = df.iloc[:, 1:].values\n",
    "\n",
    "nmf = NMF(n_components=16, solver='mu', beta_loss='kullback-leibler', max_iter=1000)\n",
    "F = nmf.fit_transform(V)\n",
    "G = nmf.components_"
   ]
  },
  {
   "cell_type": "code",
   "execution_count": 39,
   "metadata": {},
   "outputs": [],
   "source": [
    "pd.concat([df.iloc[:, :1].astype('int'), pd.DataFrame(F)], axis=1).to_csv(\"data/processed/role-nmf-v1.csv\")"
   ]
  },
  {
   "cell_type": "code",
   "execution_count": 41,
   "metadata": {},
   "outputs": [],
   "source": [
    "pd.DataFrame(G).to_csv(\"data/processed/role-nmf-G-v1.csv\")"
   ]
  },
  {
   "cell_type": "code",
   "execution_count": 15,
   "metadata": {
    "scrolled": true
   },
   "outputs": [
    {
     "name": "stderr",
     "output_type": "stream",
     "text": [
      "/home/amiyaguchi/cs224w/wikipedia-retention/venv3/lib/python3.6/site-packages/sklearn/decomposition/nmf.py:1035: ConvergenceWarning: Maximum number of iteration 200 reached. Increase it to improve convergence.\n",
      "  \" improve convergence.\" % max_iter, ConvergenceWarning)\n",
      "/home/amiyaguchi/cs224w/wikipedia-retention/venv3/lib/python3.6/site-packages/sklearn/decomposition/nmf.py:1035: ConvergenceWarning: Maximum number of iteration 200 reached. Increase it to improve convergence.\n",
      "  \" improve convergence.\" % max_iter, ConvergenceWarning)\n",
      "/home/amiyaguchi/cs224w/wikipedia-retention/venv3/lib/python3.6/site-packages/sklearn/decomposition/nmf.py:1035: ConvergenceWarning: Maximum number of iteration 200 reached. Increase it to improve convergence.\n",
      "  \" improve convergence.\" % max_iter, ConvergenceWarning)\n",
      "/home/amiyaguchi/cs224w/wikipedia-retention/venv3/lib/python3.6/site-packages/sklearn/decomposition/nmf.py:1035: ConvergenceWarning: Maximum number of iteration 200 reached. Increase it to improve convergence.\n",
      "  \" improve convergence.\" % max_iter, ConvergenceWarning)\n",
      "/home/amiyaguchi/cs224w/wikipedia-retention/venv3/lib/python3.6/site-packages/sklearn/decomposition/nmf.py:1035: ConvergenceWarning: Maximum number of iteration 200 reached. Increase it to improve convergence.\n",
      "  \" improve convergence.\" % max_iter, ConvergenceWarning)\n",
      "/home/amiyaguchi/cs224w/wikipedia-retention/venv3/lib/python3.6/site-packages/sklearn/decomposition/nmf.py:1035: ConvergenceWarning: Maximum number of iteration 200 reached. Increase it to improve convergence.\n",
      "  \" improve convergence.\" % max_iter, ConvergenceWarning)\n",
      "/home/amiyaguchi/cs224w/wikipedia-retention/venv3/lib/python3.6/site-packages/sklearn/decomposition/nmf.py:1035: ConvergenceWarning: Maximum number of iteration 200 reached. Increase it to improve convergence.\n",
      "  \" improve convergence.\" % max_iter, ConvergenceWarning)\n",
      "/home/amiyaguchi/cs224w/wikipedia-retention/venv3/lib/python3.6/site-packages/sklearn/decomposition/nmf.py:1035: ConvergenceWarning: Maximum number of iteration 200 reached. Increase it to improve convergence.\n",
      "  \" improve convergence.\" % max_iter, ConvergenceWarning)\n",
      "/home/amiyaguchi/cs224w/wikipedia-retention/venv3/lib/python3.6/site-packages/sklearn/decomposition/nmf.py:1035: ConvergenceWarning: Maximum number of iteration 200 reached. Increase it to improve convergence.\n",
      "  \" improve convergence.\" % max_iter, ConvergenceWarning)\n",
      "/home/amiyaguchi/cs224w/wikipedia-retention/venv3/lib/python3.6/site-packages/sklearn/decomposition/nmf.py:1035: ConvergenceWarning: Maximum number of iteration 200 reached. Increase it to improve convergence.\n",
      "  \" improve convergence.\" % max_iter, ConvergenceWarning)\n",
      "/home/amiyaguchi/cs224w/wikipedia-retention/venv3/lib/python3.6/site-packages/sklearn/decomposition/nmf.py:1035: ConvergenceWarning: Maximum number of iteration 200 reached. Increase it to improve convergence.\n",
      "  \" improve convergence.\" % max_iter, ConvergenceWarning)\n",
      "/home/amiyaguchi/cs224w/wikipedia-retention/venv3/lib/python3.6/site-packages/sklearn/decomposition/nmf.py:1035: ConvergenceWarning: Maximum number of iteration 200 reached. Increase it to improve convergence.\n",
      "  \" improve convergence.\" % max_iter, ConvergenceWarning)\n",
      "/home/amiyaguchi/cs224w/wikipedia-retention/venv3/lib/python3.6/site-packages/sklearn/decomposition/nmf.py:1035: ConvergenceWarning: Maximum number of iteration 200 reached. Increase it to improve convergence.\n",
      "  \" improve convergence.\" % max_iter, ConvergenceWarning)\n",
      "/home/amiyaguchi/cs224w/wikipedia-retention/venv3/lib/python3.6/site-packages/sklearn/decomposition/nmf.py:1035: ConvergenceWarning: Maximum number of iteration 200 reached. Increase it to improve convergence.\n",
      "  \" improve convergence.\" % max_iter, ConvergenceWarning)\n",
      "/home/amiyaguchi/cs224w/wikipedia-retention/venv3/lib/python3.6/site-packages/sklearn/decomposition/nmf.py:1035: ConvergenceWarning: Maximum number of iteration 200 reached. Increase it to improve convergence.\n",
      "  \" improve convergence.\" % max_iter, ConvergenceWarning)\n",
      "/home/amiyaguchi/cs224w/wikipedia-retention/venv3/lib/python3.6/site-packages/sklearn/decomposition/nmf.py:1035: ConvergenceWarning: Maximum number of iteration 200 reached. Increase it to improve convergence.\n",
      "  \" improve convergence.\" % max_iter, ConvergenceWarning)\n",
      "/home/amiyaguchi/cs224w/wikipedia-retention/venv3/lib/python3.6/site-packages/sklearn/decomposition/nmf.py:1035: ConvergenceWarning: Maximum number of iteration 200 reached. Increase it to improve convergence.\n",
      "  \" improve convergence.\" % max_iter, ConvergenceWarning)\n",
      "/home/amiyaguchi/cs224w/wikipedia-retention/venv3/lib/python3.6/site-packages/sklearn/decomposition/nmf.py:1035: ConvergenceWarning: Maximum number of iteration 200 reached. Increase it to improve convergence.\n",
      "  \" improve convergence.\" % max_iter, ConvergenceWarning)\n",
      "/home/amiyaguchi/cs224w/wikipedia-retention/venv3/lib/python3.6/site-packages/sklearn/decomposition/nmf.py:1035: ConvergenceWarning: Maximum number of iteration 200 reached. Increase it to improve convergence.\n",
      "  \" improve convergence.\" % max_iter, ConvergenceWarning)\n",
      "/home/amiyaguchi/cs224w/wikipedia-retention/venv3/lib/python3.6/site-packages/sklearn/decomposition/nmf.py:1035: ConvergenceWarning: Maximum number of iteration 200 reached. Increase it to improve convergence.\n",
      "  \" improve convergence.\" % max_iter, ConvergenceWarning)\n",
      "/home/amiyaguchi/cs224w/wikipedia-retention/venv3/lib/python3.6/site-packages/sklearn/decomposition/nmf.py:1035: ConvergenceWarning: Maximum number of iteration 200 reached. Increase it to improve convergence.\n",
      "  \" improve convergence.\" % max_iter, ConvergenceWarning)\n",
      "/home/amiyaguchi/cs224w/wikipedia-retention/venv3/lib/python3.6/site-packages/sklearn/decomposition/nmf.py:1035: ConvergenceWarning: Maximum number of iteration 200 reached. Increase it to improve convergence.\n",
      "  \" improve convergence.\" % max_iter, ConvergenceWarning)\n",
      "/home/amiyaguchi/cs224w/wikipedia-retention/venv3/lib/python3.6/site-packages/sklearn/decomposition/nmf.py:1035: ConvergenceWarning: Maximum number of iteration 200 reached. Increase it to improve convergence.\n",
      "  \" improve convergence.\" % max_iter, ConvergenceWarning)\n"
     ]
    },
    {
     "name": "stdout",
     "output_type": "stream",
     "text": [
      "RandomizedSearchCV took 10823.21 seconds for 8 candidates parameter settings.\n"
     ]
    }
   ],
   "source": [
    "from time import time\n",
    "from scipy.stats import randint as sp_randint\n",
    "from sklearn.model_selection import RandomizedSearchCV\n",
    "\n",
    "V = df.iloc[:, 1:].values\n",
    "\n",
    "\n",
    "def error(estimator, X, y):\n",
    "    return -estimator.reconstruction_err_\n",
    "\n",
    "n_iter_search = 8\n",
    "random_search = RandomizedSearchCV(\n",
    "    NMF(solver='mu', beta_loss='kullback-leibler'), \n",
    "    param_distributions={\"n_components\": sp_randint(1, 64)},\n",
    "    n_iter=n_iter_search,\n",
    "    scoring=error\n",
    ")\n",
    "\n",
    "start = time()\n",
    "random_search.fit(V, V)\n",
    "print(\"RandomizedSearchCV took %.2f seconds for %d candidates\"\n",
    "      \" parameter settings.\" % ((time() - start), n_iter_search))"
   ]
  },
  {
   "cell_type": "code",
   "execution_count": 17,
   "metadata": {},
   "outputs": [
    {
     "name": "stderr",
     "output_type": "stream",
     "text": [
      "/home/amiyaguchi/cs224w/wikipedia-retention/venv3/lib/python3.6/site-packages/sklearn/utils/deprecation.py:122: FutureWarning: You are accessing a training score ('split0_train_score'), which will not be available by default any more in 0.21. If you need training scores, please set return_train_score=True\n",
      "  warnings.warn(*warn_args, **warn_kwargs)\n",
      "/home/amiyaguchi/cs224w/wikipedia-retention/venv3/lib/python3.6/site-packages/sklearn/utils/deprecation.py:122: FutureWarning: You are accessing a training score ('split1_train_score'), which will not be available by default any more in 0.21. If you need training scores, please set return_train_score=True\n",
      "  warnings.warn(*warn_args, **warn_kwargs)\n",
      "/home/amiyaguchi/cs224w/wikipedia-retention/venv3/lib/python3.6/site-packages/sklearn/utils/deprecation.py:122: FutureWarning: You are accessing a training score ('split2_train_score'), which will not be available by default any more in 0.21. If you need training scores, please set return_train_score=True\n",
      "  warnings.warn(*warn_args, **warn_kwargs)\n",
      "/home/amiyaguchi/cs224w/wikipedia-retention/venv3/lib/python3.6/site-packages/sklearn/utils/deprecation.py:122: FutureWarning: You are accessing a training score ('mean_train_score'), which will not be available by default any more in 0.21. If you need training scores, please set return_train_score=True\n",
      "  warnings.warn(*warn_args, **warn_kwargs)\n",
      "/home/amiyaguchi/cs224w/wikipedia-retention/venv3/lib/python3.6/site-packages/sklearn/utils/deprecation.py:122: FutureWarning: You are accessing a training score ('std_train_score'), which will not be available by default any more in 0.21. If you need training scores, please set return_train_score=True\n",
      "  warnings.warn(*warn_args, **warn_kwargs)\n"
     ]
    },
    {
     "data": {
      "text/plain": [
       "{'mean_fit_time': array([444.04070346, 414.07480009, 486.50003831, 308.77473815,\n",
       "        378.06476402, 452.67154829, 512.01460648, 397.73086945]),\n",
       " 'std_fit_time': array([14.82358931,  1.60803212, 29.53071736,  4.53529295, 29.0272755 ,\n",
       "         3.02168036, 20.7969531 ,  4.29750798]),\n",
       " 'mean_score_time': array([8.05854797e-05, 7.93139140e-05, 9.70363617e-05, 7.46250153e-05,\n",
       "        8.47975413e-05, 7.18434652e-05, 9.56853231e-05, 7.62144725e-05]),\n",
       " 'std_score_time': array([6.91824824e-06, 5.71652429e-06, 3.18667339e-05, 1.36267568e-06,\n",
       "        2.05882262e-05, 4.05233662e-07, 2.29578921e-05, 1.12391596e-07]),\n",
       " 'param_n_components': masked_array(data=[44, 27, 60, 21, 28, 44, 62, 44],\n",
       "              mask=[False, False, False, False, False, False, False, False],\n",
       "        fill_value='?',\n",
       "             dtype=object),\n",
       " 'params': [{'n_components': 44},\n",
       "  {'n_components': 27},\n",
       "  {'n_components': 60},\n",
       "  {'n_components': 21},\n",
       "  {'n_components': 28},\n",
       "  {'n_components': 44},\n",
       "  {'n_components': 62},\n",
       "  {'n_components': 44}],\n",
       " 'split0_test_score': array([-8323751.27949987, -8737825.98466733, -1757691.6746337 ,\n",
       "        -9740761.78760515, -8632487.46542582, -8323751.27186248,\n",
       "        -1789214.90061264, -8323751.27920592]),\n",
       " 'split1_test_score': array([ -9672734.33076093, -10489985.86287902,  -2463415.68071924,\n",
       "        -10806646.33690545, -10464847.54718563,  -9672734.33082506,\n",
       "         -2426501.39643003,  -9672734.33075598]),\n",
       " 'split2_test_score': array([ -9843200.89898462, -10929974.32491302,  -1881919.00171684,\n",
       "        -11596765.9917991 , -10799267.50539395,  -9843200.89897903,\n",
       "         -2099161.39310063,  -9843200.89898622]),\n",
       " 'mean_test_score': array([ -9279894.90602794, -10052594.46087577,  -2034342.28057827,\n",
       "        -10714723.77055086,  -9965533.28898492,  -9279894.90350165,\n",
       "         -2104959.23619296,  -9279894.90592884]),\n",
       " 'std_test_score': array([679668.43626822, 946876.1294416 , 307610.48065273, 760493.16185055,\n",
       "        952442.35415627, 679668.4398604 , 260203.5590489 , 679668.43640554]),\n",
       " 'rank_test_score': array([5, 7, 1, 8, 6, 3, 2, 4], dtype=int32),\n",
       " 'split0_train_score': array([-8323751.27949987, -8737825.98466733, -1757691.6746337 ,\n",
       "        -9740761.78760515, -8632487.46542582, -8323751.27186248,\n",
       "        -1789214.90061264, -8323751.27920592]),\n",
       " 'split1_train_score': array([ -9672734.33076093, -10489985.86287902,  -2463415.68071924,\n",
       "        -10806646.33690545, -10464847.54718563,  -9672734.33082506,\n",
       "         -2426501.39643003,  -9672734.33075598]),\n",
       " 'split2_train_score': array([ -9843200.89898462, -10929974.32491302,  -1881919.00171684,\n",
       "        -11596765.9917991 , -10799267.50539395,  -9843200.89897903,\n",
       "         -2099161.39310063,  -9843200.89898622]),\n",
       " 'mean_train_score': array([ -9279895.50308181, -10052595.39081979,  -2034342.11902326,\n",
       "        -10714724.70543656,  -9965534.17266847,  -9279895.50055552,\n",
       "         -2104959.23004777,  -9279895.50298271]),\n",
       " 'std_train_score': array([679668.32349184, 946876.05848447, 307610.35765875, 760493.30097656,\n",
       "        952442.23617669, 679668.32708403, 260203.4212211 , 679668.32362917])}"
      ]
     },
     "execution_count": 17,
     "metadata": {},
     "output_type": "execute_result"
    }
   ],
   "source": [
    "random_search.cv_results_"
   ]
  }
 ],
 "metadata": {
  "kernelspec": {
   "display_name": "Python 3",
   "language": "python",
   "name": "python3"
  },
  "language_info": {
   "codemirror_mode": {
    "name": "ipython",
    "version": 3
   },
   "file_extension": ".py",
   "mimetype": "text/x-python",
   "name": "python",
   "nbconvert_exporter": "python",
   "pygments_lexer": "ipython3",
   "version": "3.7.0"
  }
 },
 "nbformat": 4,
 "nbformat_minor": 2
}
