{
 "cells": [
  {
   "cell_type": "code",
   "execution_count": 1,
   "metadata": {},
   "outputs": [],
   "source": [
    "%load_ext autoreload\n",
    "%autoreload 2"
   ]
  },
  {
   "cell_type": "code",
   "execution_count": 3,
   "metadata": {},
   "outputs": [],
   "source": [
    "from pyspark.sql import SparkSession, functions as F\n",
    "\n",
    "spark = SparkSession.builder.getOrCreate()\n",
    "df = spark.read.parquet(\"../data/processed/enwiki-meta-compact\")\n",
    "df.createOrReplaceTempView(\"enwiki\")"
   ]
  },
  {
   "cell_type": "code",
   "execution_count": 39,
   "metadata": {},
   "outputs": [
    {
     "name": "stdout",
     "output_type": "stream",
     "text": [
      "+-------+----------+----------+---------+\n",
      "|user_id|article_id|word_count|num_edits|\n",
      "+-------+----------+----------+---------+\n",
      "|    148|     37238|        58|        1|\n",
      "|    148|      3390|      2489|        1|\n",
      "|    148|     37009|        47|        1|\n",
      "|    148|     37010|       235|        1|\n",
      "|    148|     36816|       148|        1|\n",
      "+-------+----------+----------+---------+\n",
      "only showing top 5 rows\n",
      "\n"
     ]
    }
   ],
   "source": [
    "def get_edges(period):\n",
    "    query = \"\"\"\n",
    "    with subset as (\n",
    "        SELECT\n",
    "            concat(year, '-', quarter) as period,\n",
    "            article_id,\n",
    "            cast(user_id as int) as user_id,\n",
    "            textdata\n",
    "        FROM\n",
    "            enwiki\n",
    "    ),\n",
    "    \n",
    "    -- remove all nodes where the degree is < 2\n",
    "    degree as (\n",
    "        SELECT\n",
    "            user_id,\n",
    "            count(distinct article_id) as degree\n",
    "        FROM subset\n",
    "        GROUP BY 1\n",
    "    )\n",
    "    \n",
    "    -- collect the weighted edge-list\n",
    "    SELECT\n",
    "        subset.user_id,\n",
    "        article_id,\n",
    "        sum(textdata) as word_count,\n",
    "        count(*) as num_edits \n",
    "    FROM\n",
    "        subset\n",
    "    INNER JOIN degree ON subset.user_id = degree.user_id\n",
    "    WHERE\n",
    "        degree > 1 AND\n",
    "        subset.user_id is not null AND\n",
    "        period = '{}'\n",
    "    GROUP BY 1, 2\n",
    "    \"\"\".format(period)\n",
    "\n",
    "    res = spark.sql(query)\n",
    "    return res\n",
    "\n",
    "get_edges('2002-1').show(n=5)"
   ]
  },
  {
   "cell_type": "code",
   "execution_count": 40,
   "metadata": {},
   "outputs": [
    {
     "name": "stdout",
     "output_type": "stream",
     "text": [
      "4565574\n",
      "+-------+----------+----------+---------+\n",
      "|user_id|article_id|word_count|num_edits|\n",
      "+-------+----------+----------+---------+\n",
      "|    148|     48819|      9274|        2|\n",
      "|    148|   1507500|       269|        1|\n",
      "|   1591|     38301|     14288|        1|\n",
      "|   1591|   1381764|      2744|        1|\n",
      "|   1591|   7346623|        80|        1|\n",
      "+-------+----------+----------+---------+\n",
      "only showing top 5 rows\n",
      "\n"
     ]
    }
   ],
   "source": [
    "edges = get_edges('2007-1')\n",
    "edges.cache()\n",
    "edges.createOrReplaceTempView(\"edges\")\n",
    "print(edges.count())\n",
    "edges.show(n=5)"
   ]
  },
  {
   "cell_type": "code",
   "execution_count": 41,
   "metadata": {},
   "outputs": [
    {
     "data": {
      "text/plain": [
       "225895"
      ]
     },
     "execution_count": 41,
     "metadata": {},
     "output_type": "execute_result"
    }
   ],
   "source": [
    "edges.select(\"user_id\").distinct().count()"
   ]
  },
  {
   "cell_type": "code",
   "execution_count": 42,
   "metadata": {},
   "outputs": [
    {
     "data": {
      "text/plain": [
       "144544"
      ]
     },
     "execution_count": 42,
     "metadata": {},
     "output_type": "execute_result"
    }
   ],
   "source": [
    "edges.where(\"num_edits > 1\").select(\"user_id\").distinct().count()"
   ]
  },
  {
   "cell_type": "code",
   "execution_count": 43,
   "metadata": {},
   "outputs": [
    {
     "data": {
      "text/plain": [
       "1285417"
      ]
     },
     "execution_count": 43,
     "metadata": {},
     "output_type": "execute_result"
    }
   ],
   "source": [
    "edges.select(\"article_id\").distinct().count()"
   ]
  },
  {
   "cell_type": "markdown",
   "metadata": {},
   "source": [
    "Remove all nodes with `degree = 1` and where the number of shared articles is greater than 1."
   ]
  },
  {
   "cell_type": "code",
   "execution_count": 55,
   "metadata": {},
   "outputs": [
    {
     "name": "stdout",
     "output_type": "stream",
     "text": [
      "7723278\n",
      "+-------+-------+---------------+\n",
      "|     e1|     e2|shared_articles|\n",
      "+-------+-------+---------------+\n",
      "|  33566|3828001|              3|\n",
      "| 218757| 433328|              6|\n",
      "|2201405|1257855|              3|\n",
      "| 387151|  97951|              3|\n",
      "| 190760|3076305|              4|\n",
      "|  56299| 190760|              3|\n",
      "|3128744| 881395|              2|\n",
      "| 569777|1991207|              3|\n",
      "|2946902|  37986|             30|\n",
      "|  69412|3620496|              2|\n",
      "| 579287|1583318|              4|\n",
      "|1091760|  69412|              7|\n",
      "|2690623|1546024|             39|\n",
      "| 228773|1634354|              4|\n",
      "|1232340|  28438|              4|\n",
      "|   2954|3620496|              2|\n",
      "|1991207|2707468|             17|\n",
      "|3171782| 222638|              8|\n",
      "| 222638|1574574|             12|\n",
      "|1634354|1392310|             16|\n",
      "+-------+-------+---------------+\n",
      "only showing top 20 rows\n",
      "\n"
     ]
    }
   ],
   "source": [
    "query = \"\"\"\n",
    "-- TODO: jaccard index instead of common neighbors\n",
    "with unimodal_projection as (\n",
    "    SELECT\n",
    "        t1.user_id as e1,\n",
    "        t2.user_id as e2,\n",
    "        count(*) as shared_articles\n",
    "    FROM edges t1\n",
    "    JOIN edges t2 ON t1.article_id = t2.article_id\n",
    "    GROUP BY 1, 2\n",
    ")\n",
    "\n",
    "SELECT e1, e2, shared_articles\n",
    "FROM unimodal_projection\n",
    "WHERE shared_articles > 1\n",
    "\"\"\"\n",
    "\n",
    "unimodal = spark.sql(query)\n",
    "print(unimodal.count())\n",
    "unimodal.show()"
   ]
  },
  {
   "cell_type": "code",
   "execution_count": 56,
   "metadata": {},
   "outputs": [],
   "source": [
    "unimodal.orderBy('e1').coalesce(1).write.csv('../data/processed/2007-1-enwiki-user-projection', sep='\\t')"
   ]
  },
  {
   "cell_type": "code",
   "execution_count": 58,
   "metadata": {},
   "outputs": [
    {
     "name": "stdout",
     "output_type": "stream",
     "text": [
      "\u001b[38;5;33m../data/processed/\u001b[0m\r\n",
      "├── \u001b[38;5;33m2007-1-enwiki-user-projection\u001b[0m\r\n",
      "│   ├── part-00000-fd318c59-0e28-4d6c-8d17-91c34aeb93b5-c000.csv\r\n",
      "│   └── _SUCCESS\r\n",
      "└── \u001b[38;5;33menwiki-meta-compact\u001b[0m\r\n",
      "    ├── part-00000-b9d9476b-cc88-44c4-8b82-f39efb715f54-c000.snappy.parquet\r\n",
      "    ├── part-00001-b9d9476b-cc88-44c4-8b82-f39efb715f54-c000.snappy.parquet\r\n",
      "    ├── part-00002-b9d9476b-cc88-44c4-8b82-f39efb715f54-c000.snappy.parquet\r\n",
      "    ├── part-00003-b9d9476b-cc88-44c4-8b82-f39efb715f54-c000.snappy.parquet\r\n",
      "    ├── part-00004-b9d9476b-cc88-44c4-8b82-f39efb715f54-c000.snappy.parquet\r\n",
      "    ├── part-00005-b9d9476b-cc88-44c4-8b82-f39efb715f54-c000.snappy.parquet\r\n",
      "    ├── part-00006-b9d9476b-cc88-44c4-8b82-f39efb715f54-c000.snappy.parquet\r\n",
      "    ├── part-00007-b9d9476b-cc88-44c4-8b82-f39efb715f54-c000.snappy.parquet\r\n",
      "    ├── part-00008-b9d9476b-cc88-44c4-8b82-f39efb715f54-c000.snappy.parquet\r\n",
      "    ├── part-00009-b9d9476b-cc88-44c4-8b82-f39efb715f54-c000.snappy.parquet\r\n",
      "    └── _SUCCESS\r\n",
      "\r\n",
      "2 directories, 13 files\r\n"
     ]
    }
   ],
   "source": [
    "! tree ../data/processed/"
   ]
  },
  {
   "cell_type": "code",
   "execution_count": 59,
   "metadata": {},
   "outputs": [],
   "source": [
    "! mv ../data/processed/2007-1-enwiki-user-projection/*.csv ../data/processed/2007-1-enwiki-user-projection.csv"
   ]
  },
  {
   "cell_type": "code",
   "execution_count": 60,
   "metadata": {},
   "outputs": [
    {
     "name": "stdout",
     "output_type": "stream",
     "text": [
      "\u001b[38;5;33m../data/processed/\u001b[0m\r\n",
      "├── \u001b[38;5;33m2007-1-enwiki-user-projection\u001b[0m\r\n",
      "│   └── _SUCCESS\r\n",
      "├── 2007-1-enwiki-user-projection.csv\r\n",
      "└── \u001b[38;5;33menwiki-meta-compact\u001b[0m\r\n",
      "    ├── part-00000-b9d9476b-cc88-44c4-8b82-f39efb715f54-c000.snappy.parquet\r\n",
      "    ├── part-00001-b9d9476b-cc88-44c4-8b82-f39efb715f54-c000.snappy.parquet\r\n",
      "    ├── part-00002-b9d9476b-cc88-44c4-8b82-f39efb715f54-c000.snappy.parquet\r\n",
      "    ├── part-00003-b9d9476b-cc88-44c4-8b82-f39efb715f54-c000.snappy.parquet\r\n",
      "    ├── part-00004-b9d9476b-cc88-44c4-8b82-f39efb715f54-c000.snappy.parquet\r\n",
      "    ├── part-00005-b9d9476b-cc88-44c4-8b82-f39efb715f54-c000.snappy.parquet\r\n",
      "    ├── part-00006-b9d9476b-cc88-44c4-8b82-f39efb715f54-c000.snappy.parquet\r\n",
      "    ├── part-00007-b9d9476b-cc88-44c4-8b82-f39efb715f54-c000.snappy.parquet\r\n",
      "    ├── part-00008-b9d9476b-cc88-44c4-8b82-f39efb715f54-c000.snappy.parquet\r\n",
      "    ├── part-00009-b9d9476b-cc88-44c4-8b82-f39efb715f54-c000.snappy.parquet\r\n",
      "    └── _SUCCESS\r\n",
      "\r\n",
      "2 directories, 13 files\r\n"
     ]
    }
   ],
   "source": [
    "! tree ../data/processed/"
   ]
  },
  {
   "cell_type": "code",
   "execution_count": 61,
   "metadata": {},
   "outputs": [],
   "source": [
    "! rm -r ../data/processed/2007-1-enwiki-user-projection/"
   ]
  }
 ],
 "metadata": {
  "kernelspec": {
   "display_name": "Python 2",
   "language": "python",
   "name": "python2"
  },
  "language_info": {
   "codemirror_mode": {
    "name": "ipython",
    "version": 2
   },
   "file_extension": ".py",
   "mimetype": "text/x-python",
   "name": "python",
   "nbconvert_exporter": "python",
   "pygments_lexer": "ipython2",
   "version": "2.7.15"
  }
 },
 "nbformat": 4,
 "nbformat_minor": 2
}
