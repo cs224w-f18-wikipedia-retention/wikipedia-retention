{
 "cells": [
  {
   "cell_type": "code",
   "execution_count": 4,
   "metadata": {},
   "outputs": [
    {
     "name": "stdout",
     "output_type": "stream",
     "text": [
      "2007-1-enwiki-projection-user.csv\r\n",
      "2007-1-enwiki-projection-user-roles.csv\r\n",
      "2007-2-enwiki-projection-user.csv\r\n",
      "2007-2-enwiki-projection-user-roles.csv\r\n",
      "2007-3-enwiki-projection-user.csv\r\n",
      "2007-3-enwiki-projection-user-roles.csv\r\n",
      "2007-4-enwiki-projection-user.csv\r\n",
      "2007-4-enwiki-projection-user-roles.csv\r\n",
      "all_article_features.csv\r\n",
      "all_user_features.csv\r\n",
      "enwiki-meta-compact\r\n",
      "enwiki-meta-parquet\r\n",
      "processed\r\n"
     ]
    }
   ],
   "source": [
    "! ls ../data/processed/"
   ]
  },
  {
   "cell_type": "code",
   "execution_count": 71,
   "metadata": {},
   "outputs": [
    {
     "data": {
      "text/html": [
       "<div>\n",
       "<style scoped>\n",
       "    .dataframe tbody tr th:only-of-type {\n",
       "        vertical-align: middle;\n",
       "    }\n",
       "\n",
       "    .dataframe tbody tr th {\n",
       "        vertical-align: top;\n",
       "    }\n",
       "\n",
       "    .dataframe thead th {\n",
       "        text-align: right;\n",
       "    }\n",
       "</style>\n",
       "<table border=\"1\" class=\"dataframe\">\n",
       "  <thead>\n",
       "    <tr style=\"text-align: right;\">\n",
       "      <th></th>\n",
       "      <th>0</th>\n",
       "      <th>1</th>\n",
       "      <th>2</th>\n",
       "      <th>3</th>\n",
       "      <th>4</th>\n",
       "      <th>5</th>\n",
       "      <th>6</th>\n",
       "      <th>7</th>\n",
       "      <th>8</th>\n",
       "      <th>9</th>\n",
       "      <th>...</th>\n",
       "      <th>11</th>\n",
       "      <th>12</th>\n",
       "      <th>13</th>\n",
       "      <th>14</th>\n",
       "      <th>15</th>\n",
       "      <th>16</th>\n",
       "      <th>17</th>\n",
       "      <th>18</th>\n",
       "      <th>19</th>\n",
       "      <th>20</th>\n",
       "    </tr>\n",
       "  </thead>\n",
       "  <tbody>\n",
       "    <tr>\n",
       "      <th>0</th>\n",
       "      <td>100010</td>\n",
       "      <td>2004-07-01T00:00:00.000-07:00</td>\n",
       "      <td>3</td>\n",
       "      <td>2</td>\n",
       "      <td>0</td>\n",
       "      <td>942</td>\n",
       "      <td>6.848005</td>\n",
       "      <td>13.194870</td>\n",
       "      <td>81.311709</td>\n",
       "      <td>6.694330</td>\n",
       "      <td>...</td>\n",
       "      <td>0</td>\n",
       "      <td>108989229</td>\n",
       "      <td>375</td>\n",
       "      <td>5486568</td>\n",
       "      <td>-5486943</td>\n",
       "      <td>0.6667</td>\n",
       "      <td>0.0000</td>\n",
       "      <td>0.0000</td>\n",
       "      <td>0.0</td>\n",
       "      <td>0</td>\n",
       "    </tr>\n",
       "    <tr>\n",
       "      <th>1</th>\n",
       "      <td>1000280</td>\n",
       "      <td>2006-01-01T00:00:00.000-08:00</td>\n",
       "      <td>112</td>\n",
       "      <td>5</td>\n",
       "      <td>62</td>\n",
       "      <td>495105</td>\n",
       "      <td>13.112525</td>\n",
       "      <td>902.029644</td>\n",
       "      <td>3145.839642</td>\n",
       "      <td>134.909578</td>\n",
       "      <td>...</td>\n",
       "      <td>0</td>\n",
       "      <td>156426429</td>\n",
       "      <td>797110</td>\n",
       "      <td>4954705</td>\n",
       "      <td>-5751815</td>\n",
       "      <td>0.0446</td>\n",
       "      <td>0.5536</td>\n",
       "      <td>0.8304</td>\n",
       "      <td>0.0</td>\n",
       "      <td>0</td>\n",
       "    </tr>\n",
       "    <tr>\n",
       "      <th>2</th>\n",
       "      <td>1000839</td>\n",
       "      <td>2006-01-01T00:00:00.000-08:00</td>\n",
       "      <td>2</td>\n",
       "      <td>2</td>\n",
       "      <td>0</td>\n",
       "      <td>926</td>\n",
       "      <td>6.830874</td>\n",
       "      <td>12.200618</td>\n",
       "      <td>445.995516</td>\n",
       "      <td>35.496479</td>\n",
       "      <td>...</td>\n",
       "      <td>0</td>\n",
       "      <td>156426429</td>\n",
       "      <td>26637</td>\n",
       "      <td>4961823</td>\n",
       "      <td>-4988460</td>\n",
       "      <td>1.0000</td>\n",
       "      <td>0.0000</td>\n",
       "      <td>0.0000</td>\n",
       "      <td>0.0</td>\n",
       "      <td>0</td>\n",
       "    </tr>\n",
       "    <tr>\n",
       "      <th>3</th>\n",
       "      <td>1002185</td>\n",
       "      <td>2006-01-01T00:00:00.000-08:00</td>\n",
       "      <td>1</td>\n",
       "      <td>1</td>\n",
       "      <td>0</td>\n",
       "      <td>3696</td>\n",
       "      <td>8.215006</td>\n",
       "      <td>8.215277</td>\n",
       "      <td>3697.000000</td>\n",
       "      <td>463.000000</td>\n",
       "      <td>...</td>\n",
       "      <td>0</td>\n",
       "      <td>156426429</td>\n",
       "      <td>0</td>\n",
       "      <td>4977318</td>\n",
       "      <td>-4977318</td>\n",
       "      <td>1.0000</td>\n",
       "      <td>0.0000</td>\n",
       "      <td>1.0000</td>\n",
       "      <td>0.0</td>\n",
       "      <td>0</td>\n",
       "    </tr>\n",
       "    <tr>\n",
       "      <th>4</th>\n",
       "      <td>1002883</td>\n",
       "      <td>2006-01-01T00:00:00.000-08:00</td>\n",
       "      <td>3</td>\n",
       "      <td>3</td>\n",
       "      <td>3</td>\n",
       "      <td>10335</td>\n",
       "      <td>9.243291</td>\n",
       "      <td>20.625864</td>\n",
       "      <td>968.054231</td>\n",
       "      <td>135.975486</td>\n",
       "      <td>...</td>\n",
       "      <td>0</td>\n",
       "      <td>156426429</td>\n",
       "      <td>4063</td>\n",
       "      <td>4987353</td>\n",
       "      <td>-4991416</td>\n",
       "      <td>1.0000</td>\n",
       "      <td>1.0000</td>\n",
       "      <td>0.3333</td>\n",
       "      <td>0.0</td>\n",
       "      <td>0</td>\n",
       "    </tr>\n",
       "  </tbody>\n",
       "</table>\n",
       "<p>5 rows × 21 columns</p>\n",
       "</div>"
      ],
      "text/plain": [
       "        0                              1    2   3   4       5          6   \\\n",
       "0   100010  2004-07-01T00:00:00.000-07:00    3   2   0     942   6.848005   \n",
       "1  1000280  2006-01-01T00:00:00.000-08:00  112   5  62  495105  13.112525   \n",
       "2  1000839  2006-01-01T00:00:00.000-08:00    2   2   0     926   6.830874   \n",
       "3  1002185  2006-01-01T00:00:00.000-08:00    1   1   0    3696   8.215006   \n",
       "4  1002883  2006-01-01T00:00:00.000-08:00    3   3   3   10335   9.243291   \n",
       "\n",
       "           7            8           9  ...  11         12      13       14  \\\n",
       "0   13.194870    81.311709    6.694330 ...   0  108989229     375  5486568   \n",
       "1  902.029644  3145.839642  134.909578 ...   0  156426429  797110  4954705   \n",
       "2   12.200618   445.995516   35.496479 ...   0  156426429   26637  4961823   \n",
       "3    8.215277  3697.000000  463.000000 ...   0  156426429       0  4977318   \n",
       "4   20.625864   968.054231  135.975486 ...   0  156426429    4063  4987353   \n",
       "\n",
       "        15      16      17      18   19  20  \n",
       "0 -5486943  0.6667  0.0000  0.0000  0.0   0  \n",
       "1 -5751815  0.0446  0.5536  0.8304  0.0   0  \n",
       "2 -4988460  1.0000  0.0000  0.0000  0.0   0  \n",
       "3 -4977318  1.0000  0.0000  1.0000  0.0   0  \n",
       "4 -4991416  1.0000  1.0000  0.3333  0.0   0  \n",
       "\n",
       "[5 rows x 21 columns]"
      ]
     },
     "execution_count": 71,
     "metadata": {},
     "output_type": "execute_result"
    }
   ],
   "source": [
    "import pandas as pd\n",
    "\n",
    "base_path = \"../data/processed/\"\n",
    "user_ff = base_path + 'all_user_features.csv'\n",
    "article_ff = base_path + 'all_article_features.csv'\n",
    "\n",
    "df = pd.read_csv(user_ff, header=None)\n",
    "df.head()"
   ]
  },
  {
   "cell_type": "code",
   "execution_count": 57,
   "metadata": {},
   "outputs": [
    {
     "data": {
      "text/plain": [
       "(1523076, 21)"
      ]
     },
     "execution_count": 57,
     "metadata": {},
     "output_type": "execute_result"
    }
   ],
   "source": [
    "df.shape"
   ]
  },
  {
   "cell_type": "code",
   "execution_count": 76,
   "metadata": {},
   "outputs": [
    {
     "data": {
      "text/plain": [
       "0    2004Q3\n",
       "1    2006Q1\n",
       "2    2006Q1\n",
       "3    2006Q1\n",
       "4    2006Q1\n",
       "Name: 1, dtype: object"
      ]
     },
     "execution_count": 76,
     "metadata": {},
     "output_type": "execute_result"
    }
   ],
   "source": [
    "pd.to_datetime(df.head()[1]).dt.to_period('Q').astype('str')"
   ]
  },
  {
   "cell_type": "code",
   "execution_count": 77,
   "metadata": {
    "scrolled": true
   },
   "outputs": [
    {
     "data": {
      "text/html": [
       "<div>\n",
       "<style scoped>\n",
       "    .dataframe tbody tr th:only-of-type {\n",
       "        vertical-align: middle;\n",
       "    }\n",
       "\n",
       "    .dataframe tbody tr th {\n",
       "        vertical-align: top;\n",
       "    }\n",
       "\n",
       "    .dataframe thead th {\n",
       "        text-align: right;\n",
       "    }\n",
       "</style>\n",
       "<table border=\"1\" class=\"dataframe\">\n",
       "  <thead>\n",
       "    <tr style=\"text-align: right;\">\n",
       "      <th></th>\n",
       "      <th>0</th>\n",
       "      <th>1</th>\n",
       "      <th>2</th>\n",
       "      <th>3</th>\n",
       "      <th>4</th>\n",
       "      <th>5</th>\n",
       "      <th>6</th>\n",
       "      <th>7</th>\n",
       "      <th>8</th>\n",
       "      <th>9</th>\n",
       "      <th>...</th>\n",
       "      <th>11</th>\n",
       "      <th>12</th>\n",
       "      <th>13</th>\n",
       "      <th>14</th>\n",
       "      <th>15</th>\n",
       "      <th>16</th>\n",
       "      <th>17</th>\n",
       "      <th>18</th>\n",
       "      <th>19</th>\n",
       "      <th>20</th>\n",
       "    </tr>\n",
       "  </thead>\n",
       "  <tbody>\n",
       "    <tr>\n",
       "      <th>36</th>\n",
       "      <td>1019881</td>\n",
       "      <td>2007-01-01T00:00:00.000-08:00</td>\n",
       "      <td>1</td>\n",
       "      <td>1</td>\n",
       "      <td>0</td>\n",
       "      <td>3264</td>\n",
       "      <td>8.090709</td>\n",
       "      <td>8.091015</td>\n",
       "      <td>3265.000000</td>\n",
       "      <td>485.000000</td>\n",
       "      <td>...</td>\n",
       "      <td>0</td>\n",
       "      <td>187962429</td>\n",
       "      <td>0</td>\n",
       "      <td>6440895</td>\n",
       "      <td>-6440895</td>\n",
       "      <td>1.00</td>\n",
       "      <td>0.0000</td>\n",
       "      <td>1.0000</td>\n",
       "      <td>0.0</td>\n",
       "      <td>0</td>\n",
       "    </tr>\n",
       "    <tr>\n",
       "      <th>44</th>\n",
       "      <td>1026193</td>\n",
       "      <td>2007-01-01T00:00:00.000-08:00</td>\n",
       "      <td>4</td>\n",
       "      <td>3</td>\n",
       "      <td>0</td>\n",
       "      <td>2588</td>\n",
       "      <td>7.858641</td>\n",
       "      <td>24.961898</td>\n",
       "      <td>513.101903</td>\n",
       "      <td>12.612886</td>\n",
       "      <td>...</td>\n",
       "      <td>0</td>\n",
       "      <td>187962429</td>\n",
       "      <td>5854108</td>\n",
       "      <td>237154</td>\n",
       "      <td>-6091262</td>\n",
       "      <td>0.75</td>\n",
       "      <td>0.0000</td>\n",
       "      <td>0.5000</td>\n",
       "      <td>0.0</td>\n",
       "      <td>0</td>\n",
       "    </tr>\n",
       "    <tr>\n",
       "      <th>51</th>\n",
       "      <td>1031928</td>\n",
       "      <td>2007-01-01T00:00:00.000-08:00</td>\n",
       "      <td>2</td>\n",
       "      <td>2</td>\n",
       "      <td>0</td>\n",
       "      <td>990</td>\n",
       "      <td>6.897705</td>\n",
       "      <td>12.263355</td>\n",
       "      <td>460.207562</td>\n",
       "      <td>15.874508</td>\n",
       "      <td>...</td>\n",
       "      <td>0</td>\n",
       "      <td>187962429</td>\n",
       "      <td>544</td>\n",
       "      <td>4505545</td>\n",
       "      <td>-4506089</td>\n",
       "      <td>1.00</td>\n",
       "      <td>0.0000</td>\n",
       "      <td>0.0000</td>\n",
       "      <td>0.0</td>\n",
       "      <td>1</td>\n",
       "    </tr>\n",
       "    <tr>\n",
       "      <th>80</th>\n",
       "      <td>1050418</td>\n",
       "      <td>2007-01-01T00:00:00.000-08:00</td>\n",
       "      <td>2</td>\n",
       "      <td>1</td>\n",
       "      <td>0</td>\n",
       "      <td>72</td>\n",
       "      <td>4.276666</td>\n",
       "      <td>7.221105</td>\n",
       "      <td>36.986484</td>\n",
       "      <td>2.449490</td>\n",
       "      <td>...</td>\n",
       "      <td>0</td>\n",
       "      <td>187962429</td>\n",
       "      <td>273</td>\n",
       "      <td>3933140</td>\n",
       "      <td>-3933413</td>\n",
       "      <td>0.50</td>\n",
       "      <td>0.0000</td>\n",
       "      <td>0.0000</td>\n",
       "      <td>0.0</td>\n",
       "      <td>0</td>\n",
       "    </tr>\n",
       "    <tr>\n",
       "      <th>110</th>\n",
       "      <td>1073482</td>\n",
       "      <td>2007-01-01T00:00:00.000-08:00</td>\n",
       "      <td>3</td>\n",
       "      <td>3</td>\n",
       "      <td>1</td>\n",
       "      <td>5624</td>\n",
       "      <td>8.634798</td>\n",
       "      <td>22.058689</td>\n",
       "      <td>1560.710531</td>\n",
       "      <td>102.446333</td>\n",
       "      <td>...</td>\n",
       "      <td>0</td>\n",
       "      <td>187962429</td>\n",
       "      <td>201802</td>\n",
       "      <td>7046206</td>\n",
       "      <td>-7248008</td>\n",
       "      <td>1.00</td>\n",
       "      <td>0.3333</td>\n",
       "      <td>0.6667</td>\n",
       "      <td>0.0</td>\n",
       "      <td>1</td>\n",
       "    </tr>\n",
       "  </tbody>\n",
       "</table>\n",
       "<p>5 rows × 21 columns</p>\n",
       "</div>"
      ],
      "text/plain": [
       "          0                              1   2   3   4     5         6   \\\n",
       "36   1019881  2007-01-01T00:00:00.000-08:00   1   1   0  3264  8.090709   \n",
       "44   1026193  2007-01-01T00:00:00.000-08:00   4   3   0  2588  7.858641   \n",
       "51   1031928  2007-01-01T00:00:00.000-08:00   2   2   0   990  6.897705   \n",
       "80   1050418  2007-01-01T00:00:00.000-08:00   2   1   0    72  4.276666   \n",
       "110  1073482  2007-01-01T00:00:00.000-08:00   3   3   1  5624  8.634798   \n",
       "\n",
       "            7            8           9  ...  11         12       13       14  \\\n",
       "36    8.091015  3265.000000  485.000000 ...   0  187962429        0  6440895   \n",
       "44   24.961898   513.101903   12.612886 ...   0  187962429  5854108   237154   \n",
       "51   12.263355   460.207562   15.874508 ...   0  187962429      544  4505545   \n",
       "80    7.221105    36.986484    2.449490 ...   0  187962429      273  3933140   \n",
       "110  22.058689  1560.710531  102.446333 ...   0  187962429   201802  7046206   \n",
       "\n",
       "          15    16      17      18   19  20  \n",
       "36  -6440895  1.00  0.0000  1.0000  0.0   0  \n",
       "44  -6091262  0.75  0.0000  0.5000  0.0   0  \n",
       "51  -4506089  1.00  0.0000  0.0000  0.0   1  \n",
       "80  -3933413  0.50  0.0000  0.0000  0.0   0  \n",
       "110 -7248008  1.00  0.3333  0.6667  0.0   1  \n",
       "\n",
       "[5 rows x 21 columns]"
      ]
     },
     "execution_count": 77,
     "metadata": {},
     "output_type": "execute_result"
    }
   ],
   "source": [
    "quarter = pd.to_datetime(df[1]).dt.to_period('Q').astype('str')\n",
    "df[quarter == '2007Q1'].head()"
   ]
  },
  {
   "cell_type": "code",
   "execution_count": 78,
   "metadata": {},
   "outputs": [
    {
     "name": "stdout",
     "output_type": "stream",
     "text": [
      "--roles (node ID role ID)--\r\n",
      "\r\n",
      "1\t1\r\n",
      "1993024\t1\r\n",
      "2138537\t3\r\n",
      "1554195\t1\r\n",
      "737021\t1\r\n",
      "3451462\t3\r\n",
      "211165\t1\r\n",
      "1512459\t6\r\n"
     ]
    }
   ],
   "source": [
    "! head ../data/processed/2007-1-enwiki-projection-user-roles.csv "
   ]
  },
  {
   "cell_type": "code",
   "execution_count": 81,
   "metadata": {},
   "outputs": [
    {
     "data": {
      "text/html": [
       "<div>\n",
       "<style scoped>\n",
       "    .dataframe tbody tr th:only-of-type {\n",
       "        vertical-align: middle;\n",
       "    }\n",
       "\n",
       "    .dataframe tbody tr th {\n",
       "        vertical-align: top;\n",
       "    }\n",
       "\n",
       "    .dataframe thead th {\n",
       "        text-align: right;\n",
       "    }\n",
       "</style>\n",
       "<table border=\"1\" class=\"dataframe\">\n",
       "  <thead>\n",
       "    <tr style=\"text-align: right;\">\n",
       "      <th></th>\n",
       "      <th>0</th>\n",
       "      <th>1</th>\n",
       "    </tr>\n",
       "  </thead>\n",
       "  <tbody>\n",
       "    <tr>\n",
       "      <th>0</th>\n",
       "      <td>1</td>\n",
       "      <td>1</td>\n",
       "    </tr>\n",
       "    <tr>\n",
       "      <th>1</th>\n",
       "      <td>1993024</td>\n",
       "      <td>1</td>\n",
       "    </tr>\n",
       "    <tr>\n",
       "      <th>2</th>\n",
       "      <td>2138537</td>\n",
       "      <td>3</td>\n",
       "    </tr>\n",
       "    <tr>\n",
       "      <th>3</th>\n",
       "      <td>1554195</td>\n",
       "      <td>1</td>\n",
       "    </tr>\n",
       "    <tr>\n",
       "      <th>4</th>\n",
       "      <td>737021</td>\n",
       "      <td>1</td>\n",
       "    </tr>\n",
       "  </tbody>\n",
       "</table>\n",
       "</div>"
      ],
      "text/plain": [
       "         0  1\n",
       "0        1  1\n",
       "1  1993024  1\n",
       "2  2138537  3\n",
       "3  1554195  1\n",
       "4   737021  1"
      ]
     },
     "execution_count": 81,
     "metadata": {},
     "output_type": "execute_result"
    }
   ],
   "source": [
    "role_features = base_path + '2007-1-enwiki-projection-user-roles.csv'\n",
    "role_df = pd.read_csv(role_features, header=None, skiprows=2, sep='\\t')\n",
    "role_df.head()"
   ]
  },
  {
   "cell_type": "code",
   "execution_count": 128,
   "metadata": {},
   "outputs": [
    {
     "data": {
      "text/html": [
       "<div>\n",
       "<style scoped>\n",
       "    .dataframe tbody tr th:only-of-type {\n",
       "        vertical-align: middle;\n",
       "    }\n",
       "\n",
       "    .dataframe tbody tr th {\n",
       "        vertical-align: top;\n",
       "    }\n",
       "\n",
       "    .dataframe thead th {\n",
       "        text-align: right;\n",
       "    }\n",
       "</style>\n",
       "<table border=\"1\" class=\"dataframe\">\n",
       "  <thead>\n",
       "    <tr style=\"text-align: right;\">\n",
       "      <th></th>\n",
       "      <th>0</th>\n",
       "      <th>2</th>\n",
       "      <th>3</th>\n",
       "      <th>4</th>\n",
       "      <th>5</th>\n",
       "      <th>6</th>\n",
       "      <th>7</th>\n",
       "      <th>8</th>\n",
       "      <th>9</th>\n",
       "      <th>10</th>\n",
       "      <th>11</th>\n",
       "      <th>12</th>\n",
       "      <th>13</th>\n",
       "      <th>14</th>\n",
       "      <th>15</th>\n",
       "      <th>16</th>\n",
       "      <th>17</th>\n",
       "      <th>18</th>\n",
       "      <th>19</th>\n",
       "      <th>1</th>\n",
       "    </tr>\n",
       "  </thead>\n",
       "  <tbody>\n",
       "    <tr>\n",
       "      <th>0</th>\n",
       "      <td>1019881</td>\n",
       "      <td>1</td>\n",
       "      <td>1</td>\n",
       "      <td>0</td>\n",
       "      <td>3264</td>\n",
       "      <td>8.090709</td>\n",
       "      <td>8.091015</td>\n",
       "      <td>3265.000000</td>\n",
       "      <td>485.000000</td>\n",
       "      <td>1</td>\n",
       "      <td>0</td>\n",
       "      <td>187962429</td>\n",
       "      <td>0</td>\n",
       "      <td>6440895</td>\n",
       "      <td>-6440895</td>\n",
       "      <td>1.00</td>\n",
       "      <td>0.0000</td>\n",
       "      <td>1.0000</td>\n",
       "      <td>0.0</td>\n",
       "      <td>NaN</td>\n",
       "    </tr>\n",
       "    <tr>\n",
       "      <th>1</th>\n",
       "      <td>1026193</td>\n",
       "      <td>4</td>\n",
       "      <td>3</td>\n",
       "      <td>0</td>\n",
       "      <td>2588</td>\n",
       "      <td>7.858641</td>\n",
       "      <td>24.961898</td>\n",
       "      <td>513.101903</td>\n",
       "      <td>12.612886</td>\n",
       "      <td>2</td>\n",
       "      <td>0</td>\n",
       "      <td>187962429</td>\n",
       "      <td>5854108</td>\n",
       "      <td>237154</td>\n",
       "      <td>-6091262</td>\n",
       "      <td>0.75</td>\n",
       "      <td>0.0000</td>\n",
       "      <td>0.5000</td>\n",
       "      <td>0.0</td>\n",
       "      <td>5.0</td>\n",
       "    </tr>\n",
       "    <tr>\n",
       "      <th>2</th>\n",
       "      <td>1031928</td>\n",
       "      <td>2</td>\n",
       "      <td>2</td>\n",
       "      <td>0</td>\n",
       "      <td>990</td>\n",
       "      <td>6.897705</td>\n",
       "      <td>12.263355</td>\n",
       "      <td>460.207562</td>\n",
       "      <td>15.874508</td>\n",
       "      <td>0</td>\n",
       "      <td>0</td>\n",
       "      <td>187962429</td>\n",
       "      <td>544</td>\n",
       "      <td>4505545</td>\n",
       "      <td>-4506089</td>\n",
       "      <td>1.00</td>\n",
       "      <td>0.0000</td>\n",
       "      <td>0.0000</td>\n",
       "      <td>0.0</td>\n",
       "      <td>NaN</td>\n",
       "    </tr>\n",
       "    <tr>\n",
       "      <th>3</th>\n",
       "      <td>1050418</td>\n",
       "      <td>2</td>\n",
       "      <td>1</td>\n",
       "      <td>0</td>\n",
       "      <td>72</td>\n",
       "      <td>4.276666</td>\n",
       "      <td>7.221105</td>\n",
       "      <td>36.986484</td>\n",
       "      <td>2.449490</td>\n",
       "      <td>0</td>\n",
       "      <td>0</td>\n",
       "      <td>187962429</td>\n",
       "      <td>273</td>\n",
       "      <td>3933140</td>\n",
       "      <td>-3933413</td>\n",
       "      <td>0.50</td>\n",
       "      <td>0.0000</td>\n",
       "      <td>0.0000</td>\n",
       "      <td>0.0</td>\n",
       "      <td>NaN</td>\n",
       "    </tr>\n",
       "    <tr>\n",
       "      <th>4</th>\n",
       "      <td>1073482</td>\n",
       "      <td>3</td>\n",
       "      <td>3</td>\n",
       "      <td>1</td>\n",
       "      <td>5624</td>\n",
       "      <td>8.634798</td>\n",
       "      <td>22.058689</td>\n",
       "      <td>1560.710531</td>\n",
       "      <td>102.446333</td>\n",
       "      <td>2</td>\n",
       "      <td>0</td>\n",
       "      <td>187962429</td>\n",
       "      <td>201802</td>\n",
       "      <td>7046206</td>\n",
       "      <td>-7248008</td>\n",
       "      <td>1.00</td>\n",
       "      <td>0.3333</td>\n",
       "      <td>0.6667</td>\n",
       "      <td>0.0</td>\n",
       "      <td>5.0</td>\n",
       "    </tr>\n",
       "  </tbody>\n",
       "</table>\n",
       "</div>"
      ],
      "text/plain": [
       "        0   2   3   4     5         6          7            8           9   \\\n",
       "0  1019881   1   1   0  3264  8.090709   8.091015  3265.000000  485.000000   \n",
       "1  1026193   4   3   0  2588  7.858641  24.961898   513.101903   12.612886   \n",
       "2  1031928   2   2   0   990  6.897705  12.263355   460.207562   15.874508   \n",
       "3  1050418   2   1   0    72  4.276666   7.221105    36.986484    2.449490   \n",
       "4  1073482   3   3   1  5624  8.634798  22.058689  1560.710531  102.446333   \n",
       "\n",
       "   10  11         12       13       14       15    16      17      18   19  \\\n",
       "0   1   0  187962429        0  6440895 -6440895  1.00  0.0000  1.0000  0.0   \n",
       "1   2   0  187962429  5854108   237154 -6091262  0.75  0.0000  0.5000  0.0   \n",
       "2   0   0  187962429      544  4505545 -4506089  1.00  0.0000  0.0000  0.0   \n",
       "3   0   0  187962429      273  3933140 -3933413  0.50  0.0000  0.0000  0.0   \n",
       "4   2   0  187962429   201802  7046206 -7248008  1.00  0.3333  0.6667  0.0   \n",
       "\n",
       "    1   \n",
       "0  NaN  \n",
       "1  5.0  \n",
       "2  NaN  \n",
       "3  NaN  \n",
       "4  5.0  "
      ]
     },
     "execution_count": 128,
     "metadata": {},
     "output_type": "execute_result"
    }
   ],
   "source": [
    "user_df = df[quarter == '2007Q1'].drop([1, df.columns[-1]], axis=1)\n",
    "joined = user_df.merge(role_df, on=0, how='left')\n",
    "joined.head()"
   ]
  },
  {
   "cell_type": "code",
   "execution_count": 110,
   "metadata": {},
   "outputs": [
    {
     "data": {
      "text/plain": [
       "(115699, 2)"
      ]
     },
     "execution_count": 110,
     "metadata": {},
     "output_type": "execute_result"
    }
   ],
   "source": [
    "role_df.shape"
   ]
  },
  {
   "cell_type": "code",
   "execution_count": 109,
   "metadata": {},
   "outputs": [
    {
     "data": {
      "text/plain": [
       "(221306, 22)"
      ]
     },
     "execution_count": 109,
     "metadata": {},
     "output_type": "execute_result"
    }
   ],
   "source": [
    "joined.shape"
   ]
  },
  {
   "cell_type": "code",
   "execution_count": 101,
   "metadata": {
    "scrolled": true
   },
   "outputs": [
    {
     "data": {
      "image/png": "[encoded data removed]",
      "text/plain": [
       "<Figure size 432x288 with 1 Axes>"
      ]
     },
     "metadata": {
      "needs_background": "light"
     },
     "output_type": "display_data"
    }
   ],
   "source": [
    "import matplotlib.pyplot as plt\n",
    "joined[1].hist()\n",
    "plt.show()"
   ]
  },
  {
   "cell_type": "code",
   "execution_count": 103,
   "metadata": {},
   "outputs": [
    {
     "data": {
      "text/plain": [
       "array([nan,  5.,  0.,  3.,  2.,  4.,  6.,  1.])"
      ]
     },
     "execution_count": 103,
     "metadata": {},
     "output_type": "execute_result"
    }
   ],
   "source": [
    "joined[1].unique()"
   ]
  },
  {
   "cell_type": "code",
   "execution_count": 129,
   "metadata": {},
   "outputs": [
    {
     "data": {
      "text/plain": [
       "0    NaN\n",
       "1    5.0\n",
       "2    NaN\n",
       "3    NaN\n",
       "4    5.0\n",
       "Name: 1, dtype: float64"
      ]
     },
     "execution_count": 129,
     "metadata": {},
     "output_type": "execute_result"
    }
   ],
   "source": [
    "joined[joined.columns[-1]].head()"
   ]
  },
  {
   "cell_type": "code",
   "execution_count": 130,
   "metadata": {},
   "outputs": [],
   "source": [
    "from sklearn.preprocessing import OneHotEncoder\n",
    "\n",
    "roles = joined[joined.columns[-1]].fillna(-1)\n",
    "\n",
    "enc = OneHotEncoder(handle_unknown='ignore')\n",
    "x = enc.fit_transform(roles.values.reshape([-1, 1]))"
   ]
  },
  {
   "cell_type": "code",
   "execution_count": 136,
   "metadata": {},
   "outputs": [],
   "source": [
    "X = user_df.drop([0, user_df.columns[-1]], axis=1).values"
   ]
  },
  {
   "cell_type": "code",
   "execution_count": 146,
   "metadata": {},
   "outputs": [
    {
     "data": {
      "text/plain": [
       "(221306, 8)"
      ]
     },
     "execution_count": 146,
     "metadata": {},
     "output_type": "execute_result"
    }
   ],
   "source": [
    "x.todense().shape"
   ]
  },
  {
   "cell_type": "code",
   "execution_count": 148,
   "metadata": {},
   "outputs": [
    {
     "data": {
      "text/plain": [
       "(221306, 17)"
      ]
     },
     "execution_count": 148,
     "metadata": {},
     "output_type": "execute_result"
    }
   ],
   "source": [
    "X.shape"
   ]
  },
  {
   "cell_type": "code",
   "execution_count": 150,
   "metadata": {},
   "outputs": [
    {
     "data": {
      "text/plain": [
       "(221306, 25)"
      ]
     },
     "execution_count": 150,
     "metadata": {},
     "output_type": "execute_result"
    }
   ],
   "source": [
    "import numpy as np\n",
    "np.concatenate((X, x.todense()), axis=1).shape"
   ]
  },
  {
   "cell_type": "code",
   "execution_count": 152,
   "metadata": {},
   "outputs": [
    {
     "data": {
      "text/plain": [
       "Int64Index([0, 2, 3, 4, 5, 6, 7, 8, 9, 10, 11, 12, 13, 14, 15, 16, 17, 18, 19], dtype='int64')"
      ]
     },
     "execution_count": 152,
     "metadata": {},
     "output_type": "execute_result"
    }
   ],
   "source": [
    "user_df.columns"
   ]
  }
 ],
 "metadata": {
  "kernelspec": {
   "display_name": "Python 2",
   "language": "python",
   "name": "python2"
  },
  "language_info": {
   "codemirror_mode": {
    "name": "ipython",
    "version": 2
   },
   "file_extension": ".py",
   "mimetype": "text/x-python",
   "name": "python",
   "nbconvert_exporter": "python",
   "pygments_lexer": "ipython2",
   "version": "2.7.15"
  }
 },
 "nbformat": 4,
 "nbformat_minor": 2
}
