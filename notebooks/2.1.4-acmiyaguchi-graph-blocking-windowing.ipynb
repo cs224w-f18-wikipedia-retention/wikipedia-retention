{
 "cells": [
  {
   "cell_type": "code",
   "execution_count": 1,
   "metadata": {},
   "outputs": [],
   "source": [
    "%load_ext autoreload\n",
    "%autoreload 2"
   ]
  },
  {
   "cell_type": "code",
   "execution_count": 2,
   "metadata": {},
   "outputs": [
    {
     "name": "stdout",
     "output_type": "stream",
     "text": [
      "/home/amiyaguchi/cs224w/wikipedia-retention\n"
     ]
    }
   ],
   "source": [
    "cd .."
   ]
  },
  {
   "cell_type": "markdown",
   "metadata": {},
   "source": [
    "# Spark Preprocessing"
   ]
  },
  {
   "cell_type": "code",
   "execution_count": 3,
   "metadata": {},
   "outputs": [],
   "source": [
    "from src.data.snap_import_user_projection import UnimodalUserProjection\n",
    "from pyspark.sql import SparkSession, functions as F\n",
    "\n",
    "spark = SparkSession.builder.getOrCreate()\n",
    "\n",
    "input_path = \"data/processed/enwiki-meta-compact\"\n",
    "model = UnimodalUserProjection(spark).extract(input_path).transform()"
   ]
  },
  {
   "cell_type": "code",
   "execution_count": 4,
   "metadata": {},
   "outputs": [
    {
     "data": {
      "text/plain": [
       "53595946"
      ]
     },
     "execution_count": 4,
     "metadata": {},
     "output_type": "execute_result"
    }
   ],
   "source": [
    "spark.table(\"bipartite\").cache()\n",
    "spark.table(\"bipartite\").count()"
   ]
  },
  {
   "cell_type": "code",
   "execution_count": 53,
   "metadata": {
    "scrolled": false
   },
   "outputs": [
    {
     "name": "stdout",
     "output_type": "stream",
     "text": [
      "root\n",
      " |-- user_id: integer (nullable = true)\n",
      " |-- article_id: integer (nullable = true)\n",
      " |-- edit_date: string (nullable = true)\n",
      " |-- word_count: double (nullable = true)\n",
      " |-- num_edits: long (nullable = false)\n",
      "\n"
     ]
    }
   ],
   "source": [
    "spark.table(\"bipartite\").printSchema()"
   ]
  },
  {
   "cell_type": "code",
   "execution_count": 87,
   "metadata": {},
   "outputs": [],
   "source": [
    "windowed = spark.sql(\"\"\"\n",
    "WITH counts as (\n",
    "    SELECT\n",
    "        article_id,\n",
    "        edit_date,\n",
    "        count(user_id) as n_users\n",
    "    FROM bipartite\n",
    "    group by 1, 2\n",
    "),\n",
    "labeled as (\n",
    "    SELECT\n",
    "        *,\n",
    "        -- assign each date a row number\n",
    "        row_number() over (partition by article_id, order by edit_date) as rownum\n",
    "    FROM counts\n",
    ")\n",
    "\n",
    "nearest as (\n",
    "    SELECT article_id, edit_date, rownum from labeled\n",
    "    UNION\n",
    "    SELECT article_id, edit_date, rownum+1 as rownum\n",
    "    FROM labeled\n",
    "    WHERE n_users = 1\n",
    ")\n",
    "\"\"\")"
   ]
  }
 ],
 "metadata": {
  "anaconda-cloud": {},
  "kernelspec": {
   "display_name": "Python 3",
   "language": "python",
   "name": "python3"
  },
  "language_info": {
   "codemirror_mode": {
    "name": "ipython",
    "version": 3
   },
   "file_extension": ".py",
   "mimetype": "text/x-python",
   "name": "python",
   "nbconvert_exporter": "python",
   "pygments_lexer": "ipython3",
   "version": "3.6.6"
  }
 },
 "nbformat": 4,
 "nbformat_minor": 2
}
