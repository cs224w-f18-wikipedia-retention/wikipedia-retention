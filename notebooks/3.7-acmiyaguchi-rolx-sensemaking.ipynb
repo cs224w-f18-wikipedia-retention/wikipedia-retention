{
 "cells": [
  {
   "cell_type": "code",
   "execution_count": 1,
   "metadata": {},
   "outputs": [
    {
     "name": "stdout",
     "output_type": "stream",
     "text": [
      "/Users/amiyaguchi/wikipedia-retention\n"
     ]
    }
   ],
   "source": [
    "cd .."
   ]
  },
  {
   "cell_type": "code",
   "execution_count": 2,
   "metadata": {},
   "outputs": [],
   "source": [
    "from pyspark.sql import SparkSession, Row, functions as F, types as T\n",
    "import pandas as pd\n",
    "import numpy as np\n",
    "\n",
    "spark = SparkSession.builder.getOrCreate()\n",
    "\n",
    "# read the network for 2007Q1\n",
    "snapshot = spark.read.csv(\n",
    "    \"data/processed/2007-1-user-network-v3.csv\",\n",
    "    sep='\\t',\n",
    "    schema=\"src INT, dst INT, weight INT\"\n",
    ")\n",
    "\n",
    "# read the role distribution information\n",
    "roleG = pd.read_csv(\"data/processed/roles/2007-1-nmf-G.csv\")\n",
    "\n",
    "x = roleG.apply(lambda x: Row(\n",
    "    user_id=int(x[0]), \n",
    "    vec=x[1:].astype(float).tolist()\n",
    "), axis=1).values\n",
    "\n",
    "rolx_df = spark.createDataFrame(list(x))"
   ]
  },
  {
   "cell_type": "code",
   "execution_count": 34,
   "metadata": {},
   "outputs": [],
   "source": [
    "# generate features\n",
    "\n",
    "enwiki = spark.read.parquet(\"data/processed/enwiki-meta-compact\")\n",
    "\n",
    "user_text = (\n",
    "    enwiki\n",
    "    .where(\"year=2007 and quarter=1\")\n",
    "    .groupby(\"user_id\")\n",
    "    .agg(\n",
    "        F.expr(\"count(distinct article_id) as n_articles\"),\n",
    "        F.expr(\"count(*) as n_edits\"),\n",
    "        F.expr(\"sum(log(textdata)) as edit_count\")\n",
    "    )\n",
    ")"
   ]
  },
  {
   "cell_type": "code",
   "execution_count": 289,
   "metadata": {},
   "outputs": [],
   "source": [
    "from sklearn.decomposition import NMF\n",
    "\n",
    "rolx_vec = pd.read_csv(\n",
    "    \"data/processed/roles/2007-1-v\", \n",
    "    header=None, \n",
    "    sep=\" \"\n",
    ")\n",
    "rolx_mapping = pd.read_csv(\n",
    "    \"data/processed/roles/2007-1-mappings\", \n",
    "    header=None, \n",
    "    skiprows=1, \n",
    "    sep=\" \"\n",
    ")\n",
    "df = pd.concat([rolx_mapping, rolx_vec], axis=1).iloc[:, 1:]\n",
    "\n",
    "nmf = NMF(n_components=8,\n",
    "          solver=\"mu\", \n",
    "          beta_loss=\"kullback-leibler\",\n",
    "          tol=1e-6,\n",
    "          max_iter=1000)\n",
    "\n",
    "X = df.values[:, 1:]\n",
    "W = nmf.fit_transform(X)\n",
    "roleG = pd.concat([df.iloc[:, 0], pd.DataFrame(W)], axis=1)\n",
    "x = roleG.apply(lambda x: Row(\n",
    "    user_id=int(x[0]), \n",
    "    vec=x[1:].astype(float).tolist()\n",
    "), axis=1).values\n",
    "rolx_df = spark.createDataFrame(list(x))"
   ]
  },
  {
   "cell_type": "code",
   "execution_count": 290,
   "metadata": {},
   "outputs": [],
   "source": [
    "edgelist = (\n",
    "    snapshot\n",
    "    .union(snapshot.selectExpr(\"dst as src\", \"src as dst\", \"weight\"))\n",
    "    .distinct()\n",
    ")\n",
    "\n",
    "@F.udf(T.ArrayType(T.FloatType()))\n",
    "def average_vec(vecs):\n",
    "    avg = np.array(vecs).sum(axis=0)/len(vecs)\n",
    "    return avg.astype(float).tolist()\n",
    "\n",
    "neighbors = (\n",
    "    edgelist\n",
    "    .join(rolx_df.selectExpr(\"user_id as dst\", \"vec\"), on=\"dst\")\n",
    "    .groupby(\"src\")\n",
    "    .agg(F.collect_list(\"vec\").alias(\"vec_list\"))\n",
    "    .withColumn(\"neighborhood_roles\", average_vec(\"vec_list\"))\n",
    "    .selectExpr(\"src as user_id\", \"neighborhood_roles\")\n",
    ")"
   ]
  },
  {
   "cell_type": "code",
   "execution_count": 291,
   "metadata": {},
   "outputs": [],
   "source": [
    "df = (\n",
    "    user_text\n",
    "    .join(rolx_df, on=\"user_id\", how=\"inner\")\n",
    "    .join(neighbors, on=\"user_id\", how=\"inner\")\n",
    "    .select(\n",
    "        \"user_id\",\n",
    "        F.array(\"n_articles\", \"n_edits\", \"edit_count\").alias(\"features\"),\n",
    "        F.expr(\"vec as roles\"),\n",
    "        \"neighborhood_roles\"\n",
    "    )\n",
    ").toPandas()"
   ]
  },
  {
   "cell_type": "code",
   "execution_count": 292,
   "metadata": {
    "scrolled": true
   },
   "outputs": [],
   "source": [
    "from sklearn.decomposition import non_negative_factorization"
   ]
  },
  {
   "cell_type": "code",
   "execution_count": 293,
   "metadata": {},
   "outputs": [
    {
     "name": "stdout",
     "output_type": "stream",
     "text": [
      "(21175, 4)\n"
     ]
    },
    {
     "data": {
      "text/html": [
       "<div>\n",
       "<style scoped>\n",
       "    .dataframe tbody tr th:only-of-type {\n",
       "        vertical-align: middle;\n",
       "    }\n",
       "\n",
       "    .dataframe tbody tr th {\n",
       "        vertical-align: top;\n",
       "    }\n",
       "\n",
       "    .dataframe thead th {\n",
       "        text-align: right;\n",
       "    }\n",
       "</style>\n",
       "<table border=\"1\" class=\"dataframe\">\n",
       "  <thead>\n",
       "    <tr style=\"text-align: right;\">\n",
       "      <th></th>\n",
       "      <th>user_id</th>\n",
       "      <th>features</th>\n",
       "      <th>roles</th>\n",
       "      <th>neighborhood_roles</th>\n",
       "    </tr>\n",
       "  </thead>\n",
       "  <tbody>\n",
       "    <tr>\n",
       "      <th>0</th>\n",
       "      <td>1591</td>\n",
       "      <td>[507.0, 626.0, 4059.231716292192]</td>\n",
       "      <td>[1591.650904411446, 1614.9057464039424, 0.0, 1...</td>\n",
       "      <td>[1026.5643310546875, 1443.28515625, 282.127807...</td>\n",
       "    </tr>\n",
       "    <tr>\n",
       "      <th>1</th>\n",
       "      <td>1591</td>\n",
       "      <td>[507.0, 626.0, 4059.231716292192]</td>\n",
       "      <td>[1591.908361811882, 1612.5630148471107, 0.0, 7...</td>\n",
       "      <td>[1026.5643310546875, 1443.28515625, 282.127807...</td>\n",
       "    </tr>\n",
       "    <tr>\n",
       "      <th>2</th>\n",
       "      <td>1591</td>\n",
       "      <td>[507.0, 626.0, 4059.231716292192]</td>\n",
       "      <td>[1591.803772082812, 1542.0965600039221, 588.58...</td>\n",
       "      <td>[1026.5643310546875, 1443.28515625, 282.127807...</td>\n",
       "    </tr>\n",
       "    <tr>\n",
       "      <th>3</th>\n",
       "      <td>1591</td>\n",
       "      <td>[507.0, 626.0, 4059.231716292192]</td>\n",
       "      <td>[1591.4463764874363, 1502.6891936742527, 628.0...</td>\n",
       "      <td>[1026.5643310546875, 1443.28515625, 282.127807...</td>\n",
       "    </tr>\n",
       "    <tr>\n",
       "      <th>4</th>\n",
       "      <td>1591</td>\n",
       "      <td>[507.0, 626.0, 4059.231716292192]</td>\n",
       "      <td>[1591.4315034591712, 1500.5521517084192, 787.2...</td>\n",
       "      <td>[1026.5643310546875, 1443.28515625, 282.127807...</td>\n",
       "    </tr>\n",
       "  </tbody>\n",
       "</table>\n",
       "</div>"
      ],
      "text/plain": [
       "  user_id                           features  \\\n",
       "0    1591  [507.0, 626.0, 4059.231716292192]   \n",
       "1    1591  [507.0, 626.0, 4059.231716292192]   \n",
       "2    1591  [507.0, 626.0, 4059.231716292192]   \n",
       "3    1591  [507.0, 626.0, 4059.231716292192]   \n",
       "4    1591  [507.0, 626.0, 4059.231716292192]   \n",
       "\n",
       "                                               roles  \\\n",
       "0  [1591.650904411446, 1614.9057464039424, 0.0, 1...   \n",
       "1  [1591.908361811882, 1612.5630148471107, 0.0, 7...   \n",
       "2  [1591.803772082812, 1542.0965600039221, 588.58...   \n",
       "3  [1591.4463764874363, 1502.6891936742527, 628.0...   \n",
       "4  [1591.4315034591712, 1500.5521517084192, 787.2...   \n",
       "\n",
       "                                  neighborhood_roles  \n",
       "0  [1026.5643310546875, 1443.28515625, 282.127807...  \n",
       "1  [1026.5643310546875, 1443.28515625, 282.127807...  \n",
       "2  [1026.5643310546875, 1443.28515625, 282.127807...  \n",
       "3  [1026.5643310546875, 1443.28515625, 282.127807...  \n",
       "4  [1026.5643310546875, 1443.28515625, 282.127807...  "
      ]
     },
     "execution_count": 293,
     "metadata": {},
     "output_type": "execute_result"
    }
   ],
   "source": [
    "# Sensing\n",
    "print(df.shape)\n",
    "df.head()"
   ]
  },
  {
   "cell_type": "code",
   "execution_count": 294,
   "metadata": {},
   "outputs": [
    {
     "data": {
      "text/plain": [
       "(21175, 3)"
      ]
     },
     "execution_count": 294,
     "metadata": {},
     "output_type": "execute_result"
    }
   ],
   "source": [
    "features = np.array(list(df.features))\n",
    "features.shape"
   ]
  },
  {
   "cell_type": "code",
   "execution_count": 295,
   "metadata": {},
   "outputs": [
    {
     "data": {
      "text/plain": [
       "(21175, 8)"
      ]
     },
     "execution_count": 295,
     "metadata": {},
     "output_type": "execute_result"
    }
   ],
   "source": [
    "roles = np.array(list(df.roles))\n",
    "roles.shape"
   ]
  },
  {
   "cell_type": "code",
   "execution_count": 296,
   "metadata": {},
   "outputs": [
    {
     "data": {
      "text/plain": [
       "(21175, 8)"
      ]
     },
     "execution_count": 296,
     "metadata": {},
     "output_type": "execute_result"
    }
   ],
   "source": [
    "neighborhood_roles = np.array(list(df.roles))\n",
    "neighborhood_roles.shape"
   ]
  },
  {
   "cell_type": "code",
   "execution_count": 306,
   "metadata": {},
   "outputs": [
    {
     "data": {
      "text/plain": [
       "(3, 8)"
      ]
     },
     "execution_count": 306,
     "metadata": {},
     "output_type": "execute_result"
    }
   ],
   "source": [
    "# W (n x r) dot H (r x f) = M (n x f)\n",
    "# f x n = (f x r) dot (r x n) \n",
    "\n",
    "W, _, _ = non_negative_factorization(\n",
    "    X = features.T,\n",
    "    H = roles.T,\n",
    "    n_components=roles.shape[1],\n",
    "    update_H = False,\n",
    "    solver='mu', \n",
    "    beta_loss=\"kullback-leibler\", \n",
    "    init='custom',\n",
    "    tol=10e-6,\n",
    "    max_iter=1000\n",
    ")\n",
    "W.shape"
   ]
  },
  {
   "cell_type": "code",
   "execution_count": 307,
   "metadata": {},
   "outputs": [
    {
     "data": {
      "text/plain": [
       "(3, 1)"
      ]
     },
     "execution_count": 307,
     "metadata": {},
     "output_type": "execute_result"
    }
   ],
   "source": [
    "W_def, _, _ = non_negative_factorization(\n",
    "    X = features.T,\n",
    "    H = np.ones((1, roles.shape[0])),\n",
    "    n_components=1,\n",
    "    update_H = False,\n",
    "    solver='mu', \n",
    "    beta_loss=\"kullback-leibler\", \n",
    "    init='custom',\n",
    "    tol=10e-6,\n",
    "    max_iter=1000\n",
    ")\n",
    "W_def.shape"
   ]
  },
  {
   "cell_type": "code",
   "execution_count": 308,
   "metadata": {},
   "outputs": [
    {
     "data": {
      "image/png": "[encoded data removed]",
      "text/plain": [
       "<Figure size 432x288 with 1 Axes>"
      ]
     },
     "metadata": {
      "needs_background": "light"
     },
     "output_type": "display_data"
    },
    {
     "data": {
      "image/png": "[encoded data removed]",
      "text/plain": [
       "<Figure size 432x288 with 1 Axes>"
      ]
     },
     "metadata": {
      "needs_background": "light"
     },
     "output_type": "display_data"
    },
    {
     "data": {
      "image/png": "[encoded data removed]",
      "text/plain": [
       "<Figure size 432x288 with 1 Axes>"
      ]
     },
     "metadata": {
      "needs_background": "light"
     },
     "output_type": "display_data"
    }
   ],
   "source": [
    "import matplotlib.pyplot as plt\n",
    "\n",
    "W = W/W_def\n",
    "plt.bar(np.arange(W.shape[1]), W[0])\n",
    "plt.show()\n",
    "plt.stem(np.arange(W.shape[1]), W[1])\n",
    "plt.show()\n",
    "plt.stem(np.arange(W.shape[1]), W[2])\n",
    "plt.show()"
   ]
  },
  {
   "cell_type": "code",
   "execution_count": 300,
   "metadata": {},
   "outputs": [],
   "source": [
    "W, _, _ = non_negative_factorization(\n",
    "    X = neighborhood_roles.T,\n",
    "    H = roles.T,\n",
    "    n_components=roles.shape[1],\n",
    "    update_H = False,\n",
    "    solver='mu', \n",
    "    beta_loss=\"kullback-leibler\", \n",
    "    init='custom',\n",
    "    tol=10e-6,\n",
    "    max_iter=1000\n",
    ")"
   ]
  },
  {
   "cell_type": "code",
   "execution_count": 301,
   "metadata": {},
   "outputs": [],
   "source": [
    "W_def, _, _ = non_negative_factorization(\n",
    "    X = neighborhood_roles.T,\n",
    "    H = np.ones((1, roles.shape[0])),\n",
    "    n_components=1,\n",
    "    update_H = False,\n",
    "    solver='mu', \n",
    "    beta_loss=\"kullback-leibler\", \n",
    "    init='custom',\n",
    "    tol=10e-6,\n",
    "    max_iter=1000\n",
    ")"
   ]
  },
  {
   "cell_type": "code",
   "execution_count": 302,
   "metadata": {},
   "outputs": [
    {
     "data": {
      "text/plain": [
       "array([[ 932.03625513],\n",
       "       [1453.71973065],\n",
       "       [ 250.31770111],\n",
       "       [  37.74073485],\n",
       "       [ 365.96798821],\n",
       "       [ 276.21575412],\n",
       "       [  30.96345305],\n",
       "       [  80.61744342]])"
      ]
     },
     "execution_count": 302,
     "metadata": {},
     "output_type": "execute_result"
    }
   ],
   "source": [
    "W_def"
   ]
  },
  {
   "cell_type": "code",
   "execution_count": 303,
   "metadata": {},
   "outputs": [
    {
     "data": {
      "text/plain": [
       "array([[9.95179037e-001, 8.24536122e-005, 7.94655682e-003,\n",
       "        2.05734434e-007, 3.64249697e-012, 6.77391301e-010,\n",
       "        2.52388893e-003, 2.86058189e-002],\n",
       "       [5.29510279e-051, 9.99898591e-001, 3.89181127e-009,\n",
       "        1.05441343e-004, 5.34747664e-005, 1.69261426e-009,\n",
       "        4.00050550e-003, 3.19748332e-148],\n",
       "       [2.67608021e-094, 9.45571279e-202, 1.00000000e+000,\n",
       "        0.00000000e+000, 2.09628766e-310, 3.48109358e-169,\n",
       "        2.22387335e-205, 1.55082193e-251],\n",
       "       [3.09216479e-197, 0.00000000e+000, 3.68378546e-190,\n",
       "        9.99999991e-001, 0.00000000e+000, 0.00000000e+000,\n",
       "        1.12293072e-008, 0.00000000e+000],\n",
       "       [1.45179506e-097, 4.02444657e-127, 1.84544787e-091,\n",
       "        3.66996881e-173, 1.00000000e+000, 1.27275770e-092,\n",
       "        7.93111037e-158, 4.38742515e-124],\n",
       "       [1.79328071e-076, 2.12554570e-062, 6.74061030e-051,\n",
       "        2.99449043e-136, 4.07635666e-128, 1.00000000e+000,\n",
       "        1.27479819e-098, 1.35780743e-064],\n",
       "       [5.48053984e-237, 4.78328175e-309, 2.56874343e-269,\n",
       "        9.74252640e-021, 0.00000000e+000, 0.00000000e+000,\n",
       "        1.00000000e+000, 9.21169977e-310],\n",
       "       [2.28254656e-080, 1.03787485e-173, 2.30785910e-122,\n",
       "        1.43672951e-179, 5.65892543e-193, 1.08354501e-215,\n",
       "        9.61975284e-109, 1.00000000e+000]])"
      ]
     },
     "execution_count": 303,
     "metadata": {},
     "output_type": "execute_result"
    }
   ],
   "source": [
    "W"
   ]
  },
  {
   "cell_type": "code",
   "execution_count": 304,
   "metadata": {},
   "outputs": [
    {
     "data": {
      "text/plain": [
       "<matplotlib.image.AxesImage at 0x11f90ccc0>"
      ]
     },
     "execution_count": 304,
     "metadata": {},
     "output_type": "execute_result"
    },
    {
     "data": {
      "image/png": "[encoded data removed]",
      "text/plain": [
       "<Figure size 432x288 with 1 Axes>"
      ]
     },
     "metadata": {
      "needs_background": "light"
     },
     "output_type": "display_data"
    }
   ],
   "source": [
    "plt.imshow((W/W_def).T, cmap=\"coolwarm\")"
   ]
  }
 ],
 "metadata": {
  "kernelspec": {
   "display_name": "Python 3",
   "language": "python",
   "name": "python3"
  },
  "language_info": {
   "codemirror_mode": {
    "name": "ipython",
    "version": 3
   },
   "file_extension": ".py",
   "mimetype": "text/x-python",
   "name": "python",
   "nbconvert_exporter": "python",
   "pygments_lexer": "ipython3",
   "version": "3.7.0"
  }
 },
 "nbformat": 4,
 "nbformat_minor": 2
}
