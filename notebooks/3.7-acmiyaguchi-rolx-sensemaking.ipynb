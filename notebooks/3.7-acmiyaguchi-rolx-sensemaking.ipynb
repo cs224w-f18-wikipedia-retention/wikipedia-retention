{
 "cells": [
  {
   "cell_type": "code",
   "execution_count": 1,
   "metadata": {},
   "outputs": [
    {
     "name": "stdout",
     "output_type": "stream",
     "text": [
      "/Users/amiyaguchi/wikipedia-retention\n"
     ]
    }
   ],
   "source": [
    "cd .."
   ]
  },
  {
   "cell_type": "code",
   "execution_count": 2,
   "metadata": {},
   "outputs": [],
   "source": [
    "from pyspark.sql import SparkSession, Row, functions as F, types as T\n",
    "import pandas as pd\n",
    "import numpy as np\n",
    "\n",
    "spark = SparkSession.builder.getOrCreate()\n",
    "\n",
    "# read the network for 2007Q1\n",
    "snapshot = spark.read.csv(\n",
    "    \"data/processed/2007-1-user-network-v3.csv\",\n",
    "    sep='\\t',\n",
    "    schema=\"src INT, dst INT, weight INT\"\n",
    ")\n",
    "\n",
    "# read the role distribution information\n",
    "roleG = pd.read_csv(\"data/processed/roles/2007-1-nmf-G.csv\")\n",
    "\n",
    "x = roleG.apply(lambda x: Row(\n",
    "    user_id=int(x[0]), \n",
    "    vec=x[1:].astype(float).tolist()\n",
    "), axis=1).values\n",
    "\n",
    "rolx_df = spark.createDataFrame(list(x))"
   ]
  },
  {
   "cell_type": "code",
   "execution_count": 34,
   "metadata": {},
   "outputs": [],
   "source": [
    "# generate features\n",
    "\n",
    "enwiki = spark.read.parquet(\"data/processed/enwiki-meta-compact\")\n",
    "\n",
    "user_text = (\n",
    "    enwiki\n",
    "    .where(\"year=2007 and quarter=1\")\n",
    "    .groupby(\"user_id\")\n",
    "    .agg(\n",
    "        F.expr(\"count(distinct article_id) as n_articles\"),\n",
    "        F.expr(\"count(*) as n_edits\"),\n",
    "        F.expr(\"sum(log(textdata)) as edit_count\")\n",
    "    )\n",
    ")"
   ]
  },
  {
   "cell_type": "code",
   "execution_count": 619,
   "metadata": {},
   "outputs": [],
   "source": [
    "from sklearn.decomposition import NMF\n",
    "\n",
    "rolx_vec = pd.read_csv(\n",
    "    \"data/processed/roles/2007-1-v\", \n",
    "    header=None, \n",
    "    sep=\" \"\n",
    ")\n",
    "rolx_mapping = pd.read_csv(\n",
    "    \"data/processed/roles/2007-1-mappings\", \n",
    "    header=None, \n",
    "    skiprows=1, \n",
    "    sep=\" \"\n",
    ")\n",
    "df = pd.concat([rolx_mapping, rolx_vec], axis=1).iloc[:, 1:]\n",
    "\n",
    "nmf = NMF(n_components=8,\n",
    "          solver=\"mu\", \n",
    "          #beta_loss=\"kullback-leibler\",\n",
    "          tol=1e-6,\n",
    "          max_iter=1000)\n",
    "\n",
    "X = df.values[:, 1:]\n",
    "W = nmf.fit_transform(X)\n",
    "roleG = pd.concat([df.iloc[:, 0], pd.DataFrame(W)], axis=1)"
   ]
  },
  {
   "cell_type": "code",
   "execution_count": 620,
   "metadata": {},
   "outputs": [],
   "source": [
    "def to_row(r):\n",
    "    return Row(user_id=int(r[0]), vec=r[1:].astype(float).tolist())\n",
    "\n",
    "rolx_df = spark.createDataFrame(list(map(to_row, roleG.values)))"
   ]
  },
  {
   "cell_type": "code",
   "execution_count": 621,
   "metadata": {},
   "outputs": [],
   "source": [
    "edgelist = (\n",
    "    snapshot\n",
    "    .union(snapshot.selectExpr(\"dst as src\", \"src as dst\", \"weight\"))\n",
    "    .distinct()\n",
    ")\n",
    "\n",
    "@F.udf(T.ArrayType(T.FloatType()))\n",
    "def average_vec(vecs):\n",
    "    avg = np.array(vecs).sum(axis=0)/len(vecs)\n",
    "    return avg.astype(float).tolist()\n",
    "\n",
    "neighbors = (\n",
    "    edgelist\n",
    "    .join(rolx_df.selectExpr(\"user_id as dst\", \"vec\"), on=\"dst\")\n",
    "    .groupby(\"src\")\n",
    "    .agg(F.collect_list(\"vec\").alias(\"vec_list\"))\n",
    "    .withColumn(\"neighborhood_roles\", average_vec(\"vec_list\"))\n",
    "    .selectExpr(\"src as user_id\", \"neighborhood_roles\")\n",
    ")"
   ]
  },
  {
   "cell_type": "code",
   "execution_count": 622,
   "metadata": {},
   "outputs": [],
   "source": [
    "df = (\n",
    "    user_text\n",
    "    .join(rolx_df, on=\"user_id\", how=\"inner\")\n",
    "    .join(neighbors, on=\"user_id\", how=\"inner\")\n",
    "    .select(\n",
    "        \"user_id\",\n",
    "        F.array(\"n_articles\", \"n_edits\", \"edit_count\").alias(\"features\"),\n",
    "        F.expr(\"vec as roles\"),\n",
    "        \"neighborhood_roles\"\n",
    "    )\n",
    ").toPandas()"
   ]
  },
  {
   "cell_type": "code",
   "execution_count": 623,
   "metadata": {},
   "outputs": [
    {
     "name": "stdout",
     "output_type": "stream",
     "text": [
      "-RECORD 0--------------------------------------\n",
      " label                   | 0                   \n",
      " n_users                 | 110148              \n",
      " n_admins                | 74                  \n",
      " avg(n_articles)         | 3.9103569742528235  \n",
      " stddev_samp(n_articles) | 6.964786853844657   \n",
      " avg(n_edits)            | 9.422685840868649   \n",
      " stddev_samp(n_edits)    | 25.285809330721257  \n",
      " avg(edit_count)         | 62.097950466099455  \n",
      " stddev_samp(edit_count) | 174.46593330714765  \n",
      " pct_admin               | 0.0006718233649272  \n",
      "-RECORD 1--------------------------------------\n",
      " label                   | 1                   \n",
      " n_users                 | 205589              \n",
      " n_admins                | 297                 \n",
      " avg(n_articles)         | 8.43357864477185    \n",
      " stddev_samp(n_articles) | 32.1373346418445    \n",
      " avg(n_edits)            | 19.43694458361099   \n",
      " stddev_samp(n_edits)    | 87.34159041769928   \n",
      " avg(edit_count)         | 133.23406699040683  \n",
      " stddev_samp(edit_count) | 603.7051212588419   \n",
      " pct_admin               | 0.0014446298196888  \n",
      "-RECORD 2--------------------------------------\n",
      " label                   | 2                   \n",
      " n_users                 | 16763               \n",
      " n_admins                | 4                   \n",
      " avg(n_articles)         | 1.242736980254131   \n",
      " stddev_samp(n_articles) | 0.7200779841559347  \n",
      " avg(n_edits)            | 2.8975123784525443  \n",
      " stddev_samp(n_edits)    | 5.921199953818681   \n",
      " avg(edit_count)         | 18.552466193395965  \n",
      " stddev_samp(edit_count) | 43.49549761839497   \n",
      " pct_admin               | 0.0002386207719382  \n",
      "-RECORD 3--------------------------------------\n",
      " label                   | 3                   \n",
      " n_users                 | 360                 \n",
      " n_admins                | 43                  \n",
      " avg(n_articles)         | 3817.2916666666665  \n",
      " stddev_samp(n_articles) | 9585.290101490691   \n",
      " avg(n_edits)            | 4991.383333333333   \n",
      " stddev_samp(n_edits)    | 11071.632186002073  \n",
      " avg(edit_count)         | 31852.566163277534  \n",
      " stddev_samp(edit_count) | 67739.9887154708    \n",
      " pct_admin               | 0.1194444444444444  \n",
      "-RECORD 4--------------------------------------\n",
      " label                   | 4                   \n",
      " n_users                 | 4410                \n",
      " n_admins                | 1                   \n",
      " avg(n_articles)         | 1.1249433106575963  \n",
      " stddev_samp(n_articles) | 0.41902917201676787 \n",
      " avg(n_edits)            | 2.378684807256236   \n",
      " stddev_samp(n_edits)    | 3.3560065335158615  \n",
      " avg(edit_count)         | 15.775008305526471  \n",
      " stddev_samp(edit_count) | 23.556273924055276  \n",
      " pct_admin               | 0.0002267573696145  \n",
      "-RECORD 5--------------------------------------\n",
      " label                   | 5                   \n",
      " n_users                 | 2000                \n",
      " n_admins                | 0                   \n",
      " avg(n_articles)         | 1.1005              \n",
      " stddev_samp(n_articles) | 0.3680590764291391  \n",
      " avg(n_edits)            | 2.6685              \n",
      " stddev_samp(n_edits)    | 4.786550248523545   \n",
      " avg(edit_count)         | 17.506869024990454  \n",
      " stddev_samp(edit_count) | 33.88392552816485   \n",
      " pct_admin               | 0E-16               \n",
      "-RECORD 6--------------------------------------\n",
      " label                   | 6                   \n",
      " n_users                 | 1996                \n",
      " n_admins                | 147                 \n",
      " avg(n_articles)         | 557.9298597194389   \n",
      " stddev_samp(n_articles) | 392.66070488793264  \n",
      " avg(n_edits)            | 1049.260521042084   \n",
      " stddev_samp(n_edits)    | 852.5806887571598   \n",
      " avg(edit_count)         | 7031.550433468135   \n",
      " stddev_samp(edit_count) | 5538.405183399094   \n",
      " pct_admin               | 0.0736472945891784  \n",
      "-RECORD 7--------------------------------------\n",
      " label                   | 7                   \n",
      " n_users                 | 1019                \n",
      " n_admins                | 0                   \n",
      " avg(n_articles)         | 1.084396467124632   \n",
      " stddev_samp(n_articles) | 0.3207645333907977  \n",
      " avg(n_edits)            | 2.409224730127576   \n",
      " stddev_samp(n_edits)    | 3.572206794496801   \n",
      " avg(edit_count)         | 14.219353918237212  \n",
      " stddev_samp(edit_count) | 23.61580503772329   \n",
      " pct_admin               | 0E-16               \n",
      "\n"
     ]
    }
   ],
   "source": [
    "@F.udf(T.IntegerType())\n",
    "def label(vec):\n",
    "    return vec.index(max(vec))\n",
    "\n",
    "admins = spark.read.csv(\"data/processed/admin_mapping.csv\", schema=\"user_id INT, username STRING\")\n",
    "\n",
    "discrete_df = (\n",
    "    user_text\n",
    "    .join(rolx_df, on=\"user_id\", how=\"inner\")\n",
    "    .join(admins, on=\"user_id\", how=\"left\")\n",
    "    .withColumn(\"is_admin\", F.expr(\"username is not null\").cast('int'))\n",
    "    .withColumn(\"label\", label(\"vec\"))\n",
    "    .groupBy(\"label\").agg(\n",
    "        F.count(\"user_id\").alias(\"n_users\"),\n",
    "        F.sum(\"is_admin\").alias(\"n_admins\"),\n",
    "        F.avg(\"n_articles\"),\n",
    "        F.stddev(\"n_articles\"),\n",
    "        F.avg(\"n_edits\"),\n",
    "        F.stddev(\"n_edits\"),        \n",
    "        F.avg(\"edit_count\"),\n",
    "        F.stddev(\"edit_count\"),\n",
    "    )\n",
    "    .withColumn(\"pct_admin\", F.expr(\"n_admins*1.0/n_users\"))\n",
    "    .orderBy(\"label\")\n",
    ")\n",
    "discrete_df.show(vertical=True)\n",
    "\n",
    "#discrete = discrete_df.toPandas()"
   ]
  },
  {
   "cell_type": "code",
   "execution_count": 624,
   "metadata": {},
   "outputs": [
    {
     "data": {
      "text/plain": [
       "Text(0.5, 1.0, 'Roles vs User Count')"
      ]
     },
     "execution_count": 624,
     "metadata": {},
     "output_type": "execute_result"
    },
    {
     "data": {
      "image/png": "[encoded data removed]",
      "text/plain": [
       "<Figure size 432x288 with 1 Axes>"
      ]
     },
     "metadata": {
      "needs_background": "light"
     },
     "output_type": "display_data"
    }
   ],
   "source": [
    "plt.bar(discrete.label, discrete['count'])\n",
    "plt.title(\"Roles vs User Count\")"
   ]
  },
  {
   "cell_type": "code",
   "execution_count": 625,
   "metadata": {},
   "outputs": [
    {
     "data": {
      "text/plain": [
       "<BarContainer object of 8 artists>"
      ]
     },
     "execution_count": 625,
     "metadata": {},
     "output_type": "execute_result"
    },
    {
     "data": {
      "image/png": "[encoded data removed]",
      "text/plain": [
       "<Figure size 432x288 with 1 Axes>"
      ]
     },
     "metadata": {
      "needs_background": "light"
     },
     "output_type": "display_data"
    }
   ],
   "source": [
    "plt.bar(discrete.label, discrete['avg(n_edits)'])"
   ]
  },
  {
   "cell_type": "code",
   "execution_count": 626,
   "metadata": {
    "scrolled": true
   },
   "outputs": [
    {
     "name": "stdout",
     "output_type": "stream",
     "text": [
      "(342282, 4)\n"
     ]
    },
    {
     "data": {
      "text/html": [
       "<div>\n",
       "<style scoped>\n",
       "    .dataframe tbody tr th:only-of-type {\n",
       "        vertical-align: middle;\n",
       "    }\n",
       "\n",
       "    .dataframe tbody tr th {\n",
       "        vertical-align: top;\n",
       "    }\n",
       "\n",
       "    .dataframe thead th {\n",
       "        text-align: right;\n",
       "    }\n",
       "</style>\n",
       "<table border=\"1\" class=\"dataframe\">\n",
       "  <thead>\n",
       "    <tr style=\"text-align: right;\">\n",
       "      <th></th>\n",
       "      <th>user_id</th>\n",
       "      <th>features</th>\n",
       "      <th>roles</th>\n",
       "      <th>neighborhood_roles</th>\n",
       "    </tr>\n",
       "  </thead>\n",
       "  <tbody>\n",
       "    <tr>\n",
       "      <th>0</th>\n",
       "      <td>148</td>\n",
       "      <td>[2.0, 3.0, 22.478231383381992]</td>\n",
       "      <td>[346.03147172318637, 1777.2228620396909, 0.0, ...</td>\n",
       "      <td>[691.661376953125, 1777.6260986328125, 107.524...</td>\n",
       "    </tr>\n",
       "    <tr>\n",
       "      <th>1</th>\n",
       "      <td>1591</td>\n",
       "      <td>[507.0, 626.0, 4059.231716292192]</td>\n",
       "      <td>[555.5762169770873, 1770.1024712409373, 0.0, 2...</td>\n",
       "      <td>[1012.947509765625, 1703.3255615234375, 165.04...</td>\n",
       "    </tr>\n",
       "    <tr>\n",
       "      <th>2</th>\n",
       "      <td>2122</td>\n",
       "      <td>[3.0, 3.0, 18.201966120442165]</td>\n",
       "      <td>[1181.3254292450727, 1392.4247087763488, 1133....</td>\n",
       "      <td>[597.04638671875, 1833.0750732421875, 0.0, 710...</td>\n",
       "    </tr>\n",
       "    <tr>\n",
       "      <th>3</th>\n",
       "      <td>3749</td>\n",
       "      <td>[27.0, 65.0, 509.6047028908837]</td>\n",
       "      <td>[1523.001900116575, 1474.7672615521114, 684.90...</td>\n",
       "      <td>[761.4380493164062, 1764.702880859375, 79.4027...</td>\n",
       "    </tr>\n",
       "    <tr>\n",
       "      <th>4</th>\n",
       "      <td>3997</td>\n",
       "      <td>[1.0, 1.0, 6.543911845564792]</td>\n",
       "      <td>[4.371543167268055e-62, 1747.511124477011, 0.0...</td>\n",
       "      <td>[1068.2176513671875, 1748.511962890625, 0.0, 7...</td>\n",
       "    </tr>\n",
       "  </tbody>\n",
       "</table>\n",
       "</div>"
      ],
      "text/plain": [
       "  user_id                           features  \\\n",
       "0     148     [2.0, 3.0, 22.478231383381992]   \n",
       "1    1591  [507.0, 626.0, 4059.231716292192]   \n",
       "2    2122     [3.0, 3.0, 18.201966120442165]   \n",
       "3    3749    [27.0, 65.0, 509.6047028908837]   \n",
       "4    3997      [1.0, 1.0, 6.543911845564792]   \n",
       "\n",
       "                                               roles  \\\n",
       "0  [346.03147172318637, 1777.2228620396909, 0.0, ...   \n",
       "1  [555.5762169770873, 1770.1024712409373, 0.0, 2...   \n",
       "2  [1181.3254292450727, 1392.4247087763488, 1133....   \n",
       "3  [1523.001900116575, 1474.7672615521114, 684.90...   \n",
       "4  [4.371543167268055e-62, 1747.511124477011, 0.0...   \n",
       "\n",
       "                                  neighborhood_roles  \n",
       "0  [691.661376953125, 1777.6260986328125, 107.524...  \n",
       "1  [1012.947509765625, 1703.3255615234375, 165.04...  \n",
       "2  [597.04638671875, 1833.0750732421875, 0.0, 710...  \n",
       "3  [761.4380493164062, 1764.702880859375, 79.4027...  \n",
       "4  [1068.2176513671875, 1748.511962890625, 0.0, 7...  "
      ]
     },
     "execution_count": 626,
     "metadata": {},
     "output_type": "execute_result"
    }
   ],
   "source": [
    "from sklearn.decomposition import non_negative_factorization\n",
    "\n",
    "print(df.shape)\n",
    "df.head()"
   ]
  },
  {
   "cell_type": "code",
   "execution_count": 627,
   "metadata": {},
   "outputs": [
    {
     "data": {
      "text/plain": [
       "(342282, 3)"
      ]
     },
     "execution_count": 627,
     "metadata": {},
     "output_type": "execute_result"
    }
   ],
   "source": [
    "features = np.array(list(df.features))\n",
    "features.shape"
   ]
  },
  {
   "cell_type": "code",
   "execution_count": 628,
   "metadata": {},
   "outputs": [
    {
     "data": {
      "text/plain": [
       "(342282, 8)"
      ]
     },
     "execution_count": 628,
     "metadata": {},
     "output_type": "execute_result"
    }
   ],
   "source": [
    "roles = np.array(list(df.roles))\n",
    "roles.shape"
   ]
  },
  {
   "cell_type": "code",
   "execution_count": 629,
   "metadata": {},
   "outputs": [
    {
     "data": {
      "text/plain": [
       "(342282, 8)"
      ]
     },
     "execution_count": 629,
     "metadata": {},
     "output_type": "execute_result"
    }
   ],
   "source": [
    "neighborhood_roles = np.array(list(df.roles))\n",
    "neighborhood_roles.shape"
   ]
  },
  {
   "cell_type": "code",
   "execution_count": 630,
   "metadata": {},
   "outputs": [
    {
     "data": {
      "text/plain": [
       "(3, 8)"
      ]
     },
     "execution_count": 630,
     "metadata": {},
     "output_type": "execute_result"
    }
   ],
   "source": [
    "# W (n x r) dot H (r x f) = M (n x f)\n",
    "# f x n = (f x r) dot (r x n) \n",
    "\n",
    "W, _, _ = non_negative_factorization(\n",
    "    X = features.T,\n",
    "    H = roles.T,\n",
    "    n_components=roles.shape[1],\n",
    "    update_H = False,\n",
    "    solver='mu', \n",
    "    #beta_loss=\"kullback-leibler\", \n",
    "    init='custom',\n",
    "    tol=10e-6,\n",
    "    max_iter=1000\n",
    ")\n",
    "W.shape"
   ]
  },
  {
   "cell_type": "code",
   "execution_count": 631,
   "metadata": {},
   "outputs": [
    {
     "data": {
      "text/plain": [
       "(3, 1)"
      ]
     },
     "execution_count": 631,
     "metadata": {},
     "output_type": "execute_result"
    }
   ],
   "source": [
    "W_def, _, _ = non_negative_factorization(\n",
    "    X = features.T,\n",
    "    H = np.ones((1, roles.shape[0])),\n",
    "    n_components=1,\n",
    "    update_H = False,\n",
    "    solver='mu', \n",
    "    #beta_loss=\"kullback-leibler\", \n",
    "    init='custom',\n",
    "    tol=10e-6,\n",
    "    max_iter=1000\n",
    ")\n",
    "W_def.shape"
   ]
  },
  {
   "cell_type": "code",
   "execution_count": 632,
   "metadata": {},
   "outputs": [
    {
     "data": {
      "image/png": "[encoded data removed]",
      "text/plain": [
       "<Figure size 432x288 with 1 Axes>"
      ]
     },
     "metadata": {
      "needs_background": "light"
     },
     "output_type": "display_data"
    }
   ],
   "source": [
    "import matplotlib.pyplot as plt\n",
    "\n",
    "text = (W/W_def)[2]\n",
    "plt.stem(np.arange(W.shape[1]), text)\n",
    "plt.title(\"NodeSense: Roles vs Edit Contribution\")\n",
    "plt.xlabel(\"Role\")\n",
    "plt.ylabel(\"Effect of Role to Edit Contribution\")\n",
    "plt.show()"
   ]
  },
  {
   "cell_type": "code",
   "execution_count": 633,
   "metadata": {},
   "outputs": [],
   "source": [
    "W, _, _ = non_negative_factorization(\n",
    "    X = neighborhood_roles.T,\n",
    "    H = roles.T,\n",
    "    n_components=roles.shape[1],\n",
    "    update_H = False,\n",
    "    solver='mu', \n",
    "    #beta_loss=\"kullback-leibler\", \n",
    "    init='custom',\n",
    "    tol=10e-6,\n",
    "    max_iter=1000\n",
    ")"
   ]
  },
  {
   "cell_type": "code",
   "execution_count": 634,
   "metadata": {},
   "outputs": [],
   "source": [
    "W_def, _, _ = non_negative_factorization(\n",
    "    X = neighborhood_roles.T,\n",
    "    H = np.ones((1, roles.shape[0])),\n",
    "    n_components=1,\n",
    "    update_H = False,\n",
    "    solver='mu', \n",
    "    #beta_loss=\"kullback-leibler\", \n",
    "    init='custom',\n",
    "    tol=10e-6,\n",
    "    max_iter=1000\n",
    ")"
   ]
  },
  {
   "cell_type": "code",
   "execution_count": 635,
   "metadata": {},
   "outputs": [
    {
     "data": {
      "text/plain": [
       "Text(0.5, 1.0, 'NeighborhoodSense: Role Affinities')"
      ]
     },
     "execution_count": 635,
     "metadata": {},
     "output_type": "execute_result"
    },
    {
     "data": {
      "image/png": "[encoded data removed]",
      "text/plain": [
       "<Figure size 432x288 with 1 Axes>"
      ]
     },
     "metadata": {
      "needs_background": "light"
     },
     "output_type": "display_data"
    }
   ],
   "source": [
    "plt.imshow((W/W_def).T, cmap=\"coolwarm\")\n",
    "plt.title(\"NeighborhoodSense: Role Affinities\")"
   ]
  },
  {
   "cell_type": "markdown",
   "metadata": {},
   "source": [
    "## community roles"
   ]
  },
  {
   "cell_type": "code",
   "execution_count": 636,
   "metadata": {},
   "outputs": [
    {
     "name": "stdout",
     "output_type": "stream",
     "text": [
      "+---------+-------+----+-------+------------+\n",
      "|     l_id|quarter|year|user_id|community_id|\n",
      "+---------+-------+----+-------+------------+\n",
      "|  3575605|      3|2005|  75605|        5506|\n",
      "|173500930|      1|2007|3500930|        5152|\n",
      "|173501071|      1|2007|3501071|        5152|\n",
      "|173502762|      1|2007|3502762|        5152|\n",
      "|173503322|      1|2007|3503322|        5152|\n",
      "+---------+-------+----+-------+------------+\n",
      "only showing top 5 rows\n",
      "\n",
      "root\n",
      " |-- l_id: string (nullable = true)\n",
      " |-- quarter: string (nullable = true)\n",
      " |-- year: string (nullable = true)\n",
      " |-- user_id: string (nullable = true)\n",
      " |-- community_id: string (nullable = true)\n",
      "\n",
      "+----------------------------+\n",
      "|count(DISTINCT community_id)|\n",
      "+----------------------------+\n",
      "|                         440|\n",
      "+----------------------------+\n",
      "\n"
     ]
    }
   ],
   "source": [
    "community_df = spark.read.csv(\"data/processed/user_community_assignments.csv\", header=True)\n",
    "community_df.show(n=5)\n",
    "community_df.printSchema()\n",
    "\n",
    "community_roles = (\n",
    "    rolx_df.join(\n",
    "        community_df\n",
    "        .where(\"year='2007' and quarter='1'\")\n",
    "        .selectExpr(\"cast(user_id as int) as user_id\", \n",
    "                \"cast(community_id as int) as community_id\"), \n",
    "        on=\"user_id\", how=\"left\"\n",
    "    )\n",
    ")\n",
    "community_roles.selectExpr(\"count(distinct community_id)\").show()\n",
    "\n",
    "community_df = (\n",
    "    community_roles\n",
    "    .groupby(\"community_id\")\n",
    "    .agg(\n",
    "        F.count(\"*\").alias(\"size\"),\n",
    "        F.collect_list(\"vec\").alias(\"vec_list\")\n",
    "    )\n",
    "    .orderBy(F.desc(\"size\"))\n",
    "    .select(\"community_id\", \"size\", average_vec(\"vec_list\").alias(\"community_roles\"))\n",
    ").toPandas()"
   ]
  },
  {
   "cell_type": "code",
   "execution_count": 637,
   "metadata": {},
   "outputs": [
    {
     "data": {
      "text/html": [
       "<div>\n",
       "<style scoped>\n",
       "    .dataframe tbody tr th:only-of-type {\n",
       "        vertical-align: middle;\n",
       "    }\n",
       "\n",
       "    .dataframe tbody tr th {\n",
       "        vertical-align: top;\n",
       "    }\n",
       "\n",
       "    .dataframe thead th {\n",
       "        text-align: right;\n",
       "    }\n",
       "</style>\n",
       "<table border=\"1\" class=\"dataframe\">\n",
       "  <thead>\n",
       "    <tr style=\"text-align: right;\">\n",
       "      <th></th>\n",
       "      <th>community_id</th>\n",
       "      <th>size</th>\n",
       "      <th>community_roles</th>\n",
       "    </tr>\n",
       "  </thead>\n",
       "  <tbody>\n",
       "    <tr>\n",
       "      <th>0</th>\n",
       "      <td>5152.0</td>\n",
       "      <td>339508</td>\n",
       "      <td>[2037.7833251953125, 1424.5567626953125, 531.4...</td>\n",
       "    </tr>\n",
       "    <tr>\n",
       "      <th>1</th>\n",
       "      <td>NaN</td>\n",
       "      <td>2046</td>\n",
       "      <td>[2226.158447265625, 1322.1300048828125, 633.21...</td>\n",
       "    </tr>\n",
       "    <tr>\n",
       "      <th>2</th>\n",
       "      <td>7484.0</td>\n",
       "      <td>7</td>\n",
       "      <td>[4.223671112413285e-06, 1.182031337521039e-05,...</td>\n",
       "    </tr>\n",
       "    <tr>\n",
       "      <th>3</th>\n",
       "      <td>7385.0</td>\n",
       "      <td>7</td>\n",
       "      <td>[8.08857748779701e-06, 2.2157862986205146e-05,...</td>\n",
       "    </tr>\n",
       "    <tr>\n",
       "      <th>4</th>\n",
       "      <td>7490.0</td>\n",
       "      <td>5</td>\n",
       "      <td>[1.5903826806606958e-06, 2.9368718514888315e-0...</td>\n",
       "    </tr>\n",
       "    <tr>\n",
       "      <th>5</th>\n",
       "      <td>5186.0</td>\n",
       "      <td>4</td>\n",
       "      <td>[1.9224589777877554e-06, 7.660562914679758e-06...</td>\n",
       "    </tr>\n",
       "    <tr>\n",
       "      <th>6</th>\n",
       "      <td>7460.0</td>\n",
       "      <td>3</td>\n",
       "      <td>[0.0, 4.736045771553815e-37, 0.0, 0.0, 0.0, 4....</td>\n",
       "    </tr>\n",
       "    <tr>\n",
       "      <th>7</th>\n",
       "      <td>7250.0</td>\n",
       "      <td>3</td>\n",
       "      <td>[0.0, 4.736045771553815e-37, 0.0, 0.0, 0.0, 4....</td>\n",
       "    </tr>\n",
       "    <tr>\n",
       "      <th>8</th>\n",
       "      <td>7504.0</td>\n",
       "      <td>3</td>\n",
       "      <td>[0.0, 8.493782388541149e-07, 2.461596295688650...</td>\n",
       "    </tr>\n",
       "    <tr>\n",
       "      <th>9</th>\n",
       "      <td>7355.0</td>\n",
       "      <td>3</td>\n",
       "      <td>[0.0, 8.493782388541149e-07, 2.461596295688650...</td>\n",
       "    </tr>\n",
       "    <tr>\n",
       "      <th>10</th>\n",
       "      <td>5132.0</td>\n",
       "      <td>3</td>\n",
       "      <td>[0.0, 4.736045771553815e-37, 0.0, 0.0, 0.0, 4....</td>\n",
       "    </tr>\n",
       "    <tr>\n",
       "      <th>11</th>\n",
       "      <td>7317.0</td>\n",
       "      <td>3</td>\n",
       "      <td>[0.0, 4.736045771553815e-37, 0.0, 0.0, 0.0, 4....</td>\n",
       "    </tr>\n",
       "    <tr>\n",
       "      <th>12</th>\n",
       "      <td>7437.0</td>\n",
       "      <td>3</td>\n",
       "      <td>[0.0, 4.736045771553815e-37, 0.0, 0.0, 0.0, 4....</td>\n",
       "    </tr>\n",
       "    <tr>\n",
       "      <th>13</th>\n",
       "      <td>7509.0</td>\n",
       "      <td>3</td>\n",
       "      <td>[0.0, 4.736045771553815e-37, 0.0, 0.0, 0.0, 4....</td>\n",
       "    </tr>\n",
       "    <tr>\n",
       "      <th>14</th>\n",
       "      <td>7429.0</td>\n",
       "      <td>3</td>\n",
       "      <td>[0.0, 4.736045771553815e-37, 0.0, 0.0, 0.0, 4....</td>\n",
       "    </tr>\n",
       "    <tr>\n",
       "      <th>15</th>\n",
       "      <td>7433.0</td>\n",
       "      <td>3</td>\n",
       "      <td>[0.0, 4.736045771553815e-37, 0.0, 0.0, 0.0, 4....</td>\n",
       "    </tr>\n",
       "    <tr>\n",
       "      <th>16</th>\n",
       "      <td>7494.0</td>\n",
       "      <td>3</td>\n",
       "      <td>[0.0, 4.736045771553815e-37, 0.0, 0.0, 0.0, 4....</td>\n",
       "    </tr>\n",
       "    <tr>\n",
       "      <th>17</th>\n",
       "      <td>7238.0</td>\n",
       "      <td>3</td>\n",
       "      <td>[0.0, 4.736045771553815e-37, 0.0, 0.0, 0.0, 4....</td>\n",
       "    </tr>\n",
       "    <tr>\n",
       "      <th>18</th>\n",
       "      <td>7268.0</td>\n",
       "      <td>3</td>\n",
       "      <td>[0.0, 8.493782388541149e-07, 2.461596295688650...</td>\n",
       "    </tr>\n",
       "    <tr>\n",
       "      <th>19</th>\n",
       "      <td>7360.0</td>\n",
       "      <td>3</td>\n",
       "      <td>[0.0, 4.736045771553815e-37, 0.0, 0.0, 0.0, 4....</td>\n",
       "    </tr>\n",
       "  </tbody>\n",
       "</table>\n",
       "</div>"
      ],
      "text/plain": [
       "    community_id    size                                    community_roles\n",
       "0         5152.0  339508  [2037.7833251953125, 1424.5567626953125, 531.4...\n",
       "1            NaN    2046  [2226.158447265625, 1322.1300048828125, 633.21...\n",
       "2         7484.0       7  [4.223671112413285e-06, 1.182031337521039e-05,...\n",
       "3         7385.0       7  [8.08857748779701e-06, 2.2157862986205146e-05,...\n",
       "4         7490.0       5  [1.5903826806606958e-06, 2.9368718514888315e-0...\n",
       "5         5186.0       4  [1.9224589777877554e-06, 7.660562914679758e-06...\n",
       "6         7460.0       3  [0.0, 4.736045771553815e-37, 0.0, 0.0, 0.0, 4....\n",
       "7         7250.0       3  [0.0, 4.736045771553815e-37, 0.0, 0.0, 0.0, 4....\n",
       "8         7504.0       3  [0.0, 8.493782388541149e-07, 2.461596295688650...\n",
       "9         7355.0       3  [0.0, 8.493782388541149e-07, 2.461596295688650...\n",
       "10        5132.0       3  [0.0, 4.736045771553815e-37, 0.0, 0.0, 0.0, 4....\n",
       "11        7317.0       3  [0.0, 4.736045771553815e-37, 0.0, 0.0, 0.0, 4....\n",
       "12        7437.0       3  [0.0, 4.736045771553815e-37, 0.0, 0.0, 0.0, 4....\n",
       "13        7509.0       3  [0.0, 4.736045771553815e-37, 0.0, 0.0, 0.0, 4....\n",
       "14        7429.0       3  [0.0, 4.736045771553815e-37, 0.0, 0.0, 0.0, 4....\n",
       "15        7433.0       3  [0.0, 4.736045771553815e-37, 0.0, 0.0, 0.0, 4....\n",
       "16        7494.0       3  [0.0, 4.736045771553815e-37, 0.0, 0.0, 0.0, 4....\n",
       "17        7238.0       3  [0.0, 4.736045771553815e-37, 0.0, 0.0, 0.0, 4....\n",
       "18        7268.0       3  [0.0, 8.493782388541149e-07, 2.461596295688650...\n",
       "19        7360.0       3  [0.0, 4.736045771553815e-37, 0.0, 0.0, 0.0, 4...."
      ]
     },
     "execution_count": 637,
     "metadata": {},
     "output_type": "execute_result"
    }
   ],
   "source": [
    "community_df[:20]"
   ]
  },
  {
   "cell_type": "code",
   "execution_count": 638,
   "metadata": {},
   "outputs": [
    {
     "data": {
      "text/plain": [
       "(441, 8)"
      ]
     },
     "execution_count": 638,
     "metadata": {},
     "output_type": "execute_result"
    }
   ],
   "source": [
    "community_roles = np.array(list(community_df[\"community_roles\"]))\n",
    "community_roles.shape"
   ]
  },
  {
   "cell_type": "code",
   "execution_count": 639,
   "metadata": {},
   "outputs": [
    {
     "data": {
      "text/plain": [
       "<matplotlib.image.AxesImage at 0x2361da9b0>"
      ]
     },
     "execution_count": 639,
     "metadata": {},
     "output_type": "execute_result"
    },
    {
     "data": {
      "image/png": "[encoded data removed]",
      "text/plain": [
       "<Figure size 432x288 with 1 Axes>"
      ]
     },
     "metadata": {
      "needs_background": "light"
     },
     "output_type": "display_data"
    }
   ],
   "source": [
    "from sklearn.preprocessing import normalize\n",
    "normed = normalize(community_roles, axis=1, norm='l1')\n",
    "plt.imshow(normed, cmap='coolwarm', aspect='auto')"
   ]
  },
  {
   "cell_type": "code",
   "execution_count": 640,
   "metadata": {},
   "outputs": [
    {
     "data": {
      "text/plain": [
       "<matplotlib.image.AxesImage at 0x237993160>"
      ]
     },
     "execution_count": 640,
     "metadata": {},
     "output_type": "execute_result"
    },
    {
     "data": {
      "image/png": "[encoded data removed]",
      "text/plain": [
       "<Figure size 432x288 with 1 Axes>"
      ]
     },
     "metadata": {
      "needs_background": "light"
     },
     "output_type": "display_data"
    }
   ],
   "source": [
    "plt.imshow(normed[:5], cmap='coolwarm', aspect='auto')"
   ]
  },
  {
   "cell_type": "code",
   "execution_count": 641,
   "metadata": {},
   "outputs": [
    {
     "data": {
      "text/plain": [
       "<matplotlib.image.AxesImage at 0x238791a58>"
      ]
     },
     "execution_count": 641,
     "metadata": {},
     "output_type": "execute_result"
    },
    {
     "data": {
      "image/png": "[encoded data removed]",
      "text/plain": [
       "<Figure size 432x288 with 1 Axes>"
      ]
     },
     "metadata": {
      "needs_background": "light"
     },
     "output_type": "display_data"
    }
   ],
   "source": [
    "plt.imshow(normed[:10], cmap='coolwarm', aspect='auto')"
   ]
  },
  {
   "cell_type": "code",
   "execution_count": 642,
   "metadata": {},
   "outputs": [
    {
     "data": {
      "text/plain": [
       "<matplotlib.image.AxesImage at 0x239acd908>"
      ]
     },
     "execution_count": 642,
     "metadata": {},
     "output_type": "execute_result"
    },
    {
     "data": {
      "image/png": "[encoded data removed]",
      "text/plain": [
       "<Figure size 432x288 with 1 Axes>"
      ]
     },
     "metadata": {
      "needs_background": "light"
     },
     "output_type": "display_data"
    }
   ],
   "source": [
    "plt.imshow(normed[-100:], cmap='coolwarm', aspect='auto')"
   ]
  },
  {
   "cell_type": "code",
   "execution_count": 643,
   "metadata": {},
   "outputs": [
    {
     "data": {
      "text/plain": [
       "<matplotlib.image.AxesImage at 0x23c672eb8>"
      ]
     },
     "execution_count": 643,
     "metadata": {},
     "output_type": "execute_result"
    },
    {
     "data": {
      "image/png": "[encoded data removed]",
      "text/plain": [
       "<Figure size 432x288 with 1 Axes>"
      ]
     },
     "metadata": {
      "needs_background": "light"
     },
     "output_type": "display_data"
    }
   ],
   "source": [
    "ind=np.argsort(normed[:,0])\n",
    "b=normed[ind]\n",
    "plt.imshow(b[-100:], cmap='coolwarm', aspect='auto')"
   ]
  }
 ],
 "metadata": {
  "kernelspec": {
   "display_name": "Python 3",
   "language": "python",
   "name": "python3"
  },
  "language_info": {
   "codemirror_mode": {
    "name": "ipython",
    "version": 3
   },
   "file_extension": ".py",
   "mimetype": "text/x-python",
   "name": "python",
   "nbconvert_exporter": "python",
   "pygments_lexer": "ipython3",
   "version": "3.7.0"
  }
 },
 "nbformat": 4,
 "nbformat_minor": 2
}
