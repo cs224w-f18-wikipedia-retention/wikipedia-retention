{
 "cells": [
  {
   "cell_type": "code",
   "execution_count": 3,
   "metadata": {},
   "outputs": [
    {
     "name": "stdout",
     "output_type": "stream",
     "text": [
      "/home/amiyaguchi/cs224w/wikipedia-retention\n"
     ]
    }
   ],
   "source": [
    "cd .."
   ]
  },
  {
   "cell_type": "markdown",
   "metadata": {},
   "source": [
    "# Role distribution on quarterly, reduced-edge user network\n",
    "\n",
    "Truncated SVD is a good non-linear technique for preserving similarity in a matrix. We also soft-cluster recursive features through nonnegative matrix factorization (NMF). These clusters correspond to the k-means of the dataset. We use tSNE to map nodes to their closest neighbors."
   ]
  },
  {
   "cell_type": "code",
   "execution_count": 4,
   "metadata": {},
   "outputs": [],
   "source": [
    "import pandas as pd\n",
    "\n",
    "base = \"data/processed/roles/\"\n",
    "\n",
    "# recursively mined aggregate to generate embedding and dataset (sorted and binned by frequency)\n",
    "rolx_vec = pd.read_csv(base + \"v.txt\", header=None, sep=\" \")\n",
    "rolx_mapping = pd.read_csv(base + \"mappings.txt\", header=None, skiprows=1, sep=\" \")\n",
    "df = pd.concat([rolx_mapping, rolx_vec], axis=1).iloc[:, 1:]"
   ]
  },
  {
   "cell_type": "code",
   "execution_count": 5,
   "metadata": {},
   "outputs": [
    {
     "data": {
      "text/html": [
       "<div>\n",
       "<style scoped>\n",
       "    .dataframe tbody tr th:only-of-type {\n",
       "        vertical-align: middle;\n",
       "    }\n",
       "\n",
       "    .dataframe tbody tr th {\n",
       "        vertical-align: top;\n",
       "    }\n",
       "\n",
       "    .dataframe thead th {\n",
       "        text-align: right;\n",
       "    }\n",
       "</style>\n",
       "<table border=\"1\" class=\"dataframe\">\n",
       "  <thead>\n",
       "    <tr style=\"text-align: right;\">\n",
       "      <th></th>\n",
       "      <th>1</th>\n",
       "      <th>0</th>\n",
       "      <th>1</th>\n",
       "      <th>2</th>\n",
       "      <th>3</th>\n",
       "      <th>4</th>\n",
       "      <th>5</th>\n",
       "      <th>6</th>\n",
       "      <th>7</th>\n",
       "      <th>8</th>\n",
       "      <th>...</th>\n",
       "      <th>91</th>\n",
       "      <th>92</th>\n",
       "      <th>93</th>\n",
       "      <th>94</th>\n",
       "      <th>95</th>\n",
       "      <th>96</th>\n",
       "      <th>97</th>\n",
       "      <th>98</th>\n",
       "      <th>99</th>\n",
       "      <th>100</th>\n",
       "    </tr>\n",
       "  </thead>\n",
       "  <tbody>\n",
       "    <tr>\n",
       "      <th>0</th>\n",
       "      <td>374125257</td>\n",
       "      <td>599.0</td>\n",
       "      <td>18908.0</td>\n",
       "      <td>747649.0</td>\n",
       "      <td>784866.0</td>\n",
       "      <td>1310.293823</td>\n",
       "      <td>50214576.0</td>\n",
       "      <td>83830.679688</td>\n",
       "      <td>385936576.0</td>\n",
       "      <td>644301.437500</td>\n",
       "      <td>...</td>\n",
       "      <td>672486.687500</td>\n",
       "      <td>5.160224e+07</td>\n",
       "      <td>4.708649e+11</td>\n",
       "      <td>7.316149e+08</td>\n",
       "      <td>672446.687500</td>\n",
       "      <td>5.159941e+07</td>\n",
       "      <td>4.708380e+11</td>\n",
       "      <td>7.315918e+08</td>\n",
       "      <td>672418.562500</td>\n",
       "      <td>5.159746e+07</td>\n",
       "    </tr>\n",
       "    <tr>\n",
       "      <th>1</th>\n",
       "      <td>375134183</td>\n",
       "      <td>3.0</td>\n",
       "      <td>5.0</td>\n",
       "      <td>1768.0</td>\n",
       "      <td>1775.0</td>\n",
       "      <td>591.666687</td>\n",
       "      <td>92193.0</td>\n",
       "      <td>30731.000000</td>\n",
       "      <td>1978541.0</td>\n",
       "      <td>659513.687500</td>\n",
       "      <td>...</td>\n",
       "      <td>672591.312500</td>\n",
       "      <td>5.160818e+07</td>\n",
       "      <td>4.707801e+11</td>\n",
       "      <td>7.315356e+08</td>\n",
       "      <td>672487.062500</td>\n",
       "      <td>5.160106e+07</td>\n",
       "      <td>4.708555e+11</td>\n",
       "      <td>7.315256e+08</td>\n",
       "      <td>672454.625000</td>\n",
       "      <td>5.159950e+07</td>\n",
       "    </tr>\n",
       "    <tr>\n",
       "      <th>2</th>\n",
       "      <td>18452631</td>\n",
       "      <td>337.0</td>\n",
       "      <td>2340.0</td>\n",
       "      <td>23174.0</td>\n",
       "      <td>27517.0</td>\n",
       "      <td>81.652817</td>\n",
       "      <td>139026.0</td>\n",
       "      <td>412.540070</td>\n",
       "      <td>2378401.0</td>\n",
       "      <td>7057.569824</td>\n",
       "      <td>...</td>\n",
       "      <td>7238.392578</td>\n",
       "      <td>4.377599e+04</td>\n",
       "      <td>6.054702e+07</td>\n",
       "      <td>1.030244e+06</td>\n",
       "      <td>7205.136719</td>\n",
       "      <td>4.356580e+04</td>\n",
       "      <td>6.054457e+07</td>\n",
       "      <td>1.024279e+06</td>\n",
       "      <td>7195.129883</td>\n",
       "      <td>4.350166e+04</td>\n",
       "    </tr>\n",
       "    <tr>\n",
       "      <th>3</th>\n",
       "      <td>183444741</td>\n",
       "      <td>17.0</td>\n",
       "      <td>36.0</td>\n",
       "      <td>4866.0</td>\n",
       "      <td>4921.0</td>\n",
       "      <td>289.470581</td>\n",
       "      <td>29062.0</td>\n",
       "      <td>1709.529419</td>\n",
       "      <td>167146.0</td>\n",
       "      <td>9832.117188</td>\n",
       "      <td>...</td>\n",
       "      <td>7132.670898</td>\n",
       "      <td>4.303154e+04</td>\n",
       "      <td>6.136559e+07</td>\n",
       "      <td>9.967964e+05</td>\n",
       "      <td>7245.316406</td>\n",
       "      <td>4.372641e+04</td>\n",
       "      <td>5.912551e+07</td>\n",
       "      <td>1.033141e+06</td>\n",
       "      <td>7147.193848</td>\n",
       "      <td>4.315531e+04</td>\n",
       "    </tr>\n",
       "    <tr>\n",
       "      <th>4</th>\n",
       "      <td>17668890</td>\n",
       "      <td>687.0</td>\n",
       "      <td>31364.0</td>\n",
       "      <td>1047249.0</td>\n",
       "      <td>1109290.0</td>\n",
       "      <td>1614.687012</td>\n",
       "      <td>80997112.0</td>\n",
       "      <td>117899.726562</td>\n",
       "      <td>598326784.0</td>\n",
       "      <td>870926.875000</td>\n",
       "      <td>...</td>\n",
       "      <td>820220.437500</td>\n",
       "      <td>6.924318e+07</td>\n",
       "      <td>7.052240e+11</td>\n",
       "      <td>9.885325e+08</td>\n",
       "      <td>820182.250000</td>\n",
       "      <td>6.924093e+07</td>\n",
       "      <td>7.052418e+11</td>\n",
       "      <td>9.885728e+08</td>\n",
       "      <td>820164.875000</td>\n",
       "      <td>6.923970e+07</td>\n",
       "    </tr>\n",
       "  </tbody>\n",
       "</table>\n",
       "<p>5 rows × 102 columns</p>\n",
       "</div>"
      ],
      "text/plain": [
       "         1      0        1          2          3            4           5    \\\n",
       "0  374125257  599.0  18908.0   747649.0   784866.0  1310.293823  50214576.0   \n",
       "1  375134183    3.0      5.0     1768.0     1775.0   591.666687     92193.0   \n",
       "2   18452631  337.0   2340.0    23174.0    27517.0    81.652817    139026.0   \n",
       "3  183444741   17.0     36.0     4866.0     4921.0   289.470581     29062.0   \n",
       "4   17668890  687.0  31364.0  1047249.0  1109290.0  1614.687012  80997112.0   \n",
       "\n",
       "             6            7              8        ...                 91   \\\n",
       "0   83830.679688  385936576.0  644301.437500      ...       672486.687500   \n",
       "1   30731.000000    1978541.0  659513.687500      ...       672591.312500   \n",
       "2     412.540070    2378401.0    7057.569824      ...         7238.392578   \n",
       "3    1709.529419     167146.0    9832.117188      ...         7132.670898   \n",
       "4  117899.726562  598326784.0  870926.875000      ...       820220.437500   \n",
       "\n",
       "            92            93            94             95            96   \\\n",
       "0  5.160224e+07  4.708649e+11  7.316149e+08  672446.687500  5.159941e+07   \n",
       "1  5.160818e+07  4.707801e+11  7.315356e+08  672487.062500  5.160106e+07   \n",
       "2  4.377599e+04  6.054702e+07  1.030244e+06    7205.136719  4.356580e+04   \n",
       "3  4.303154e+04  6.136559e+07  9.967964e+05    7245.316406  4.372641e+04   \n",
       "4  6.924318e+07  7.052240e+11  9.885325e+08  820182.250000  6.924093e+07   \n",
       "\n",
       "            97            98             99            100  \n",
       "0  4.708380e+11  7.315918e+08  672418.562500  5.159746e+07  \n",
       "1  4.708555e+11  7.315256e+08  672454.625000  5.159950e+07  \n",
       "2  6.054457e+07  1.024279e+06    7195.129883  4.350166e+04  \n",
       "3  5.912551e+07  1.033141e+06    7147.193848  4.315531e+04  \n",
       "4  7.052418e+11  9.885728e+08  820164.875000  6.923970e+07  \n",
       "\n",
       "[5 rows x 102 columns]"
      ]
     },
     "execution_count": 5,
     "metadata": {},
     "output_type": "execute_result"
    }
   ],
   "source": [
    "df.head()"
   ]
  },
  {
   "cell_type": "code",
   "execution_count": 7,
   "metadata": {},
   "outputs": [
    {
     "name": "stdout",
     "output_type": "stream",
     "text": [
      "Epoch 10 reached after 129.884 seconds, error: 525387749.242854\n",
      "Epoch 20 reached after 213.089 seconds, error: 514078751.818475\n",
      "Epoch 30 reached after 300.773 seconds, error: 509946059.339821\n",
      "Epoch 40 reached after 384.328 seconds, error: 506863410.582194\n",
      "Epoch 50 reached after 475.704 seconds, error: 504822483.114429\n",
      "Epoch 60 reached after 566.999 seconds, error: 503524542.149787\n",
      "Epoch 70 reached after 651.587 seconds, error: 502645079.236450\n",
      "Epoch 80 reached after 738.163 seconds, error: 502017278.329507\n",
      "Epoch 90 reached after 822.837 seconds, error: 501558414.561006\n",
      "Epoch 100 reached after 907.354 seconds, error: 501221692.692909\n"
     ]
    },
    {
     "name": "stderr",
     "output_type": "stream",
     "text": [
      "/home/amiyaguchi/cs224w/wikipedia-retention/venv3/lib/python3.6/site-packages/sklearn/decomposition/nmf.py:1035: ConvergenceWarning: Maximum number of iteration 100 reached. Increase it to improve convergence.\n",
      "  \" improve convergence.\" % max_iter, ConvergenceWarning)\n"
     ]
    }
   ],
   "source": [
    "from sklearn.decomposition import NMF\n",
    "\n",
    "\n",
    "nmf = NMF(n_components=8,\n",
    "          solver=\"mu\", \n",
    "          beta_loss=\"kullback-leibler\",\n",
    "          tol=1e-6,\n",
    "          max_iter=100,\n",
    "          verbose=True)\n",
    "\n",
    "G = nmf.fit_transform(df.iloc[:, 1:])"
   ]
  },
  {
   "cell_type": "code",
   "execution_count": 8,
   "metadata": {},
   "outputs": [],
   "source": [
    "import numpy as np\n",
    "# checkpoint\n",
    "np.savetxt(\"data/interim/nmf-G.txt\", G)"
   ]
  },
  {
   "cell_type": "code",
   "execution_count": 9,
   "metadata": {},
   "outputs": [],
   "source": [
    "G = np.loadtxt(\"data/interim/nmf-G.txt\")"
   ]
  },
  {
   "cell_type": "code",
   "execution_count": 10,
   "metadata": {},
   "outputs": [],
   "source": [
    "from sklearn.decomposition import PCA\n",
    "\n",
    "pca = PCA(n_components=2, svd_solver='full')\n",
    "X = pca.fit_transform(df.iloc[:, 1:].values)"
   ]
  },
  {
   "cell_type": "code",
   "execution_count": 11,
   "metadata": {},
   "outputs": [
    {
     "data": {
      "text/html": [
       "<div>\n",
       "<style scoped>\n",
       "    .dataframe tbody tr th:only-of-type {\n",
       "        vertical-align: middle;\n",
       "    }\n",
       "\n",
       "    .dataframe tbody tr th {\n",
       "        vertical-align: top;\n",
       "    }\n",
       "\n",
       "    .dataframe thead th {\n",
       "        text-align: right;\n",
       "    }\n",
       "</style>\n",
       "<table border=\"1\" class=\"dataframe\">\n",
       "  <thead>\n",
       "    <tr style=\"text-align: right;\">\n",
       "      <th></th>\n",
       "      <th>quarter</th>\n",
       "      <th>year</th>\n",
       "      <th>user_id</th>\n",
       "    </tr>\n",
       "  </thead>\n",
       "  <tbody>\n",
       "    <tr>\n",
       "      <th>0</th>\n",
       "      <td>3</td>\n",
       "      <td>2007</td>\n",
       "      <td>4125257</td>\n",
       "    </tr>\n",
       "    <tr>\n",
       "      <th>1</th>\n",
       "      <td>3</td>\n",
       "      <td>2007</td>\n",
       "      <td>5134183</td>\n",
       "    </tr>\n",
       "    <tr>\n",
       "      <th>2</th>\n",
       "      <td>1</td>\n",
       "      <td>2008</td>\n",
       "      <td>452631</td>\n",
       "    </tr>\n",
       "    <tr>\n",
       "      <th>3</th>\n",
       "      <td>1</td>\n",
       "      <td>2008</td>\n",
       "      <td>3444741</td>\n",
       "    </tr>\n",
       "    <tr>\n",
       "      <th>4</th>\n",
       "      <td>1</td>\n",
       "      <td>2007</td>\n",
       "      <td>668890</td>\n",
       "    </tr>\n",
       "  </tbody>\n",
       "</table>\n",
       "</div>"
      ],
      "text/plain": [
       "   quarter  year  user_id\n",
       "0        3  2007  4125257\n",
       "1        3  2007  5134183\n",
       "2        1  2008   452631\n",
       "3        1  2008  3444741\n",
       "4        1  2007   668890"
      ]
     },
     "execution_count": 11,
     "metadata": {},
     "output_type": "execute_result"
    }
   ],
   "source": [
    "def to_row(x):\n",
    "    s = str(x)\n",
    "    return int(s[0]), int('200'+s[1]), int(s[2:])\n",
    "\n",
    "rolx_labels = pd.DataFrame(list(map(to_row, rolx_mapping[1])))\n",
    "rolx_labels.columns = ['quarter', 'year', 'user_id']\n",
    "rolx_labels.head()"
   ]
  },
  {
   "cell_type": "code",
   "execution_count": 12,
   "metadata": {},
   "outputs": [],
   "source": [
    "from sklearn.preprocessing import StandardScaler, MinMaxScaler\n",
    "\n",
    "pca = PCA(n_components=2, svd_solver='full')\n",
    "scaled = StandardScaler().fit_transform(df.iloc[:, 1:].values)\n",
    "X = pca.fit_transform(scaled)"
   ]
  },
  {
   "cell_type": "code",
   "execution_count": 13,
   "metadata": {},
   "outputs": [],
   "source": [
    "import numpy as np\n",
    "roles = np.argmax(G, axis=1)"
   ]
  },
  {
   "cell_type": "code",
   "execution_count": 28,
   "metadata": {},
   "outputs": [
    {
     "data": {
      "image/png": "[encoded data removed]",
      "text/plain": [
       "<Figure size 432x288 with 1 Axes>"
      ]
     },
     "metadata": {
      "needs_background": "light"
     },
     "output_type": "display_data"
    }
   ],
   "source": [
    "import matplotlib.pyplot as plt\n",
    "\n",
    "plt.scatter(X[:,0], X[:,1], c=roles)\n",
    "plt.xlim(-50, 50)\n",
    "plt.ylim(-40, 70)\n",
    "plt.show()"
   ]
  },
  {
   "cell_type": "code",
   "execution_count": 15,
   "metadata": {},
   "outputs": [
    {
     "name": "stdout",
     "output_type": "stream",
     "text": [
      "data\t      LICENSE\t README.md   requirements.txt  tox.ini\r\n",
      "dependencies  models\t references  setup.py\t       venv\r\n",
      "derby.log     notebooks  reports     src\t       venv3\r\n"
     ]
    }
   ],
   "source": [
    "! ls"
   ]
  },
  {
   "cell_type": "code",
   "execution_count": 16,
   "metadata": {},
   "outputs": [
    {
     "name": "stdout",
     "output_type": "stream",
     "text": [
      "Collecting umap-learn\n",
      "\u001b[?25l  Downloading https://files.pythonhosted.org/packages/4e/ce/33e260133f2a8e6c24a434e22de31f1dff01d58b3beec033d5c1b544bfb7/umap-learn-0.3.7.tar.gz (40kB)\n",
      "\u001b[K    100% |████████████████████████████████| 40kB 731kB/s ta 0:00:01\n",
      "\u001b[?25hRequirement already satisfied: numpy>=1.13 in ./venv3/lib/python3.6/site-packages (from umap-learn) (1.15.4)\n",
      "Requirement already satisfied: scikit-learn>=0.16 in ./venv3/lib/python3.6/site-packages (from umap-learn) (0.19.1)\n",
      "Requirement already satisfied: scipy>=0.19 in ./venv3/lib/python3.6/site-packages (from umap-learn) (1.1.0)\n",
      "Collecting numba>=0.37 (from umap-learn)\n",
      "\u001b[?25l  Downloading https://files.pythonhosted.org/packages/31/55/938f0023a4f37fe24460d46846670aba8170a6b736f1693293e710d4a6d0/numba-0.41.0-cp36-cp36m-manylinux1_x86_64.whl (3.2MB)\n",
      "\u001b[K    100% |████████████████████████████████| 3.2MB 4.1MB/s ta 0:00:011    71% |███████████████████████         | 2.3MB 2.6MB/s eta 0:00:01\n",
      "\u001b[?25hCollecting llvmlite>=0.26.0dev0 (from numba>=0.37->umap-learn)\n",
      "\u001b[?25l  Downloading https://files.pythonhosted.org/packages/a2/60/d22966c97a47687ac1cc57c2e756380897c264f1ce40780105d7dbcd9564/llvmlite-0.26.0-cp36-cp36m-manylinux1_x86_64.whl (16.1MB)\n",
      "\u001b[K    100% |████████████████████████████████| 16.1MB 1.7MB/s ta 0:00:011\n",
      "\u001b[?25hBuilding wheels for collected packages: umap-learn\n",
      "  Running setup.py bdist_wheel for umap-learn ... \u001b[?25ldone\n",
      "\u001b[?25h  Stored in directory: /home/amiyaguchi/.cache/pip/wheels/be/a5/95/6cb125db66c98d790fa627977d6cacd16c59a6bfeeab957aa3\n",
      "Successfully built umap-learn\n",
      "Installing collected packages: llvmlite, numba, umap-learn\n",
      "Successfully installed llvmlite-0.26.0 numba-0.41.0 umap-learn-0.3.7\n"
     ]
    }
   ],
   "source": [
    "! pip install umap-learn"
   ]
  },
  {
   "cell_type": "code",
   "execution_count": 26,
   "metadata": {},
   "outputs": [
    {
     "name": "stderr",
     "output_type": "stream",
     "text": [
      "/home/amiyaguchi/cs224w/wikipedia-retention/venv3/lib/python3.6/site-packages/umap/spectral.py:229: UserWarning: Embedding a total of 13 separate connected components using meta-embedding (experimental)\n",
      "  n_components\n"
     ]
    },
    {
     "name": "stdout",
     "output_type": "stream",
     "text": [
      "embedding plot took 278.2952103614807s\n"
     ]
    }
   ],
   "source": [
    "# from sklearn.manifold import TSNE\n",
    "from time import time\n",
    "# from MulticoreTSNE import MulticoreTSNE as TSNE\n",
    "import umap\n",
    "\n",
    "idx = np.random.choice(scaled.shape[0], int(1e5))\n",
    "sampled = scaled[idx]\n",
    "\n",
    "start = time()\n",
    "X_emb = umap.UMAP(n_components=2).fit_transform(sampled)\n",
    "print(f\"embedding plot took {time() - start}s\")"
   ]
  },
  {
   "cell_type": "code",
   "execution_count": 27,
   "metadata": {},
   "outputs": [
    {
     "data": {
      "image/png": "[encoded data removed]",
      "text/plain": [
       "<Figure size 432x288 with 1 Axes>"
      ]
     },
     "metadata": {
      "needs_background": "light"
     },
     "output_type": "display_data"
    }
   ],
   "source": [
    "plt.scatter(X_emb[:,0], X_emb[:, 1], c=roles[idx])\n",
    "plt.show()"
   ]
  },
  {
   "cell_type": "code",
   "execution_count": 29,
   "metadata": {},
   "outputs": [],
   "source": [
    "# TODO: rejection or gibbs sampling"
   ]
  }
 ],
 "metadata": {
  "kernelspec": {
   "display_name": "Python 2",
   "language": "python",
   "name": "python2"
  },
  "language_info": {
   "codemirror_mode": {
    "name": "ipython",
    "version": 3
   },
   "file_extension": ".py",
   "mimetype": "text/x-python",
   "name": "python",
   "nbconvert_exporter": "python",
   "pygments_lexer": "ipython3",
   "version": "3.6.6"
  }
 },
 "nbformat": 4,
 "nbformat_minor": 2
}
