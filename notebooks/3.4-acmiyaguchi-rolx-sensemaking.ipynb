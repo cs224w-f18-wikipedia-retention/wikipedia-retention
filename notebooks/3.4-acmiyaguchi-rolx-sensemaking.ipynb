{
 "cells": [
  {
   "cell_type": "code",
   "execution_count": 2,
   "metadata": {},
   "outputs": [
    {
     "name": "stdout",
     "output_type": "stream",
     "text": [
      "/Users/amiyaguchi/wikipedia-retention\n"
     ]
    }
   ],
   "source": [
    "cd .."
   ]
  },
  {
   "cell_type": "code",
   "execution_count": 3,
   "metadata": {},
   "outputs": [
    {
     "data": {
      "text/html": [
       "<div>\n",
       "<style scoped>\n",
       "    .dataframe tbody tr th:only-of-type {\n",
       "        vertical-align: middle;\n",
       "    }\n",
       "\n",
       "    .dataframe tbody tr th {\n",
       "        vertical-align: top;\n",
       "    }\n",
       "\n",
       "    .dataframe thead th {\n",
       "        text-align: right;\n",
       "    }\n",
       "</style>\n",
       "<table border=\"1\" class=\"dataframe\">\n",
       "  <thead>\n",
       "    <tr style=\"text-align: right;\">\n",
       "      <th></th>\n",
       "      <th>0</th>\n",
       "      <th>1</th>\n",
       "      <th>2</th>\n",
       "      <th>3</th>\n",
       "      <th>4</th>\n",
       "      <th>5</th>\n",
       "      <th>6</th>\n",
       "      <th>7</th>\n",
       "      <th>8</th>\n",
       "      <th>9</th>\n",
       "      <th>...</th>\n",
       "      <th>52</th>\n",
       "      <th>53</th>\n",
       "      <th>54</th>\n",
       "      <th>55</th>\n",
       "      <th>56</th>\n",
       "      <th>57</th>\n",
       "      <th>58</th>\n",
       "      <th>59</th>\n",
       "      <th>60</th>\n",
       "      <th>61</th>\n",
       "    </tr>\n",
       "  </thead>\n",
       "  <tbody>\n",
       "    <tr>\n",
       "      <th>0</th>\n",
       "      <td>37304.0</td>\n",
       "      <td>10209240.0</td>\n",
       "      <td>15737186.0</td>\n",
       "      <td>36118260.0</td>\n",
       "      <td>968.214111</td>\n",
       "      <td>7.117394e+09</td>\n",
       "      <td>1.907944e+05</td>\n",
       "      <td>1.142605e+11</td>\n",
       "      <td>3062955.0</td>\n",
       "      <td>3443599.0</td>\n",
       "      <td>...</td>\n",
       "      <td>2.047179e+09</td>\n",
       "      <td>1216278.250</td>\n",
       "      <td>2.122445e+10</td>\n",
       "      <td>6621282.0</td>\n",
       "      <td>9047967.0</td>\n",
       "      <td>1223658.500</td>\n",
       "      <td>2.100211e+10</td>\n",
       "      <td>6632294.5</td>\n",
       "      <td>1221359.750</td>\n",
       "      <td>6624842.5</td>\n",
       "    </tr>\n",
       "    <tr>\n",
       "      <th>1</th>\n",
       "      <td>3546.0</td>\n",
       "      <td>720717.0</td>\n",
       "      <td>10319353.0</td>\n",
       "      <td>11757241.0</td>\n",
       "      <td>3315.634766</td>\n",
       "      <td>2.740751e+09</td>\n",
       "      <td>7.729135e+05</td>\n",
       "      <td>2.185514e+10</td>\n",
       "      <td>6163323.0</td>\n",
       "      <td>7705844.5</td>\n",
       "      <td>...</td>\n",
       "      <td>2.029646e+09</td>\n",
       "      <td>1223429.500</td>\n",
       "      <td>2.112501e+10</td>\n",
       "      <td>6613167.0</td>\n",
       "      <td>9054072.0</td>\n",
       "      <td>1224354.250</td>\n",
       "      <td>2.107670e+10</td>\n",
       "      <td>6618573.5</td>\n",
       "      <td>1223415.875</td>\n",
       "      <td>6619284.0</td>\n",
       "    </tr>\n",
       "    <tr>\n",
       "      <th>2</th>\n",
       "      <td>2315.0</td>\n",
       "      <td>553232.0</td>\n",
       "      <td>8424956.0</td>\n",
       "      <td>9529105.0</td>\n",
       "      <td>4116.244141</td>\n",
       "      <td>2.464032e+09</td>\n",
       "      <td>1.064377e+06</td>\n",
       "      <td>1.700661e+10</td>\n",
       "      <td>7346266.0</td>\n",
       "      <td>9470891.0</td>\n",
       "      <td>...</td>\n",
       "      <td>2.045110e+09</td>\n",
       "      <td>1217417.750</td>\n",
       "      <td>2.100859e+10</td>\n",
       "      <td>6648297.0</td>\n",
       "      <td>9077289.0</td>\n",
       "      <td>1219390.375</td>\n",
       "      <td>2.104158e+10</td>\n",
       "      <td>6638263.0</td>\n",
       "      <td>1220817.750</td>\n",
       "      <td>6632523.0</td>\n",
       "    </tr>\n",
       "    <tr>\n",
       "      <th>3</th>\n",
       "      <td>95.0</td>\n",
       "      <td>1712.0</td>\n",
       "      <td>1006831.0</td>\n",
       "      <td>1010160.0</td>\n",
       "      <td>10633.262695</td>\n",
       "      <td>2.003104e+08</td>\n",
       "      <td>2.108530e+06</td>\n",
       "      <td>8.012986e+08</td>\n",
       "      <td>8434722.0</td>\n",
       "      <td>12641187.0</td>\n",
       "      <td>...</td>\n",
       "      <td>2.039572e+09</td>\n",
       "      <td>1220639.500</td>\n",
       "      <td>2.094408e+10</td>\n",
       "      <td>6651448.0</td>\n",
       "      <td>9086844.0</td>\n",
       "      <td>1218765.000</td>\n",
       "      <td>2.108085e+10</td>\n",
       "      <td>6635371.0</td>\n",
       "      <td>1221411.000</td>\n",
       "      <td>6632723.5</td>\n",
       "    </tr>\n",
       "    <tr>\n",
       "      <th>4</th>\n",
       "      <td>451.0</td>\n",
       "      <td>26471.0</td>\n",
       "      <td>2999391.0</td>\n",
       "      <td>3051882.0</td>\n",
       "      <td>6766.922363</td>\n",
       "      <td>6.881007e+08</td>\n",
       "      <td>1.525722e+06</td>\n",
       "      <td>3.480699e+09</td>\n",
       "      <td>7717736.0</td>\n",
       "      <td>10762418.0</td>\n",
       "      <td>...</td>\n",
       "      <td>2.037694e+09</td>\n",
       "      <td>1220722.375</td>\n",
       "      <td>2.099337e+10</td>\n",
       "      <td>6641782.5</td>\n",
       "      <td>9077333.0</td>\n",
       "      <td>1220178.750</td>\n",
       "      <td>2.107218e+10</td>\n",
       "      <td>6631758.0</td>\n",
       "      <td>1221793.750</td>\n",
       "      <td>6629538.0</td>\n",
       "    </tr>\n",
       "  </tbody>\n",
       "</table>\n",
       "<p>5 rows × 62 columns</p>\n",
       "</div>"
      ],
      "text/plain": [
       "        0           1           2           3             4             5   \\\n",
       "0  37304.0  10209240.0  15737186.0  36118260.0    968.214111  7.117394e+09   \n",
       "1   3546.0    720717.0  10319353.0  11757241.0   3315.634766  2.740751e+09   \n",
       "2   2315.0    553232.0   8424956.0   9529105.0   4116.244141  2.464032e+09   \n",
       "3     95.0      1712.0   1006831.0   1010160.0  10633.262695  2.003104e+08   \n",
       "4    451.0     26471.0   2999391.0   3051882.0   6766.922363  6.881007e+08   \n",
       "\n",
       "             6             7          8           9     ...                52  \\\n",
       "0  1.907944e+05  1.142605e+11  3062955.0   3443599.0    ...      2.047179e+09   \n",
       "1  7.729135e+05  2.185514e+10  6163323.0   7705844.5    ...      2.029646e+09   \n",
       "2  1.064377e+06  1.700661e+10  7346266.0   9470891.0    ...      2.045110e+09   \n",
       "3  2.108530e+06  8.012986e+08  8434722.0  12641187.0    ...      2.039572e+09   \n",
       "4  1.525722e+06  3.480699e+09  7717736.0  10762418.0    ...      2.037694e+09   \n",
       "\n",
       "            53            54         55         56           57            58  \\\n",
       "0  1216278.250  2.122445e+10  6621282.0  9047967.0  1223658.500  2.100211e+10   \n",
       "1  1223429.500  2.112501e+10  6613167.0  9054072.0  1224354.250  2.107670e+10   \n",
       "2  1217417.750  2.100859e+10  6648297.0  9077289.0  1219390.375  2.104158e+10   \n",
       "3  1220639.500  2.094408e+10  6651448.0  9086844.0  1218765.000  2.108085e+10   \n",
       "4  1220722.375  2.099337e+10  6641782.5  9077333.0  1220178.750  2.107218e+10   \n",
       "\n",
       "          59           60         61  \n",
       "0  6632294.5  1221359.750  6624842.5  \n",
       "1  6618573.5  1223415.875  6619284.0  \n",
       "2  6638263.0  1220817.750  6632523.0  \n",
       "3  6635371.0  1221411.000  6632723.5  \n",
       "4  6631758.0  1221793.750  6629538.0  \n",
       "\n",
       "[5 rows x 62 columns]"
      ]
     },
     "execution_count": 3,
     "metadata": {},
     "output_type": "execute_result"
    }
   ],
   "source": [
    "import pandas as pd\n",
    "\n",
    "rolx_vec = pd.read_csv(\n",
    "    \"data/processed/user-network-v3-v\", \n",
    "    header=None,\n",
    "    sep=' '\n",
    ")\n",
    "rolx_vec.head()"
   ]
  },
  {
   "cell_type": "code",
   "execution_count": 5,
   "metadata": {},
   "outputs": [
    {
     "data": {
      "text/html": [
       "<div>\n",
       "<style scoped>\n",
       "    .dataframe tbody tr th:only-of-type {\n",
       "        vertical-align: middle;\n",
       "    }\n",
       "\n",
       "    .dataframe tbody tr th {\n",
       "        vertical-align: top;\n",
       "    }\n",
       "\n",
       "    .dataframe thead th {\n",
       "        text-align: right;\n",
       "    }\n",
       "</style>\n",
       "<table border=\"1\" class=\"dataframe\">\n",
       "  <thead>\n",
       "    <tr style=\"text-align: right;\">\n",
       "      <th></th>\n",
       "      <th>0</th>\n",
       "      <th>1</th>\n",
       "    </tr>\n",
       "  </thead>\n",
       "  <tbody>\n",
       "    <tr>\n",
       "      <th>0</th>\n",
       "      <td>0</td>\n",
       "      <td>7580</td>\n",
       "    </tr>\n",
       "    <tr>\n",
       "      <th>1</th>\n",
       "      <td>1</td>\n",
       "      <td>2164770</td>\n",
       "    </tr>\n",
       "    <tr>\n",
       "      <th>2</th>\n",
       "      <td>2</td>\n",
       "      <td>32875</td>\n",
       "    </tr>\n",
       "    <tr>\n",
       "      <th>3</th>\n",
       "      <td>3</td>\n",
       "      <td>261299</td>\n",
       "    </tr>\n",
       "    <tr>\n",
       "      <th>4</th>\n",
       "      <td>4</td>\n",
       "      <td>94306</td>\n",
       "    </tr>\n",
       "  </tbody>\n",
       "</table>\n",
       "</div>"
      ],
      "text/plain": [
       "   0        1\n",
       "0  0     7580\n",
       "1  1  2164770\n",
       "2  2    32875\n",
       "3  3   261299\n",
       "4  4    94306"
      ]
     },
     "execution_count": 5,
     "metadata": {},
     "output_type": "execute_result"
    }
   ],
   "source": [
    "rolx_mapping = pd.read_csv(\n",
    "    \"data/processed/user-network-v3-mappings\",\n",
    "    header=None,\n",
    "    skiprows=1,\n",
    "    sep=' '\n",
    ")\n",
    "\n",
    "rolx_mapping.head()"
   ]
  },
  {
   "cell_type": "code",
   "execution_count": 7,
   "metadata": {},
   "outputs": [],
   "source": [
    "df = pd.concat([rolx_mapping, rolx_vec], axis=1).iloc[:, 1:]"
   ]
  },
  {
   "cell_type": "code",
   "execution_count": 8,
   "metadata": {},
   "outputs": [],
   "source": [
    "# make sure to join with the mapping file afterwards\n",
    "from sklearn.decomposition import NMF\n",
    "import numpy as np\n",
    "\n",
    "nmf = NMF(\n",
    "    n_components=16, \n",
    "    solver='mu', \n",
    "    beta_loss='kullback-leibler', \n",
    "    max_iter=1000\n",
    ")\n",
    "\n",
    "X = df.values[:, 1:]\n",
    "W = nmf.fit_transform(X)\n",
    "H = nmf.components_"
   ]
  },
  {
   "cell_type": "code",
   "execution_count": 17,
   "metadata": {},
   "outputs": [
    {
     "name": "stdout",
     "output_type": "stream",
     "text": [
      "art.txt       auth.txt      ecc_clust.txt hub.txt       pr.txt\r\n"
     ]
    }
   ],
   "source": [
    "!ls data/interim/rolesense"
   ]
  },
  {
   "cell_type": "code",
   "execution_count": 10,
   "metadata": {},
   "outputs": [],
   "source": [
    "pd.concat([df.iloc[:, 0], pd.DataFrame(W)]).to_csv(\"data/processed/rolx-nmf-G.csv\", index=False)"
   ]
  },
  {
   "cell_type": "code",
   "execution_count": 52,
   "metadata": {},
   "outputs": [],
   "source": [
    "from pyspark.sql import SparkSession, functions as F\n",
    "\n",
    "spark = SparkSession.builder.getOrCreate()\n",
    "enwiki = spark.read.parquet(\"data/processed/enwiki-meta-compact\")\n",
    "enwiki.createOrReplaceTempView(\"enwiki\")"
   ]
  },
  {
   "cell_type": "code",
   "execution_count": 53,
   "metadata": {},
   "outputs": [],
   "source": [
    "user_df = spark.sql(\"\"\"\n",
    "SELECT\n",
    "    cast(user_id as int) as user_id,\n",
    "    count(distinct article_id) as n_articles,\n",
    "    count(*) as n_edits,\n",
    "    log(sum(log(textdata))) as edit_count\n",
    "FROM enwiki\n",
    "WHERE cast(user_id as int) is not null\n",
    "GROUP BY 1\n",
    "\"\"\").toPandas()"
   ]
  },
  {
   "cell_type": "code",
   "execution_count": 42,
   "metadata": {},
   "outputs": [],
   "source": [
    "pr = pd.read_csv(\n",
    "    \"data/interim/rolesense/pr.txt\", \n",
    "    header=None, \n",
    "    names=[\"user_id\", \"pagerank\"]\n",
    ")\n",
    "hub = pd.read_csv(\n",
    "    \"data/interim/rolesense/hub.txt\", \n",
    "    header=None,\n",
    "    names=[\"user_id\", \"hub\"]\n",
    ")"
   ]
  },
  {
   "cell_type": "code",
   "execution_count": 71,
   "metadata": {},
   "outputs": [],
   "source": [
    "user_stats = (\n",
    "    user_df\n",
    "    .merge(pr, on=\"user_id\")\n",
    "    .merge(hub, on=\"user_id\")\n",
    "    .fillna(0)\n",
    ")\n",
    "\n",
    "user_stats.to_csv(\"data/processed/nodesense-v1.csv\", index=False)"
   ]
  },
  {
   "cell_type": "code",
   "execution_count": 93,
   "metadata": {},
   "outputs": [],
   "source": [
    "M = user_stats[user_stats.edit_count > 0].iloc[:10000, 1:].values"
   ]
  },
  {
   "cell_type": "code",
   "execution_count": 65,
   "metadata": {},
   "outputs": [
    {
     "name": "stdout",
     "output_type": "stream",
     "text": [
      "(10000, 5) (10000, 16) (16, 62)\n"
     ]
    }
   ],
   "source": [
    "print(M.shape, W.shape, H.shape)"
   ]
  },
  {
   "cell_type": "code",
   "execution_count": 138,
   "metadata": {},
   "outputs": [],
   "source": [
    "nodesense = NMF(\n",
    "    n_components=16,\n",
    "    solver='mu', \n",
    "    beta_loss=\"kullback-leibler\", \n",
    "    init='custom', \n",
    "    max_iter=1000\n",
    ")\n",
    "\n",
    "test = np.ones((5, 16))\n",
    "E_t = nodesense.fit_transform(M.T,W=test, H=W.T)"
   ]
  },
  {
   "cell_type": "code",
   "execution_count": 139,
   "metadata": {},
   "outputs": [
    {
     "data": {
      "text/plain": [
       "5251821.950319212"
      ]
     },
     "execution_count": 139,
     "metadata": {},
     "output_type": "execute_result"
    }
   ],
   "source": [
    "np.power(M - W.dot(E_t.T), 2).sum()"
   ]
  },
  {
   "cell_type": "code",
   "execution_count": 141,
   "metadata": {},
   "outputs": [
    {
     "data": {
      "text/plain": [
       "(5, 16)"
      ]
     },
     "execution_count": 141,
     "metadata": {},
     "output_type": "execute_result"
    }
   ],
   "source": [
    "E_t.shape"
   ]
  }
 ],
 "metadata": {
  "kernelspec": {
   "display_name": "Python 3",
   "language": "python",
   "name": "python3"
  },
  "language_info": {
   "codemirror_mode": {
    "name": "ipython",
    "version": 3
   },
   "file_extension": ".py",
   "mimetype": "text/x-python",
   "name": "python",
   "nbconvert_exporter": "python",
   "pygments_lexer": "ipython3",
   "version": "3.7.0"
  }
 },
 "nbformat": 4,
 "nbformat_minor": 2
}
