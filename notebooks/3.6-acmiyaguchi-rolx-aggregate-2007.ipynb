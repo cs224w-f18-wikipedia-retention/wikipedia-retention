{
 "cells": [
  {
   "cell_type": "code",
   "execution_count": 1,
   "metadata": {},
   "outputs": [
    {
     "name": "stdout",
     "output_type": "stream",
     "text": [
      "/Users/amiyaguchi/wikipedia-retention\n"
     ]
    }
   ],
   "source": [
    "cd .."
   ]
  },
  {
   "cell_type": "code",
   "execution_count": 2,
   "metadata": {},
   "outputs": [],
   "source": [
    "from pyspark.sql import SparkSession, functions as F\n",
    "\n",
    "spark = SparkSession.builder.getOrCreate()"
   ]
  },
  {
   "cell_type": "code",
   "execution_count": 3,
   "metadata": {},
   "outputs": [],
   "source": [
    "snapshot = spark.read.csv(\n",
    "    \"data/processed/2007-1-user-network-v3.csv\",\n",
    "    sep='\\t',\n",
    "    schema=\"src INT, dst INT, weight INT\"\n",
    ")"
   ]
  },
  {
   "cell_type": "code",
   "execution_count": 4,
   "metadata": {},
   "outputs": [
    {
     "data": {
      "text/html": [
       "<div>\n",
       "<style scoped>\n",
       "    .dataframe tbody tr th:only-of-type {\n",
       "        vertical-align: middle;\n",
       "    }\n",
       "\n",
       "    .dataframe tbody tr th {\n",
       "        vertical-align: top;\n",
       "    }\n",
       "\n",
       "    .dataframe thead th {\n",
       "        text-align: right;\n",
       "    }\n",
       "</style>\n",
       "<table border=\"1\" class=\"dataframe\">\n",
       "  <thead>\n",
       "    <tr style=\"text-align: right;\">\n",
       "      <th></th>\n",
       "      <th>1</th>\n",
       "      <th>0</th>\n",
       "      <th>1.1</th>\n",
       "      <th>2</th>\n",
       "      <th>3</th>\n",
       "      <th>4</th>\n",
       "      <th>5</th>\n",
       "      <th>6</th>\n",
       "      <th>7</th>\n",
       "      <th>8</th>\n",
       "      <th>9</th>\n",
       "      <th>10</th>\n",
       "      <th>11</th>\n",
       "      <th>12</th>\n",
       "      <th>13</th>\n",
       "      <th>14</th>\n",
       "      <th>15</th>\n",
       "    </tr>\n",
       "  </thead>\n",
       "  <tbody>\n",
       "    <tr>\n",
       "      <th>0</th>\n",
       "      <td>539223</td>\n",
       "      <td>484.283468</td>\n",
       "      <td>1667.401144</td>\n",
       "      <td>0.0</td>\n",
       "      <td>2461.202676</td>\n",
       "      <td>0.0</td>\n",
       "      <td>9.818808e-04</td>\n",
       "      <td>2501.258566</td>\n",
       "      <td>0.000000e+00</td>\n",
       "      <td>0.000000</td>\n",
       "      <td>0.000000</td>\n",
       "      <td>221.465514</td>\n",
       "      <td>722.726328</td>\n",
       "      <td>0.00000</td>\n",
       "      <td>5.462993e-12</td>\n",
       "      <td>0.000000</td>\n",
       "      <td>0.00000</td>\n",
       "    </tr>\n",
       "    <tr>\n",
       "      <th>1</th>\n",
       "      <td>1763181</td>\n",
       "      <td>787.890693</td>\n",
       "      <td>1637.814231</td>\n",
       "      <td>0.0</td>\n",
       "      <td>836.992552</td>\n",
       "      <td>0.0</td>\n",
       "      <td>2.166074e-08</td>\n",
       "      <td>1270.925027</td>\n",
       "      <td>0.000000e+00</td>\n",
       "      <td>0.000000</td>\n",
       "      <td>429.834227</td>\n",
       "      <td>439.724518</td>\n",
       "      <td>2.459119</td>\n",
       "      <td>0.00000</td>\n",
       "      <td>5.963829e-08</td>\n",
       "      <td>0.000000</td>\n",
       "      <td>0.00000</td>\n",
       "    </tr>\n",
       "    <tr>\n",
       "      <th>2</th>\n",
       "      <td>801279</td>\n",
       "      <td>2949.869317</td>\n",
       "      <td>1308.185300</td>\n",
       "      <td>0.0</td>\n",
       "      <td>0.000000</td>\n",
       "      <td>0.0</td>\n",
       "      <td>9.725508e+01</td>\n",
       "      <td>81.469747</td>\n",
       "      <td>3.620337e+02</td>\n",
       "      <td>293.685155</td>\n",
       "      <td>384.428207</td>\n",
       "      <td>260.733440</td>\n",
       "      <td>0.000000</td>\n",
       "      <td>0.00000</td>\n",
       "      <td>4.299851e-05</td>\n",
       "      <td>0.000000</td>\n",
       "      <td>0.00000</td>\n",
       "    </tr>\n",
       "    <tr>\n",
       "      <th>3</th>\n",
       "      <td>1538132</td>\n",
       "      <td>833.037423</td>\n",
       "      <td>1581.649669</td>\n",
       "      <td>0.0</td>\n",
       "      <td>602.264808</td>\n",
       "      <td>0.0</td>\n",
       "      <td>0.000000e+00</td>\n",
       "      <td>1109.625973</td>\n",
       "      <td>4.779822e-17</td>\n",
       "      <td>243.296308</td>\n",
       "      <td>182.271166</td>\n",
       "      <td>423.575266</td>\n",
       "      <td>1.439515</td>\n",
       "      <td>232.76051</td>\n",
       "      <td>0.000000e+00</td>\n",
       "      <td>646.237003</td>\n",
       "      <td>0.00000</td>\n",
       "    </tr>\n",
       "    <tr>\n",
       "      <th>4</th>\n",
       "      <td>16168</td>\n",
       "      <td>548.378772</td>\n",
       "      <td>1582.472685</td>\n",
       "      <td>0.0</td>\n",
       "      <td>2242.648154</td>\n",
       "      <td>0.0</td>\n",
       "      <td>2.175310e-01</td>\n",
       "      <td>2858.066792</td>\n",
       "      <td>6.902702e-35</td>\n",
       "      <td>344.935846</td>\n",
       "      <td>353.149723</td>\n",
       "      <td>58.826487</td>\n",
       "      <td>0.038381</td>\n",
       "      <td>0.00000</td>\n",
       "      <td>1.733111e-04</td>\n",
       "      <td>560.720110</td>\n",
       "      <td>23.23672</td>\n",
       "    </tr>\n",
       "  </tbody>\n",
       "</table>\n",
       "</div>"
      ],
      "text/plain": [
       "         1            0          1.1    2            3    4             5  \\\n",
       "0   539223   484.283468  1667.401144  0.0  2461.202676  0.0  9.818808e-04   \n",
       "1  1763181   787.890693  1637.814231  0.0   836.992552  0.0  2.166074e-08   \n",
       "2   801279  2949.869317  1308.185300  0.0     0.000000  0.0  9.725508e+01   \n",
       "3  1538132   833.037423  1581.649669  0.0   602.264808  0.0  0.000000e+00   \n",
       "4    16168   548.378772  1582.472685  0.0  2242.648154  0.0  2.175310e-01   \n",
       "\n",
       "             6             7           8           9          10          11  \\\n",
       "0  2501.258566  0.000000e+00    0.000000    0.000000  221.465514  722.726328   \n",
       "1  1270.925027  0.000000e+00    0.000000  429.834227  439.724518    2.459119   \n",
       "2    81.469747  3.620337e+02  293.685155  384.428207  260.733440    0.000000   \n",
       "3  1109.625973  4.779822e-17  243.296308  182.271166  423.575266    1.439515   \n",
       "4  2858.066792  6.902702e-35  344.935846  353.149723   58.826487    0.038381   \n",
       "\n",
       "          12            13          14        15  \n",
       "0    0.00000  5.462993e-12    0.000000   0.00000  \n",
       "1    0.00000  5.963829e-08    0.000000   0.00000  \n",
       "2    0.00000  4.299851e-05    0.000000   0.00000  \n",
       "3  232.76051  0.000000e+00  646.237003   0.00000  \n",
       "4    0.00000  1.733111e-04  560.720110  23.23672  "
      ]
     },
     "execution_count": 4,
     "metadata": {},
     "output_type": "execute_result"
    }
   ],
   "source": [
    "import pandas as pd\n",
    "\n",
    "roleG = pd.read_csv(\"data/processed/roles/2007-1-nmf-G.csv\")\n",
    "roleG.head()"
   ]
  },
  {
   "cell_type": "code",
   "execution_count": 97,
   "metadata": {},
   "outputs": [
    {
     "data": {
      "text/plain": [
       "[656893420.8306816,\n",
       " 443078715.6885329,\n",
       " 181042555.45666343,\n",
       " 15678726.686227245,\n",
       " 57583900.54039875,\n",
       " 76453937.72426715,\n",
       " 21178923.422441352,\n",
       " 44566394.67794203,\n",
       " 52426182.64425079,\n",
       " 76548019.66653797,\n",
       " 22541214.434084028,\n",
       " 37060870.040500335,\n",
       " 50220983.4150533,\n",
       " 22989849.323926896,\n",
       " 48813985.29541604,\n",
       " 48328388.038031854]"
      ]
     },
     "execution_count": 97,
     "metadata": {},
     "output_type": "execute_result"
    }
   ],
   "source": [
    "roleG.sum()[1:].tolist()"
   ]
  },
  {
   "cell_type": "code",
   "execution_count": 42,
   "metadata": {},
   "outputs": [],
   "source": [
    "from pyspark.sql import Row\n",
    "\n",
    "x = roleG.apply(lambda x: Row(\n",
    "    user_id=int(x[0]), \n",
    "    vec=x[1:].astype(float).tolist()\n",
    "), axis=1).values\n",
    "\n",
    "rolx_df = spark.createDataFrame(list(x))"
   ]
  },
  {
   "cell_type": "code",
   "execution_count": 43,
   "metadata": {},
   "outputs": [
    {
     "name": "stdout",
     "output_type": "stream",
     "text": [
      "+-------+--------------------+\n",
      "|user_id|                 vec|\n",
      "+-------+--------------------+\n",
      "| 539223|[484.283467546698...|\n",
      "|1763181|[787.890693000982...|\n",
      "| 801279|[2949.86931714851...|\n",
      "|1538132|[833.037423332417...|\n",
      "|  16168|[548.378771838368...|\n",
      "| 643450|[580.260310467623...|\n",
      "| 799415|[420.275031112874...|\n",
      "|1381068|[545.184834329284...|\n",
      "|1613101|[381.471759631519...|\n",
      "|3134723|[362.520644362796...|\n",
      "|  15126|[619.971114535132...|\n",
      "|  82432|[199.047176867927...|\n",
      "| 506179|[159.682027369028...|\n",
      "|2852297|[1280.19528441979...|\n",
      "| 146986|[229.480719223374...|\n",
      "| 186131|[1005.31390198585...|\n",
      "|  97190|[710.492212005573...|\n",
      "|1224427|[318.161185644503...|\n",
      "|  84417|[298.464526370839...|\n",
      "| 115732|[1079.96298984609...|\n",
      "+-------+--------------------+\n",
      "only showing top 20 rows\n",
      "\n"
     ]
    }
   ],
   "source": [
    "rolx_df.show()"
   ]
  },
  {
   "cell_type": "code",
   "execution_count": 90,
   "metadata": {
    "scrolled": true
   },
   "outputs": [],
   "source": [
    "import numpy as np\n",
    "from pyspark.sql import types as T\n",
    "\n",
    "# src only needs to be the set of new users\n",
    "edgelist = (\n",
    "    snapshot\n",
    "    .union(snapshot.selectExpr(\"dst as src\", \"src as dst\", \"weight\"))\n",
    "    .distinct()\n",
    ")\n",
    "\n",
    "@F.udf(T.ArrayType(T.FloatType()))\n",
    "def norm_weight(weight, vec):\n",
    "    a = np.array(vec)\n",
    "    return (a/a.sum()*weight).astype(float).tolist()\n",
    "\n",
    "@F.udf(T.ArrayType(T.FloatType()))\n",
    "def average_vec(vecs):\n",
    "    avg = np.array(vecs).sum(axis=0)/len(vecs)\n",
    "    return avg.astype(float).tolist()\n",
    "\n",
    "@F.udf()\n",
    "def to_csv(src, *vecs):\n",
    "    vec = sum(vecs, [])\n",
    "    return str(src) + \"\\t\" + \"\\t\".join([str(x) for x in vec])\n",
    "\n",
    "averaged = (\n",
    "    edgelist\n",
    "    .join(rolx_df, on=edgelist.dst==rolx_df.user_id)\n",
    "    .drop(\"user_id\")\n",
    "    .withColumn(\"vec\", norm_weight(\"weight\", \"vec\"))\n",
    "    .groupby(\"src\")\n",
    "    .agg(F.collect_list(\"vec\").alias(\"vec_list\"))\n",
    "    .select(\"src\", average_vec(\"vec_list\").alias(\"vec\"))\n",
    "    .select(to_csv(\"src\", \"vec\"))\n",
    ")\n",
    "\n",
    "(\n",
    "    averaged\n",
    "    .repartition(1)\n",
    "    .write.csv(\n",
    "        \"data/processed/roles/2007-1-averaged\", \n",
    "        header=False, \n",
    "        mode=\"overwrite\")\n",
    ")"
   ]
  },
  {
   "cell_type": "code",
   "execution_count": 121,
   "metadata": {},
   "outputs": [],
   "source": [
    "enwiki = spark.read.parquet(\"data/processed/enwiki-meta-compact\")\n",
    "user_text = (\n",
    "    enwiki\n",
    "    .where(\"year=2007 and quarter=1\")\n",
    "    .groupby(\"user_id\")\n",
    "    .agg(F.expr(\"sum(log(textdata+1)) as edit_count\"))\n",
    ")"
   ]
  },
  {
   "cell_type": "code",
   "execution_count": 115,
   "metadata": {},
   "outputs": [],
   "source": [
    "roleG.sum()[1:].tolist()\n",
    "\n",
    "@F.udf(T.ArrayType(T.FloatType()))\n",
    "def average_contribution(total, self, n):\n",
    "    a = np.array(self)\n",
    "    without_self = np.array(total) - a\n",
    "    weighted_avg = without_self/(n-1)*(a/a.sum())\n",
    "    return weighted_avg.tolist()\n",
    "\n",
    "@F.udf()\n",
    "def to_csv(src, *vecs):\n",
    "    vec = sum(vecs, [])\n",
    "    return str(src) + \"\\t\" + \"\\t\".join([str(x) for x in vec])\n",
    "\n",
    "total_vec = F.array(list(map(F.lit, roleG.sum()[1:].astype(float))))\n",
    "\n",
    "averaged = (\n",
    "    edgelist\n",
    "    .limit(100)\n",
    "    .join(rolx_df.selectExpr(\"user_id as dst\", \"vec\"), on=\"dst\")\n",
    "    #.withColumn(\"vec\", norm_weight(\"weight\", \"vec\"))\n",
    "    .groupby(\"src\")\n",
    "    .agg(F.collect_list(\"vec\").alias(\"vec_list\"))\n",
    "    .withColumn(\"neighborhood_avg\", average_vec(\"vec_list\"))\n",
    "    #\n",
    "    .join(rolx_df.selectExpr(\"user_id as src\", \"vec as user_vec\"), on=\"src\")\n",
    "    .withColumn(\"total\", total_vec)\n",
    "    .withColumn(\"total_avg\", average_contribution(\"total\", \"user_vec\", F.lit(roleG.shape[0])))\n",
    "    .select(to_csv(\"src\", \"user_vec\", \"neighborhood_avg\", \"total_avg\"))\n",
    ")\n",
    "\n",
    "(\n",
    "    averaged\n",
    "    .repartition(1)\n",
    "    .write.csv(\n",
    "        \"data/processed/roles/2007-1-averaged\", \n",
    "        header=False, \n",
    "        mode=\"overwrite\")\n",
    ")"
   ]
  },
  {
   "cell_type": "code",
   "execution_count": 116,
   "metadata": {},
   "outputs": [],
   "source": [
    "! mv data/processed/roles/2007-1-averaged/*.csv data/processed/roles/2007-1-averaged.csv"
   ]
  },
  {
   "cell_type": "code",
   "execution_count": 117,
   "metadata": {},
   "outputs": [],
   "source": [
    "! rm -r data/processed/roles/2007-1-averaged/"
   ]
  },
  {
   "cell_type": "code",
   "execution_count": 118,
   "metadata": {},
   "outputs": [
    {
     "name": "stdout",
     "output_type": "stream",
     "text": [
      "1848815\t721.1487944577817\t1565.1254656825863\t0.0\t638.7963725258836\t0.0\t0.012248734005855662\t998.1587474975853\t2.309059539013848e-17\t342.5567122421984\t256.9569142020714\t217.99676527954952\t0.10622208861539033\t113.35707452920236\t9.083574128738857e-06\t604.2349922580771\t0.0\t391.2308044433594\t1548.2999267578125\t0.0\t4622.04833984375\t0.0\t4.3153493767168316e-32\t4539.908203125\t0.0\t171.63815307617188\t0.0\t0.0\t0.0\t0.0\t1.7009691784248663e-23\t450.11517333984375\t842.1399536132812\t253.41065979003906\t370.9659729003906\t0.0\t5.357486724853516\t0.0\t0.0005009525921195745\t11.308073043823242\t5.504884391600985e-19\t9.606904029846191\t10.522002220153809\t2.6286256313323975\t0.002105891704559326\t3.045358419418335\t1.1171164970846803e-07\t15.77794075012207\t0.0\r\n",
      "64406\t4397.854096949706\t999.5221030401756\t0.0\t0.0\t227.19271989601867\t0.0\t0.0\t1035.2808406462607\t0.0\t233.69645261853745\t0.0\t462.90096153315585\t0.06170855727049063\t0.0\t0.0\t1204.972045502596\t3155.646240234375\t1356.6268310546875\t0.0\t0.0\t563.840087890625\t0.0\t0.0\t713.2382202148438\t0.0\t308.7758483886719\t86.39096069335938\t22.84223175048828\t0.0\t0.0\t0.0\t0.0\t985.2781372070312\t151.04222106933594\t0.0\t0.0\t4.461899757385254\t0.0\t0.0\t15.735539436340332\t0.0\t6.101137161254883\t0.0\t5.850922107696533\t0.0010569553123787045\t0.0\t0.0\t19.86069679260254\r\n"
     ]
    }
   ],
   "source": [
    "! head -n2 data/processed/roles/2007-1-averaged.csv"
   ]
  }
 ],
 "metadata": {
  "kernelspec": {
   "display_name": "Python 3",
   "language": "python",
   "name": "python3"
  },
  "language_info": {
   "codemirror_mode": {
    "name": "ipython",
    "version": 3
   },
   "file_extension": ".py",
   "mimetype": "text/x-python",
   "name": "python",
   "nbconvert_exporter": "python",
   "pygments_lexer": "ipython3",
   "version": "3.7.0"
  }
 },
 "nbformat": 4,
 "nbformat_minor": 2
}
