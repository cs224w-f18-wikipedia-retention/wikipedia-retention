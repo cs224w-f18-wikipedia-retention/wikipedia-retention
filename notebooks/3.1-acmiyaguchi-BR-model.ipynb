{
 "cells": [
  {
   "cell_type": "code",
   "execution_count": 1,
   "metadata": {},
   "outputs": [
    {
     "name": "stdout",
     "output_type": "stream",
     "text": [
      "/Users/amiyaguchi/wikipedia-retention\n"
     ]
    }
   ],
   "source": [
    "cd .."
   ]
  },
  {
   "cell_type": "code",
   "execution_count": 2,
   "metadata": {},
   "outputs": [
    {
     "name": "stdout",
     "output_type": "stream",
     "text": [
      "2007-1-enwiki-projection-user-dev.csv\r\n",
      "2007-1-enwiki-projection-user-roles.csv\r\n",
      "2007-1-enwiki-projection-user.csv\r\n",
      "2007Q1-user-network-v1.csv\r\n",
      "2007Q1-user-network-v2.csv\r\n",
      "2007Q1-user-roles-v2.txt\r\n",
      "admin_mapping.csv\r\n",
      "admins.csv\r\n",
      "all_article_features.csv\r\n",
      "all_user_features.csv\r\n",
      "\u001b[1m\u001b[36marticle-network-intermediate-block-articleset\u001b[m\u001b[m\r\n",
      "\u001b[1m\u001b[36mavg_role_features\u001b[m\u001b[m\r\n",
      "base_features_reg.csv\r\n",
      "community_norm_features.csv\r\n",
      "\u001b[1m\u001b[36menwiki-meta-compact\u001b[m\u001b[m\r\n",
      "enwiki-projection-user-dev.csv\r\n",
      "kcore-2007-1.csv\r\n",
      "nodesense-v1.csv\r\n",
      "rolx-nmf-G.csv\r\n",
      "rolx-roles\r\n",
      "rolx-v\r\n",
      "user-network-v3-mappings\r\n",
      "user-network-v3-v\r\n",
      "user-network-v3.csv\r\n"
     ]
    }
   ],
   "source": [
    "! ls data/processed/"
   ]
  },
  {
   "cell_type": "code",
   "execution_count": 7,
   "metadata": {},
   "outputs": [],
   "source": [
    "# Model for neural net regression on all \n",
    "import numpy as np\n",
    "import pandas as pd\n",
    "import sklearn\n",
    "\n",
    "# load features\n",
    "base = \"data/processed/\"\n",
    "\n",
    "user_df = pd.read_csv(base + 'base_features_reg.csv', header=None)\n",
    "role_df = pd.read_csv(base + 'rolx-nmf-G.csv', header=None, skiprows=1)\n",
    "article_df = pd.read_csv(base + 'all_article_features.csv', header=None)\n",
    "\n",
    "y = user_df.iloc[:, -1].values\n",
    "\n",
    "user_df = user_df.drop([1,user_df.columns[-1]], axis=1)"
   ]
  },
  {
   "cell_type": "code",
   "execution_count": 26,
   "metadata": {},
   "outputs": [],
   "source": [
    "# process joined data\n",
    "X = (\n",
    "    user_df\n",
    "    .merge(article_df, how='left', on=0)\n",
    "    #.merge(role_df, how='left', on=0)\n",
    "    .fillna(0.0)\n",
    ").values"
   ]
  },
  {
   "cell_type": "code",
   "execution_count": 27,
   "metadata": {},
   "outputs": [],
   "source": [
    "from sklearn.preprocessing import MinMaxScaler\n",
    "\n",
    "X = np.ndarray.astype(X[:,1:],float) # remove user_id\n",
    "X[np.isnan(X)] = 0 # clear NaNs\n",
    "# add new column for log(sum(log(textdata)))\n",
    "lslt = np.array([np.log(X[:,5])+1]).T\n",
    "X = np.append(X, lslt, 1)\n",
    "\n",
    "# min-max scaling\n",
    "\n",
    "scalar = MinMaxScaler(feature_range=(0,1))\n",
    "scalar.fit(X)\n",
    "dmin = scalar.data_min_\n",
    "dmax = scalar.data_max_\n",
    "Xnorm = scalar.transform(X)\n",
    "Xnorm = Xnorm - Xnorm.mean(axis=0)\n",
    "\n",
    "yl = np.log(y+1) # run on log y for smoother fit"
   ]
  },
  {
   "cell_type": "code",
   "execution_count": 28,
   "metadata": {},
   "outputs": [
    {
     "name": "stderr",
     "output_type": "stream",
     "text": [
      "/Users/amiyaguchi/wikipedia-retention/venv3/lib/python3.7/site-packages/sklearn/model_selection/_split.py:2053: FutureWarning: You should specify a value for 'cv' instead of relying on the default value. The default value will change from 3 to 5 in version 0.22.\n",
      "  warnings.warn(CV_WARNING, FutureWarning)\n",
      "/Users/amiyaguchi/wikipedia-retention/venv3/lib/python3.7/site-packages/sklearn/model_selection/_split.py:2053: FutureWarning: You should specify a value for 'cv' instead of relying on the default value. The default value will change from 3 to 5 in version 0.22.\n",
      "  warnings.warn(CV_WARNING, FutureWarning)\n"
     ]
    }
   ],
   "source": [
    "from sklearn.model_selection import train_test_split\n",
    "from sklearn.model_selection import GridSearchCV\n",
    "from sklearn.neural_network import MLPRegressor, MLPClassifier\n",
    "from sklearn.metrics import log_loss, r2_score\n",
    "import matplotlib.pyplot as plt\n",
    "\n",
    "\n",
    "# train model\n",
    "def fit_model(model,X,y):\n",
    "    X_train, X_test, y_train, y_test = train_test_split(X,y,test_size=0.2,random_state=115)\n",
    "    model.fit(X_train, y_train)\n",
    "    score = model.score(X_test,y_test) # can have sample weight here\n",
    "    return model, score\n",
    "\n",
    "def plot_preds(preds, y, xlab='prediction', ylab='actual contribution'):\n",
    "    plt.plot(np.exp(preds-1),np.exp(y-1),'.')\n",
    "    mx = np.exp(min(np.max(preds),np.max(y)))\n",
    "    plt.plot([1,mx],[1,mx],color='red')\n",
    "    plt.xscale('log')\n",
    "    plt.yscale('log')\n",
    "    plt.xlabel(xlab)\n",
    "    plt.ylabel(ylab)\n",
    "    plt.show()\n",
    "\n",
    "def plot_yl(yl):\n",
    "    plt.hist(yl,log=True)\n",
    "    plt.xlabel('log contribution')\n",
    "    plt.ylabel('bin count')\n",
    "    plt.show()\n",
    "\n",
    "# NOTE: Below is the full 2-model (class * reg)\n",
    "# alphas = [0.1, 1, 10, 100]\n",
    "nodes = [(3), (5), (7), (9), (8, 3), (10, 3), (12, 4), (14, 5)]\n",
    "alphas = [0.1]\n",
    "# nodes = [(8,3)]\n",
    "params = {\"alpha\" : alphas, \"hidden_layer_sizes\" : nodes}\n",
    "theta_idx = yl > 0\n",
    "yl_theta = yl[theta_idx]\n",
    "X_theta = Xnorm[theta_idx] # note: don't rescale since we need to combine models\n",
    "\n",
    "# run regression model\n",
    "MLPR = MLPRegressor(activation = 'relu', solver = 'adam', random_state = 112358)\n",
    "GSR = GridSearchCV(MLPR, params, return_train_score = True, n_jobs=4)\n",
    "reg_model, reg_score = fit_model(GSR, X_theta, yl_theta)\n",
    "rm = reg_model.best_estimator_\n",
    "reg_preds = rm.predict(Xnorm) # predict on all\n",
    "\n",
    "# run classification model\n",
    "MLPC = MLPClassifier(activation='relu', solver='adam', random_state = 112358)\n",
    "GSC = GridSearchCV(MLPC, params, return_train_score = True, n_jobs=4)\n",
    "theta = np.ndarray.astype(theta_idx,int)\n",
    "class_model, class_score = fit_model(GSC, Xnorm, theta)\n",
    "cm = class_model.best_estimator_\n",
    "class_preds = cm.predict_proba(Xnorm)[:,1]\n",
    "\n",
    "# now combine\n",
    "combined_preds = class_preds * reg_preds\n",
    "combined_score = sklearn.metrics.r2_score(yl,combined_preds)\n",
    "\n",
    "# plot class hist\n",
    "def plot_class_hist(theta_idx, class_preds):\n",
    "    plt.hist([1-class_preds[theta_idx],class_preds[~theta_idx]],label=['theta=1','theta=0'],log=True,bins=20)\n",
    "    plt.xlabel(\"Classification error\")\n",
    "    plt.ylabel(\"Bin Count\")\n",
    "    plt.legend()\n",
    "    plt.show()\n"
   ]
  },
  {
   "cell_type": "code",
   "execution_count": 29,
   "metadata": {},
   "outputs": [
    {
     "name": "stdout",
     "output_type": "stream",
     "text": [
      "0.36574926519220075 0.8624038133256297 0.37943924838699383\n"
     ]
    }
   ],
   "source": [
    "# without roles\n",
    "print(reg_score, class_score, combined_score)\n",
    "# 0.3644307322834125 0.8623086114977545 0.37620858386813083"
   ]
  },
  {
   "cell_type": "code",
   "execution_count": 25,
   "metadata": {},
   "outputs": [
    {
     "name": "stdout",
     "output_type": "stream",
     "text": [
      "0.589164057706867 0.8864176537017097 0.5713924962545209\n"
     ]
    }
   ],
   "source": [
    "# with roles\n",
    "print(reg_score, class_score, combined_score)\n",
    "# 0.589164057706867 0.8864176537017097 0.5713924962545209"
   ]
  }
 ],
 "metadata": {
  "kernelspec": {
   "display_name": "Python 3",
   "language": "python",
   "name": "python3"
  },
  "language_info": {
   "codemirror_mode": {
    "name": "ipython",
    "version": 3
   },
   "file_extension": ".py",
   "mimetype": "text/x-python",
   "name": "python",
   "nbconvert_exporter": "python",
   "pygments_lexer": "ipython3",
   "version": "3.7.0"
  }
 },
 "nbformat": 4,
 "nbformat_minor": 2
}
