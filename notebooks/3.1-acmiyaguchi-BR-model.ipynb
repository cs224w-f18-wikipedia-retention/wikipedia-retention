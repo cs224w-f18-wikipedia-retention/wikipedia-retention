{
 "cells": [
  {
   "cell_type": "code",
   "execution_count": 1,
   "metadata": {},
   "outputs": [
    {
     "name": "stdout",
     "output_type": "stream",
     "text": [
      "/home/amiyaguchi/cs224w/wikipedia-retention\n"
     ]
    }
   ],
   "source": [
    "cd .."
   ]
  },
  {
   "cell_type": "code",
   "execution_count": 2,
   "metadata": {},
   "outputs": [
    {
     "name": "stdout",
     "output_type": "stream",
     "text": [
      "2007-1-enwiki-projection-user.csv\t enwiki-meta-compact\r\n",
      "2007-1-enwiki-projection-user-roles.csv  enwiki-meta-parquet\r\n",
      "2007-2-enwiki-projection-user.csv\t kcore-2007-1.csv\r\n",
      "2007-2-enwiki-projection-user-roles.csv  louvain_level5_modularity.tsv\r\n",
      "2007-3-enwiki-projection-user.csv\t markov_bounds.csv\r\n",
      "2007-3-enwiki-projection-user-roles.csv  role-features\r\n",
      "2007-4-enwiki-projection-user.csv\t role-nmf-G-v1.csv\r\n",
      "2007-4-enwiki-projection-user-roles.csv  role-nmf-v1.csv\r\n",
      "admin_mapping.csv\t\t\t rolx_article_distribution\r\n",
      "all_article_features.csv\t\t rolx-roles\r\n",
      "all_user_features.csv\t\t\t rolx-v\r\n",
      "base_features_reg.csv\t\t\t user-network-v3\r\n",
      "community_norm_features.csv\r\n"
     ]
    }
   ],
   "source": [
    "! ls data/processed/"
   ]
  },
  {
   "cell_type": "code",
   "execution_count": 3,
   "metadata": {},
   "outputs": [],
   "source": [
    "# Model for neural net regression on all \n",
    "import numpy as np\n",
    "import pandas as pd\n",
    "import sklearn\n",
    "\n",
    "# load features\n",
    "base = \"data/processed/\"\n",
    "\n",
    "user_df = pd.read_csv(base + 'base_features_reg.csv', header=None)\n",
    "role_df = pd.read_csv(base + 'role-nmf-v1.csv', header=None, skiprows=1)\n",
    "article_df = pd.read_csv(base + 'all_article_features.csv', header=None)\n",
    "\n",
    "y = user_df.iloc[:, -1].values\n",
    "\n",
    "user_df = user_df.drop([1,user_df.columns[-1]], axis=1)\n",
    "\n",
    "# TODO: fix this\n",
    "role_df = role_df.iloc[:, 1:]\n",
    "role_df.columns = range(role_df.shape[1])"
   ]
  },
  {
   "cell_type": "code",
   "execution_count": 25,
   "metadata": {},
   "outputs": [],
   "source": [
    "# process joined data\n",
    "X = (\n",
    "    user_df\n",
    "    .merge(article_df, how='left', on=0)\n",
    "    .merge(role_df.drop_duplicates(subset=['0']), how='left', on=0)\n",
    "    .fillna(0.0)\n",
    ").values"
   ]
  },
  {
   "cell_type": "code",
   "execution_count": 5,
   "metadata": {},
   "outputs": [],
   "source": [
    "from sklearn.preprocessing import MinMaxScaler\n",
    "\n",
    "X = np.ndarray.astype(X[:,1:],float) # remove user_id\n",
    "X[np.isnan(X)] = 0 # clear NaNs\n",
    "# add new column for log(sum(log(textdata)))\n",
    "lslt = np.array([np.log(X[:,5])+1]).T\n",
    "X = np.append(X, lslt, 1)\n",
    "\n",
    "# min-max scaling\n",
    "\n",
    "scalar = MinMaxScaler(feature_range=(0,1))\n",
    "scalar.fit(X)\n",
    "dmin = scalar.data_min_\n",
    "dmax = scalar.data_max_\n",
    "Xnorm = scalar.transform(X)\n",
    "Xnorm = Xnorm - Xnorm.mean(axis=0)\n",
    "\n",
    "yl = np.log(y+1) # run on log y for smoother fit"
   ]
  },
  {
   "cell_type": "code",
   "execution_count": 6,
   "metadata": {},
   "outputs": [
    {
     "ename": "IndexError",
     "evalue": "boolean index did not match indexed array along dimension 0; dimension is 2442710 but corresponding boolean dimension is 1523076",
     "output_type": "error",
     "traceback": [
      "\u001b[0;31m---------------------------------------------------------------------------\u001b[0m",
      "\u001b[0;31mIndexError\u001b[0m                                Traceback (most recent call last)",
      "\u001b[0;32m<ipython-input-6-6079d8c6cc56>\u001b[0m in \u001b[0;36m<module>\u001b[0;34m\u001b[0m\n\u001b[1;32m     37\u001b[0m \u001b[0mtheta_idx\u001b[0m \u001b[0;34m=\u001b[0m \u001b[0myl\u001b[0m \u001b[0;34m>\u001b[0m \u001b[0;36m0\u001b[0m\u001b[0;34m\u001b[0m\u001b[0m\n\u001b[1;32m     38\u001b[0m \u001b[0myl_theta\u001b[0m \u001b[0;34m=\u001b[0m \u001b[0myl\u001b[0m\u001b[0;34m[\u001b[0m\u001b[0mtheta_idx\u001b[0m\u001b[0;34m]\u001b[0m\u001b[0;34m\u001b[0m\u001b[0m\n\u001b[0;32m---> 39\u001b[0;31m \u001b[0mX_theta\u001b[0m \u001b[0;34m=\u001b[0m \u001b[0mXnorm\u001b[0m\u001b[0;34m[\u001b[0m\u001b[0mtheta_idx\u001b[0m\u001b[0;34m]\u001b[0m \u001b[0;31m# note: don't rescale since we need to combine models\u001b[0m\u001b[0;34m\u001b[0m\u001b[0m\n\u001b[0m\u001b[1;32m     40\u001b[0m \u001b[0;34m\u001b[0m\u001b[0m\n\u001b[1;32m     41\u001b[0m \u001b[0;31m# run regression model\u001b[0m\u001b[0;34m\u001b[0m\u001b[0;34m\u001b[0m\u001b[0m\n",
      "\u001b[0;31mIndexError\u001b[0m: boolean index did not match indexed array along dimension 0; dimension is 2442710 but corresponding boolean dimension is 1523076"
     ]
    }
   ],
   "source": [
    "from sklearn.model_selection import train_test_split\n",
    "from sklearn.model_selection import GridSearchCV\n",
    "from sklearn.neural_network import MLPRegressor, MLPClassifier\n",
    "from sklearn.metrics import log_loss, r2_score\n",
    "import matplotlib.pyplot as plt\n",
    "\n",
    "\n",
    "# train model\n",
    "def fit_model(model,X,y):\n",
    "    X_train, X_test, y_train, y_test = train_test_split(X,y,test_size=0.2,random_state=115)\n",
    "    model.fit(X_train, y_train)\n",
    "    score = model.score(X_test,y_test) # can have sample weight here\n",
    "    return model, score\n",
    "\n",
    "def plot_preds(preds, y, xlab='prediction', ylab='actual contribution'):\n",
    "    plt.plot(np.exp(preds-1),np.exp(y-1),'.')\n",
    "    mx = np.exp(min(np.max(preds),np.max(y)))\n",
    "    plt.plot([1,mx],[1,mx],color='red')\n",
    "    plt.xscale('log')\n",
    "    plt.yscale('log')\n",
    "    plt.xlabel(xlab)\n",
    "    plt.ylabel(ylab)\n",
    "    plt.show()\n",
    "\n",
    "def plot_yl(yl):\n",
    "    plt.hist(yl,log=True)\n",
    "    plt.xlabel('log contribution')\n",
    "    plt.ylabel('bin count')\n",
    "    plt.show()\n",
    "\n",
    "# NOTE: Below is the full 2-model (class * reg)\n",
    "# alphas = [0.1, 1, 10, 100]\n",
    "# nodes = [(3), (5), (7), (9), (8, 3), (10, 3), (12, 4), (14, 5)]\n",
    "alphas = [0.1]\n",
    "nodes = [(8,3)]\n",
    "params = {\"alpha\" : alphas, \"hidden_layer_sizes\" : nodes}\n",
    "theta_idx = yl > 0\n",
    "yl_theta = yl[theta_idx]\n",
    "X_theta = Xnorm[theta_idx] # note: don't rescale since we need to combine models\n",
    "\n",
    "# run regression model\n",
    "MLPR = MLPRegressor(activation = 'relu', solver = 'adam', random_state = 112358)\n",
    "GSR = GridSearchCV(MLPR, params, return_train_score = True, n_jobs=4)\n",
    "reg_model, reg_score = fit_model(GSR, X_theta, yl_theta)\n",
    "rm = reg_model.best_estimator_\n",
    "reg_preds = rm.predict(Xnorm) # predict on all\n",
    "\n",
    "# run classification model\n",
    "MLPC = MLPClassifier(activation='relu', solver='adam', random_state = 112358)\n",
    "GSC = GridSearchCV(MLPC, params, return_train_score = True, n_jobs=4)\n",
    "theta = np.ndarray.astype(theta_idx,int)\n",
    "class_model, class_score = fit_model(GSC, Xnorm, theta)\n",
    "cm = class_model.best_estimator_\n",
    "class_preds = cm.predict_proba(Xnorm)[:,1]\n",
    "\n",
    "# now combine\n",
    "combined_preds = class_preds * reg_preds\n",
    "combined_score = sklearn.metrics.r2_score(yl,combined_preds)\n",
    "\n",
    "# plot class hist\n",
    "def plot_class_hist(theta_idx, class_preds):\n",
    "    plt.hist([1-class_preds[theta_idx],class_preds[~theta_idx]],label=['theta=1','theta=0'],log=True,bins=20)\n",
    "    plt.xlabel(\"Classification error\")\n",
    "    plt.ylabel(\"Bin Count\")\n",
    "    plt.legend()\n",
    "    plt.show()\n"
   ]
  },
  {
   "cell_type": "code",
   "execution_count": 16,
   "metadata": {},
   "outputs": [
    {
     "name": "stdout",
     "output_type": "stream",
     "text": [
      "0.3644307322834125 0.8623086114977545 0.37620858386813083\n"
     ]
    }
   ],
   "source": [
    "# without roles\n",
    "print(reg_score, class_score, combined_score)\n",
    "# 0.3644307322834125 0.8623086114977545 0.37620858386813083"
   ]
  },
  {
   "cell_type": "code",
   "execution_count": null,
   "metadata": {},
   "outputs": [],
   "source": [
    "# without roles\n",
    "print(reg_score, class_score, combined_score)"
   ]
  }
 ],
 "metadata": {
  "kernelspec": {
   "display_name": "Python 3",
   "language": "python",
   "name": "python3"
  },
  "language_info": {
   "codemirror_mode": {
    "name": "ipython",
    "version": 3
   },
   "file_extension": ".py",
   "mimetype": "text/x-python",
   "name": "python",
   "nbconvert_exporter": "python",
   "pygments_lexer": "ipython3",
   "version": "3.6.6"
  }
 },
 "nbformat": 4,
 "nbformat_minor": 2
}
