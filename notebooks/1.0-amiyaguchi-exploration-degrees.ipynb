{
 "cells": [
  {
   "cell_type": "code",
   "execution_count": 1,
   "metadata": {},
   "outputs": [],
   "source": [
    "%load_ext autoreload\n",
    "%autoreload 2"
   ]
  },
  {
   "cell_type": "code",
   "execution_count": 2,
   "metadata": {},
   "outputs": [
    {
     "name": "stdout",
     "output_type": "stream",
     "text": [
      "enwiki-meta-parquet\r\n"
     ]
    }
   ],
   "source": [
    "!ls ../data/interim"
   ]
  },
  {
   "cell_type": "code",
   "execution_count": 3,
   "metadata": {},
   "outputs": [],
   "source": [
    "from pyspark.sql import SparkSession, functions as F\n",
    "\n",
    "spark = SparkSession.builder.getOrCreate()\n",
    "df = spark.read.parquet(\"../data/interim/enwiki-meta-parquet\")"
   ]
  },
  {
   "cell_type": "code",
   "execution_count": 4,
   "metadata": {},
   "outputs": [
    {
     "name": "stdout",
     "output_type": "stream",
     "text": [
      "CPU times: user 622 µs, sys: 2.31 ms, total: 2.93 ms\n",
      "Wall time: 5.17 s\n"
     ]
    },
    {
     "data": {
      "text/plain": [
       "116590880"
      ]
     },
     "execution_count": 4,
     "metadata": {},
     "output_type": "execute_result"
    }
   ],
   "source": [
    "%time df.count()"
   ]
  },
  {
   "cell_type": "code",
   "execution_count": 5,
   "metadata": {},
   "outputs": [
    {
     "data": {
      "text/plain": [
       "521"
      ]
     },
     "execution_count": 5,
     "metadata": {},
     "output_type": "execute_result"
    }
   ],
   "source": [
    "df.rdd.getNumPartitions()"
   ]
  },
  {
   "cell_type": "code",
   "execution_count": 6,
   "metadata": {},
   "outputs": [
    {
     "name": "stdout",
     "output_type": "stream",
     "text": [
      "root\n",
      " |-- article_id: integer (nullable = true)\n",
      " |-- rev_id: integer (nullable = true)\n",
      " |-- article_title: string (nullable = true)\n",
      " |-- timestamp: timestamp (nullable = true)\n",
      " |-- username: string (nullable = true)\n",
      " |-- user_id: string (nullable = true)\n",
      " |-- category: string (nullable = true)\n",
      " |-- image: string (nullable = true)\n",
      " |-- main: string (nullable = true)\n",
      " |-- talk: string (nullable = true)\n",
      " |-- user: string (nullable = true)\n",
      " |-- user_talk: string (nullable = true)\n",
      " |-- other: string (nullable = true)\n",
      " |-- external: string (nullable = true)\n",
      " |-- template: string (nullable = true)\n",
      " |-- comment: string (nullable = true)\n",
      " |-- minor: boolean (nullable = true)\n",
      " |-- textdata: integer (nullable = true)\n",
      " |-- year: integer (nullable = true)\n",
      " |-- quarter: integer (nullable = true)\n",
      "\n"
     ]
    }
   ],
   "source": [
    "df.printSchema()"
   ]
  },
  {
   "cell_type": "code",
   "execution_count": 7,
   "metadata": {},
   "outputs": [
    {
     "name": "stdout",
     "output_type": "stream",
     "text": [
      "+----+-------+--------------------------+\n",
      "|year|quarter|count(DISTINCT article_id)|\n",
      "+----+-------+--------------------------+\n",
      "|2001|      1|                      1235|\n",
      "|2001|      2|                      2470|\n",
      "|2001|      3|                      5576|\n",
      "|2001|      4|                     11401|\n",
      "|2002|      1|                     31267|\n",
      "|2002|      2|                     20854|\n",
      "|2002|      3|                     42377|\n",
      "|2002|      4|                     77441|\n",
      "|2003|      1|                     50187|\n",
      "|2003|      2|                     67912|\n",
      "|2003|      3|                     90556|\n",
      "|2003|      4|                    107742|\n",
      "|2004|      1|                    164613|\n",
      "|2004|      2|                    230571|\n",
      "|2004|      3|                    311811|\n",
      "|2004|      4|                    383966|\n",
      "|2005|      1|                    375920|\n",
      "|2005|      2|                    518441|\n",
      "|2005|      3|                    663664|\n",
      "|2005|      4|                    779541|\n",
      "|2006|      1|                    951947|\n",
      "|2006|      2|                   1040275|\n",
      "|2006|      3|                   1196946|\n",
      "|2006|      4|                   1273590|\n",
      "|2007|      1|                   1357544|\n",
      "|2007|      2|                   1449846|\n",
      "|2007|      3|                   1519628|\n",
      "|2007|      4|                   1584838|\n",
      "|2008|      1|                    232669|\n",
      "+----+-------+--------------------------+\n",
      "\n",
      "CPU times: user 2.66 ms, sys: 3.88 ms, total: 6.54 ms\n",
      "Wall time: 21.9 s\n"
     ]
    }
   ],
   "source": [
    "query = (\n",
    "    df.groupBy(\"year\", \"quarter\")\n",
    "    .agg(F.countDistinct(\"article_id\"))\n",
    "    .orderBy(\"year\", \"quarter\")\n",
    ")\n",
    "\n",
    "%time query.show(n=100)"
   ]
  },
  {
   "cell_type": "code",
   "execution_count": 8,
   "metadata": {},
   "outputs": [],
   "source": [
    "df.createOrReplaceTempView(\"enwiki\")"
   ]
  },
  {
   "cell_type": "code",
   "execution_count": 11,
   "metadata": {},
   "outputs": [
    {
     "name": "stdout",
     "output_type": "stream",
     "text": [
      "+-------------------------------------------+--------+\n",
      "|category                                   |count(1)|\n",
      "+-------------------------------------------+--------+\n",
      "|null                                       |15613018|\n",
      "|Discographies                              |63932   |\n",
      "|Surnames                                   |58256   |\n",
      "|Given_names                                |50417   |\n",
      "|American_musical_groups                    |37441   |\n",
      "|Living_people                              |32305   |\n",
      "|Simpsons_episodes                          |30100   |\n",
      "|Thomas_the_Tank_Engine_and_Friends         |26812   |\n",
      "|Naruto                                     |26204   |\n",
      "|Integers                                   |24667   |\n",
      "|Uncategorised_people                       |23909   |\n",
      "|September                                  |22860   |\n",
      "|World_Wrestling_Entertainment_pay-per-views|22686   |\n",
      "|November                                   |22447   |\n",
      "|SpongeBob_SquarePants_episodes             |22019   |\n",
      "|October                                    |21944   |\n",
      "|Craters_on_the_Moon                        |21787   |\n",
      "|December                                   |21703   |\n",
      "|Articles_for_deletion                      |21326   |\n",
      "|Naruto_characters                          |21104   |\n",
      "+-------------------------------------------+--------+\n",
      "only showing top 20 rows\n",
      "\n"
     ]
    }
   ],
   "source": [
    "query = \"\"\"\n",
    "select \n",
    "    category, \n",
    "    count(*)\n",
    "from enwiki \n",
    "group by 1 \n",
    "order by 2 desc\n",
    "\"\"\"\n",
    "\n",
    "spark.sql(query).show(truncate=False)"
   ]
  },
  {
   "cell_type": "code",
   "execution_count": 25,
   "metadata": {},
   "outputs": [],
   "source": [
    "import numpy as np\n",
    "import matplotlib.pyplot as plt"
   ]
  },
  {
   "cell_type": "code",
   "execution_count": 44,
   "metadata": {},
   "outputs": [
    {
     "data": {
      "text/plain": [
       "18675"
      ]
     },
     "execution_count": 44,
     "metadata": {},
     "output_type": "execute_result"
    }
   ],
   "source": [
    "query = \"\"\"\n",
    "with user_stats as (\n",
    "    SELECT\n",
    "        concat(year, '-', quarter) as period,\n",
    "        user_id,\n",
    "        count(distinct article_id) as degree\n",
    "    from enwiki\n",
    "    where \n",
    "        user_id is not null\n",
    "    group by 1, 2\n",
    "    order by 1\n",
    ")\n",
    "\n",
    "SELECT\n",
    "    period,\n",
    "    degree,\n",
    "    count(user_id) as count\n",
    "from user_stats\n",
    "group by 1, 2\n",
    "order by 1, 2\n",
    "\"\"\"\n",
    "\n",
    "spark.sql(query).count()"
   ]
  },
  {
   "cell_type": "code",
   "execution_count": 45,
   "metadata": {},
   "outputs": [],
   "source": [
    "df = spark.sql(query).toPandas()"
   ]
  },
  {
   "cell_type": "code",
   "execution_count": 87,
   "metadata": {},
   "outputs": [
    {
     "data": {
      "text/plain": [
       "29"
      ]
     },
     "execution_count": 87,
     "metadata": {},
     "output_type": "execute_result"
    }
   ],
   "source": [
    "len(set(df.period))"
   ]
  },
  {
   "cell_type": "code",
   "execution_count": 156,
   "metadata": {},
   "outputs": [
    {
     "data": {
      "image/png": "[encoded data removed]",
      "text/plain": [
       "<Figure size 720x1440 with 29 Axes>"
      ]
     },
     "metadata": {
      "needs_background": "light"
     },
     "output_type": "display_data"
    }
   ],
   "source": [
    "labels = sorted(set(df.period))\n",
    "# Three subplots sharing both x/y axes\n",
    "f, ax = plt.subplots(29, sharex=True, sharey=True, figsize=(10, 20))\n",
    "\n",
    "for i, label in enumerate(labels):    \n",
    "    test = df[(df.period == label) & (df.degree > 1)]\n",
    "    ax[i].hist(\n",
    "        np.log(test.degree), \n",
    "        bins=30, \n",
    "        weights=test['count'],\n",
    "        #density=True,\n",
    "        log=True,\n",
    "        histtype='stepfilled',\n",
    "        label=label,\n",
    "    )\n",
    "    \n",
    "# Fine-tune figure; make subplots close to each other and hide x ticks for\n",
    "# all but bottom plot.\n",
    "f.subplots_adjust(hspace=0)\n",
    "#plt.setp([a.get_xticklabels() for a in f.axes[:-1]], visible=False)"
   ]
  },
  {
   "cell_type": "code",
   "execution_count": 158,
   "metadata": {
    "scrolled": false
   },
   "outputs": [
    {
     "data": {
      "image/png": "[encoded data removed]",
      "text/plain": [
       "<Figure size 432x288 with 1 Axes>"
      ]
     },
     "metadata": {
      "needs_background": "light"
     },
     "output_type": "display_data"
    },
    {
     "data": {
      "image/png": "[encoded data removed]",
      "text/plain": [
       "<Figure size 432x288 with 1 Axes>"
      ]
     },
     "metadata": {
      "needs_background": "light"
     },
     "output_type": "display_data"
    }
   ],
   "source": [
    "test = df[df.period == labels[0]]\n",
    "plt.hist(np.log(test.degree), bins=10, weights=np.log(test['count']))\n",
    "plt.show()\n",
    "\n",
    "plt.scatter(np.log(test.degree), np.log(test['count']))\n",
    "plt.show()"
   ]
  },
  {
   "cell_type": "code",
   "execution_count": 157,
   "metadata": {},
   "outputs": [
    {
     "data": {
      "image/png": "[encoded data removed]",
      "text/plain": [
       "<Figure size 432x288 with 1 Axes>"
      ]
     },
     "metadata": {
      "needs_background": "light"
     },
     "output_type": "display_data"
    },
    {
     "data": {
      "image/png": "[encoded data removed]",
      "text/plain": [
       "<Figure size 432x288 with 1 Axes>"
      ]
     },
     "metadata": {
      "needs_background": "light"
     },
     "output_type": "display_data"
    }
   ],
   "source": [
    "test = df[df.period == labels[15]]\n",
    "plt.hist(np.log(test.degree), bins=20, weights=np.log(test['count']))\n",
    "plt.show()\n",
    "\n",
    "plt.scatter(np.log(test.degree), np.log(test['count']))\n",
    "plt.show()"
   ]
  },
  {
   "cell_type": "code",
   "execution_count": 178,
   "metadata": {},
   "outputs": [
    {
     "name": "stdout",
     "output_type": "stream",
     "text": [
      "edges: 4694179\n",
      "users: 354500\n",
      "articles: 1291873\n",
      "CPU times: user 4.19 ms, sys: 5.98 ms, total: 10.2 ms\n",
      "Wall time: 18.1 s\n"
     ]
    }
   ],
   "source": [
    "def get_edges(year, quarter):\n",
    "    # assumes that the table is registered as `enwiki`\n",
    "    query = \"\"\"\n",
    "    with subset as (\n",
    "        SELECT \n",
    "            article_id,\n",
    "            cast(user_id as int) as user_id,\n",
    "            textdata\n",
    "        FROM\n",
    "            enwiki\n",
    "        WHERE\n",
    "            year = {} AND\n",
    "            quarter = {}\n",
    "    )\n",
    "\n",
    "    SELECT\n",
    "        user_id,\n",
    "        article_id,\n",
    "        sum(textdata) as word_count\n",
    "    FROM subset\n",
    "    WHERE user_id is not null\n",
    "    GROUP BY 1, 2\n",
    "    \"\"\".format(year, quarter)\n",
    "\n",
    "    res = spark.sql(query)\n",
    "    return res\n",
    "\n",
    "def print_stats(df):\n",
    "    edges = df.count()\n",
    "    users = df.select(\"user_id\").distinct().count()\n",
    "    articles = df.select(\"article_id\").distinct().count()\n",
    "    print(\"edges: {}\\nusers: {}\\narticles: {}\".format(edges, users, articles))\n",
    "\n",
    "res = get_edges(2007, 1)\n",
    "%time print_stats(res)"
   ]
  },
  {
   "cell_type": "code",
   "execution_count": 189,
   "metadata": {},
   "outputs": [
    {
     "data": {
      "image/png": "[encoded data removed]",
      "text/plain": [
       "<Figure size 432x288 with 1 Axes>"
      ]
     },
     "metadata": {
      "needs_background": "light"
     },
     "output_type": "display_data"
    }
   ],
   "source": [
    "def plot_degree_distribution(df):\n",
    "    df.createOrReplaceTempView(\"temp\")\n",
    "    query = \"\"\"\n",
    "    with user_stats as (\n",
    "        select \n",
    "            user_id, \n",
    "            count(distinct article_id) as degree\n",
    "        from temp\n",
    "        group by 1\n",
    "    )\n",
    "\n",
    "    select\n",
    "        degree,\n",
    "        count(distinct user_id) as n_users\n",
    "    from user_stats\n",
    "    group by 1\n",
    "    \"\"\"\n",
    "    deg = spark.sql(query).toPandas()\n",
    "    \n",
    "    fig = plt.figure()\n",
    "    ax = plt.gca()\n",
    "    ax.scatter(deg.degree, deg.n_users)\n",
    "    ax.set_yscale('log')\n",
    "    ax.set_xscale('log')\n",
    "    plt.show()\n",
    "\n",
    "\n",
    "plot_degree_distribution(res)"
   ]
  },
  {
   "cell_type": "code",
   "execution_count": 185,
   "metadata": {},
   "outputs": [
    {
     "data": {
      "image/png": "[encoded data removed]",
      "text/plain": [
       "<Figure size 432x288 with 1 Axes>"
      ]
     },
     "metadata": {
      "needs_background": "light"
     },
     "output_type": "display_data"
    }
   ],
   "source": [
    "def plot_days_between_contributions(year, quarter):\n",
    "    query = \"\"\"\n",
    "    with user_stats as (\n",
    "        select\n",
    "            user_id,\n",
    "            datediff(max(timestamp), min(timestamp)) as days\n",
    "        from enwiki\n",
    "        where year = {} and quarter = {}\n",
    "        group by 1\n",
    "    )\n",
    "    select\n",
    "        days,\n",
    "        count(distinct user_id) as n_users\n",
    "    from user_stats\n",
    "    group by 1\n",
    "    order by 1\n",
    "    \"\"\".format(year, quarter)\n",
    "    \n",
    "    res = spark.sql(query).toPandas()\n",
    "    plt.semilogy(res.days, res.n_users)\n",
    "    plt.show()\n",
    "\n",
    "    \n",
    "plot_days_between_contributions(2007, 1)"
   ]
  },
  {
   "cell_type": "code",
   "execution_count": 190,
   "metadata": {},
   "outputs": [
    {
     "data": {
      "image/png": "[encoded data removed]",
      "text/plain": [
       "<Figure size 432x288 with 1 Axes>"
      ]
     },
     "metadata": {
      "needs_background": "light"
     },
     "output_type": "display_data"
    }
   ],
   "source": [
    "query = \"\"\"\n",
    "with user_stats as (\n",
    "    select\n",
    "        user_id,\n",
    "        datediff(max(timestamp), min(timestamp)) as days\n",
    "    from enwiki\n",
    "    group by 1\n",
    ")\n",
    "select\n",
    "    days,\n",
    "    count(distinct user_id) as n_users\n",
    "from user_stats\n",
    "group by 1\n",
    "order by 1\n",
    "\"\"\"\n",
    "\n",
    "res = spark.sql(query).toPandas()\n",
    "plt.loglog(res.days, res.n_users)\n",
    "plt.show()"
   ]
  },
  {
   "cell_type": "code",
   "execution_count": 225,
   "metadata": {},
   "outputs": [],
   "source": [
    "df1 = get_edges(2007, 1)\n",
    "df2 = get_edges(2007, 2)\n",
    "df3 = get_edges(2007, 3)\n",
    "df4 = get_edges(2007, 4)"
   ]
  },
  {
   "cell_type": "code",
   "execution_count": 193,
   "metadata": {},
   "outputs": [
    {
     "name": "stdout",
     "output_type": "stream",
     "text": [
      "edges: 4694179\n",
      "users: 354500\n",
      "articles: 1291873\n",
      "edges: 4667370\n",
      "users: 340806\n",
      "articles: 1373819\n"
     ]
    }
   ],
   "source": [
    "print_stats(df1)\n",
    "print_stats(df2)"
   ]
  },
  {
   "cell_type": "code",
   "execution_count": 227,
   "metadata": {},
   "outputs": [
    {
     "name": "stdout",
     "output_type": "stream",
     "text": [
      "0.307870239774\n",
      "0.234318758815\n",
      "0.209497884344\n"
     ]
    }
   ],
   "source": [
    "def jaccard(df1, df2):\n",
    "    # percentage of things in the intersection out of the total possible from the left\n",
    "    set1 = df1.select(\"user_id\").distinct()\n",
    "    set2 = df2.select(\"user_id\").distinct()\n",
    "    intersection = set1.join(set2, \"user_id\", \"inner\").count()\n",
    "    original = set1.count()\n",
    "    return intersection*1.0/original\n",
    "\n",
    "# baseline\n",
    "print jaccard(df1, df2)\n",
    "print jaccard(df1, df3)\n",
    "print jaccard(df1, df4)"
   ]
  },
  {
   "cell_type": "code",
   "execution_count": 229,
   "metadata": {},
   "outputs": [
    {
     "name": "stdout",
     "output_type": "stream",
     "text": [
      "[280.0, 808.0, 2519.0]\n",
      "0.282680913418\n",
      "0.306088046509\n",
      "0.308611799968\n",
      "0.310006374829\n"
     ]
    }
   ],
   "source": [
    "# TODO: normalize by frequency\n",
    "def print_jaccard_by_word_count_quantile(df1, df2):\n",
    "    qt = df1.approxQuantile(\"word_count\", [.25, .5, .75], 0.001)\n",
    "    print(qt)\n",
    "\n",
    "    clauses = [\n",
    "        \"word_count < {}\".format(qt[0]),\n",
    "        \"word_count > {} AND word_count < {}\".format(qt[0], qt[1]),\n",
    "        \"word_count > {} AND word_count < {}\".format(qt[1], qt[2]),\n",
    "        \"word_count > {}\".format(qt[2]),\n",
    "    ]\n",
    "\n",
    "    for clause in clauses:\n",
    "        print(jaccard(df1.where(clause), df2.where(clause)))\n",
    "\n",
    "print_jaccard_by_word_count_quantile(df1, df2)"
   ]
  },
  {
   "cell_type": "code",
   "execution_count": 230,
   "metadata": {},
   "outputs": [
    {
     "name": "stdout",
     "output_type": "stream",
     "text": [
      "[280.0, 808.0, 2523.0]\n",
      "0.218970993784\n",
      "0.24156238969\n",
      "0.243445915433\n",
      "0.237920998798\n"
     ]
    }
   ],
   "source": [
    "print_jaccard_by_word_count_quantile(df1, df3)"
   ]
  },
  {
   "cell_type": "code",
   "execution_count": 231,
   "metadata": {},
   "outputs": [
    {
     "name": "stdout",
     "output_type": "stream",
     "text": [
      "[281.0, 804.0, 2521.0]\n",
      "0.190468843592\n",
      "0.212184828325\n",
      "0.216771523277\n",
      "0.212093582169\n"
     ]
    }
   ],
   "source": [
    "print_jaccard_by_word_count_quantile(df1, df4)"
   ]
  },
  {
   "cell_type": "code",
   "execution_count": 222,
   "metadata": {},
   "outputs": [
    {
     "name": "stdout",
     "output_type": "stream",
     "text": [
      "[2.0, 3.0, 8.0]\n",
      "0.0563515825492\n",
      "0.044730828307\n",
      "0.145308843344\n",
      "0.54484429415\n"
     ]
    }
   ],
   "source": [
    "def user_article_degree(df):\n",
    "    # maybe a source of subtle bugs if the view isn't materialized\n",
    "    df.createOrReplaceTempView(\"temp\")\n",
    "    query = \"\"\"\n",
    "    select \n",
    "        user_id, \n",
    "        count(distinct article_id) as degree\n",
    "    from temp\n",
    "    group by 1\n",
    "    \"\"\"\n",
    "    return spark.sql(query).where(\"degree > 1\")\n",
    "\n",
    "\n",
    "def print_jaccard_by_degree_quantiles(df1, df2):\n",
    "    df1, df2 = map(user_article_degree, [df1, df2])\n",
    "    \n",
    "    qt = df1.approxQuantile(\"degree\", [.25, .5, .75], 0.001)\n",
    "    print(qt)\n",
    "\n",
    "    clauses = [\n",
    "        \"degree <= {}\".format(qt[0]),\n",
    "        \"degree > {} AND degree <= {}\".format(qt[0], qt[1]),\n",
    "        \"degree > {} AND degree <= {}\".format(qt[1], qt[2]),\n",
    "        \"degree > {}\".format(qt[2]),\n",
    "    ]\n",
    "\n",
    "    for clause in clauses:\n",
    "        print(jaccard(df1.where(clause), df2.where(clause)))\n",
    "\n",
    "    \n",
    "print_jaccard_by_degree_quantiles(df1, df2)"
   ]
  },
  {
   "cell_type": "code",
   "execution_count": 223,
   "metadata": {},
   "outputs": [
    {
     "name": "stdout",
     "output_type": "stream",
     "text": [
      "[2.0, 3.0, 8.0]\n",
      "0.0372647562019\n",
      "0.0300827932417\n",
      "0.0972980639671\n",
      "0.427774693383\n"
     ]
    }
   ],
   "source": [
    "print_jaccard_by_degree_quantiles(df1, df3)"
   ]
  },
  {
   "cell_type": "code",
   "execution_count": 224,
   "metadata": {},
   "outputs": [
    {
     "name": "stdout",
     "output_type": "stream",
     "text": [
      "[2.0, 3.0, 8.0]\n",
      "0.0330945252352\n",
      "0.0259243996553\n",
      "0.081790889535\n",
      "0.369252510978\n"
     ]
    }
   ],
   "source": [
    "print_jaccard_by_degree_quantiles(df1, df4)"
   ]
  }
 ],
 "metadata": {
  "kernelspec": {
   "display_name": "Python 2",
   "language": "python",
   "name": "python2"
  },
  "language_info": {
   "codemirror_mode": {
    "name": "ipython",
    "version": 2
   },
   "file_extension": ".py",
   "mimetype": "text/x-python",
   "name": "python",
   "nbconvert_exporter": "python",
   "pygments_lexer": "ipython2",
   "version": "2.7.15"
  }
 },
 "nbformat": 4,
 "nbformat_minor": 2
}
