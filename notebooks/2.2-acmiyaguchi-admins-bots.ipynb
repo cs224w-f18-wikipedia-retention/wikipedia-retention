{
 "cells": [
  {
   "cell_type": "code",
   "execution_count": 20,
   "metadata": {},
   "outputs": [
    {
     "name": "stdout",
     "output_type": "stream",
     "text": [
      "/Users/amiyaguchi/wikipedia-retention\n"
     ]
    }
   ],
   "source": [
    "cd .."
   ]
  },
  {
   "cell_type": "code",
   "execution_count": 21,
   "metadata": {},
   "outputs": [
    {
     "data": {
      "text/plain": [
       "997"
      ]
     },
     "execution_count": 21,
     "metadata": {},
     "output_type": "execute_result"
    }
   ],
   "source": [
    "import pandas as pd\n",
    "\n",
    "with open(\"data/raw/admins.txt\", 'r') as f:\n",
    "    data = f.readlines()\n",
    "\n",
    "admins = [x.split(\"User:\")[-1].strip() for x in data if x.strip()]\n",
    "len(admins)"
   ]
  },
  {
   "cell_type": "code",
   "execution_count": 22,
   "metadata": {},
   "outputs": [
    {
     "data": {
      "text/plain": [
       "11058849"
      ]
     },
     "execution_count": 22,
     "metadata": {},
     "output_type": "execute_result"
    }
   ],
   "source": [
    "from pyspark.sql import SparkSession\n",
    "\n",
    "spark = SparkSession.builder.getOrCreate()\n",
    "df = spark.read.parquet(\"data/processed/enwiki-meta-compact\")\n",
    "\n",
    "df.select(\"username\").distinct().count()"
   ]
  },
  {
   "cell_type": "code",
   "execution_count": 44,
   "metadata": {},
   "outputs": [],
   "source": [
    "admin_df = spark.createDataFrame([{'admin': admin} for admin in admins])"
   ]
  },
  {
   "cell_type": "code",
   "execution_count": 24,
   "metadata": {},
   "outputs": [
    {
     "data": {
      "text/plain": [
       "716"
      ]
     },
     "execution_count": 24,
     "metadata": {},
     "output_type": "execute_result"
    }
   ],
   "source": [
    "df.select(\"username\").distinct().join(admin_df, admin_df.admin == df.username, \"inner\").count()"
   ]
  },
  {
   "cell_type": "code",
   "execution_count": 25,
   "metadata": {},
   "outputs": [
    {
     "name": "stdout",
     "output_type": "stream",
     "text": [
      "13740491 336535\n"
     ]
    }
   ],
   "source": [
    "sample = df.where(\"year=2007 and quarter=1\")\n",
    "sample_admins = sample.join(admin_df, admin_df.admin == df.username, \"inner\")\n",
    "\n",
    "print(sample.count(), sample_admins.count())"
   ]
  },
  {
   "cell_type": "code",
   "execution_count": 26,
   "metadata": {},
   "outputs": [
    {
     "name": "stdout",
     "output_type": "stream",
     "text": [
      "+-----------+\n",
      "|   username|\n",
      "+-----------+\n",
      "|   Turbothy|\n",
      "|   Mummybot|\n",
      "|  Reaverbot|\n",
      "|  Gilbotron|\n",
      "|Philbot5000|\n",
      "+-----------+\n",
      "only showing top 5 rows\n",
      "\n"
     ]
    }
   ],
   "source": [
    "df.where(\"username like '%bot%'\").select(\"username\").distinct().show(n=5)"
   ]
  },
  {
   "cell_type": "code",
   "execution_count": 27,
   "metadata": {},
   "outputs": [
    {
     "name": "stdout",
     "output_type": "stream",
     "text": [
      "root\n",
      " |-- article_id: integer (nullable = true)\n",
      " |-- rev_id: integer (nullable = true)\n",
      " |-- article_title: string (nullable = true)\n",
      " |-- timestamp: timestamp (nullable = true)\n",
      " |-- username: string (nullable = true)\n",
      " |-- user_id: string (nullable = true)\n",
      " |-- category: string (nullable = true)\n",
      " |-- minor: boolean (nullable = true)\n",
      " |-- textdata: integer (nullable = true)\n",
      " |-- year: integer (nullable = true)\n",
      " |-- quarter: integer (nullable = true)\n",
      " |-- admin: string (nullable = true)\n",
      "\n"
     ]
    }
   ],
   "source": [
    "sample_admins.printSchema()"
   ]
  },
  {
   "cell_type": "code",
   "execution_count": 28,
   "metadata": {},
   "outputs": [
    {
     "data": {
      "text/plain": [
       "548"
      ]
     },
     "execution_count": 28,
     "metadata": {},
     "output_type": "execute_result"
    }
   ],
   "source": [
    "sample_admins.select(\"user_id\").distinct().count()"
   ]
  },
  {
   "cell_type": "code",
   "execution_count": 29,
   "metadata": {},
   "outputs": [
    {
     "data": {
      "text/plain": [
       "0"
      ]
     },
     "execution_count": 29,
     "metadata": {},
     "output_type": "execute_result"
    }
   ],
   "source": [
    "sample_admins.where(\"username like '%bot%'\").select(\"user_id\").distinct().count()"
   ]
  },
  {
   "cell_type": "code",
   "execution_count": 30,
   "metadata": {},
   "outputs": [
    {
     "name": "stdout",
     "output_type": "stream",
     "text": [
      "+-------+----------+-------------------------------+\n",
      "|user_id|n_articles|CAST(sum(log(textdata)) AS INT)|\n",
      "+-------+----------+-------------------------------+\n",
      "| 509520|      9897|                          63662|\n",
      "| 379407|      5168|                          35748|\n",
      "| 296765|      4783|                          46719|\n",
      "|1089346|      4205|                          21210|\n",
      "| 429249|      3406|                          33826|\n",
      "+-------+----------+-------------------------------+\n",
      "only showing top 5 rows\n",
      "\n"
     ]
    }
   ],
   "source": [
    "from pyspark.sql import functions as F\n",
    "\n",
    "(\n",
    "    sample_admins\n",
    "    .groupBy(\"user_id\")\n",
    "    .agg(\n",
    "        F.countDistinct(\"article_id\").alias(\"n_articles\"),\n",
    "        F.expr(\"cast(sum(log(textdata)) as int)\")\n",
    "    )\n",
    "    .orderBy(F.desc(\"n_articles\"))\n",
    "    .show(n=5)\n",
    ")"
   ]
  },
  {
   "cell_type": "code",
   "execution_count": 31,
   "metadata": {},
   "outputs": [
    {
     "name": "stdout",
     "output_type": "stream",
     "text": [
      "-RECORD 0--------------------------------\n",
      " avg_n_articles      | 4.140579194386872 \n",
      " avg_sumlog_textdata | 51.25286066062268 \n",
      " std_n_articles      | 147.1388268745544 \n",
      " sumlog_textdata     | 1114.473411878615 \n",
      " n_samples           | 1820874           \n",
      "\n",
      "-RECORD 0---------------------------------\n",
      " avg_n_articles      | 366.74817518248176 \n",
      " avg_sumlog_textdata | 4173.4952657453705 \n",
      " std_n_articles      | 735.9015763095758  \n",
      " sumlog_textdata     | 6766.63074421905   \n",
      " n_samples           | 548                \n",
      "\n",
      "-RECORD 0---------------------------------\n",
      " avg_n_articles      | 818.3851508120649  \n",
      " avg_sumlog_textdata | 5673.566176088171  \n",
      " std_n_articles      | 5732.564404330988  \n",
      " sumlog_textdata     | 40603.633061714536 \n",
      " n_samples           | 431                \n",
      "\n"
     ]
    }
   ],
   "source": [
    "def stats(df):\n",
    "    (\n",
    "        df.groupBy(\"user_id\")\n",
    "        .agg(\n",
    "            F.expr(\"count(distinct article_id) as n_articles\"),\n",
    "            F.expr(\"sum(log(textdata)) as sumlog_textdata\")\n",
    "        )\n",
    "        .selectExpr(\n",
    "            \"avg(n_articles) as avg_n_articles\", \n",
    "            \"avg(sumlog_textdata) as avg_sumlog_textdata\",\n",
    "            \"stddev_pop(n_articles) as std_n_articles\",\n",
    "            \"stddev_pop(sumlog_textdata) as sumlog_textdata\",\n",
    "            \"count(*) as n_samples\"\n",
    "        )\n",
    "    ).show(truncate=False, vertical=True)\n",
    "\n",
    "stats(sample)\n",
    "stats(sample_admins)\n",
    "stats(sample.where(\"username like '%bot%'\"))"
   ]
  },
  {
   "cell_type": "code",
   "execution_count": 47,
   "metadata": {},
   "outputs": [],
   "source": [
    "import shutil\n",
    "import glob\n",
    "\n",
    "name = \"admins\"\n",
    "interim_path = \"data/interim/{}\".format(name)\n",
    "admin_df.repartition(1).write.csv(interim_path, mode=\"overwrite\")\n",
    "interim_file = glob.glob(\"{}/*.csv\".format(interim_path))[0]\n",
    "processed_file = \"data/processed/{}.csv\".format(name)\n",
    "shutil.copy(interim_file, processed_file)\n",
    "shutil.rmtree(interim_path)"
   ]
  }
 ],
 "metadata": {
  "kernelspec": {
   "display_name": "Python 3",
   "language": "python",
   "name": "python3"
  },
  "language_info": {
   "codemirror_mode": {
    "name": "ipython",
    "version": 3
   },
   "file_extension": ".py",
   "mimetype": "text/x-python",
   "name": "python",
   "nbconvert_exporter": "python",
   "pygments_lexer": "ipython3",
   "version": "3.6.6"
  }
 },
 "nbformat": 4,
 "nbformat_minor": 2
}
