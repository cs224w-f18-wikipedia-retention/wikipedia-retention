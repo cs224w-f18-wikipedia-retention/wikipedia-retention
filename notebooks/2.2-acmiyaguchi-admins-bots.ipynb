{
 "cells": [
  {
   "cell_type": "code",
   "execution_count": 1,
   "metadata": {},
   "outputs": [
    {
     "name": "stdout",
     "output_type": "stream",
     "text": [
      "2007-1-enwiki-projection-user.csv\r\n",
      "2007-1-enwiki-projection-user-roles.csv\r\n",
      "2007-2-enwiki-projection-user.csv\r\n",
      "2007-2-enwiki-projection-user-roles.csv\r\n",
      "2007-3-enwiki-projection-user.csv\r\n",
      "2007-3-enwiki-projection-user-roles.csv\r\n",
      "2007-4-enwiki-projection-user.csv\r\n",
      "2007-4-enwiki-projection-user-roles.csv\r\n",
      "all_article_features.csv\r\n",
      "all_user_features.csv\r\n",
      "enwiki-meta-compact\r\n",
      "enwiki-meta-parquet\r\n",
      "kcore-2007-1.csv\r\n"
     ]
    }
   ],
   "source": [
    "! ls ../data/processed"
   ]
  },
  {
   "cell_type": "code",
   "execution_count": 2,
   "metadata": {},
   "outputs": [],
   "source": [
    "import pandas as pd\n",
    "\n",
    "with open(\"../data/raw/admin.txt\", 'r') as f:\n",
    "    data = f.readlines()"
   ]
  },
  {
   "cell_type": "code",
   "execution_count": 3,
   "metadata": {},
   "outputs": [
    {
     "data": {
      "text/plain": [
       "997"
      ]
     },
     "execution_count": 3,
     "metadata": {},
     "output_type": "execute_result"
    }
   ],
   "source": [
    "admins = [x.split(\"User:\")[-1].strip() for x in data if data]\n",
    "len(admins)"
   ]
  },
  {
   "cell_type": "code",
   "execution_count": 4,
   "metadata": {},
   "outputs": [
    {
     "data": {
      "text/plain": [
       "11058849"
      ]
     },
     "execution_count": 4,
     "metadata": {},
     "output_type": "execute_result"
    }
   ],
   "source": [
    "from pyspark.sql import SparkSession\n",
    "\n",
    "spark = SparkSession.builder.getOrCreate()\n",
    "df = spark.read.parquet(\"../data/processed/enwiki-meta-compact\")\n",
    "\n",
    "df.select(\"username\").distinct().count()"
   ]
  },
  {
   "cell_type": "code",
   "execution_count": 5,
   "metadata": {},
   "outputs": [
    {
     "name": "stderr",
     "output_type": "stream",
     "text": [
      "/home/amiyaguchi/cs224w/wikipedia-retention/venv/lib/python2.7/site-packages/pyspark/sql/session.py:346: UserWarning: inferring schema from dict is deprecated,please use pyspark.sql.Row instead\n",
      "  warnings.warn(\"inferring schema from dict is deprecated,\"\n"
     ]
    }
   ],
   "source": [
    "admin_df = spark.createDataFrame([{'admin': admin} for admin in admins])"
   ]
  },
  {
   "cell_type": "code",
   "execution_count": 6,
   "metadata": {},
   "outputs": [
    {
     "data": {
      "text/plain": [
       "714"
      ]
     },
     "execution_count": 6,
     "metadata": {},
     "output_type": "execute_result"
    }
   ],
   "source": [
    "df.select(\"username\").distinct().join(admin_df, admin_df.admin == df.username, \"inner\").count()"
   ]
  },
  {
   "cell_type": "code",
   "execution_count": 7,
   "metadata": {},
   "outputs": [
    {
     "name": "stdout",
     "output_type": "stream",
     "text": [
      "(13740491, 335535)\n"
     ]
    }
   ],
   "source": [
    "sample = df.where(\"year=2007 and quarter=1\")\n",
    "sample_admins = sample.join(admin_df, admin_df.admin == df.username, \"inner\")\n",
    "\n",
    "print(sample.count(), sample_admins.count())"
   ]
  },
  {
   "cell_type": "code",
   "execution_count": 22,
   "metadata": {},
   "outputs": [
    {
     "name": "stdout",
     "output_type": "stream",
     "text": [
      "+------------+\n",
      "|    username|\n",
      "+------------+\n",
      "|    Turbothy|\n",
      "|    Darkboth|\n",
      "|Autobotm8rix|\n",
      "|   Gilbotron|\n",
      "| Philbot5000|\n",
      "+------------+\n",
      "only showing top 5 rows\n",
      "\n"
     ]
    }
   ],
   "source": [
    "df.where(\"username like '%bot%'\").select(\"username\").distinct().show(n=5)"
   ]
  },
  {
   "cell_type": "code",
   "execution_count": 8,
   "metadata": {},
   "outputs": [
    {
     "name": "stdout",
     "output_type": "stream",
     "text": [
      "root\n",
      " |-- article_id: integer (nullable = true)\n",
      " |-- rev_id: integer (nullable = true)\n",
      " |-- article_title: string (nullable = true)\n",
      " |-- timestamp: timestamp (nullable = true)\n",
      " |-- username: string (nullable = true)\n",
      " |-- user_id: string (nullable = true)\n",
      " |-- category: string (nullable = true)\n",
      " |-- minor: boolean (nullable = true)\n",
      " |-- textdata: integer (nullable = true)\n",
      " |-- year: integer (nullable = true)\n",
      " |-- quarter: integer (nullable = true)\n",
      " |-- admin: string (nullable = true)\n",
      "\n"
     ]
    }
   ],
   "source": [
    "sample_admins.printSchema()"
   ]
  },
  {
   "cell_type": "code",
   "execution_count": 9,
   "metadata": {},
   "outputs": [
    {
     "data": {
      "text/plain": [
       "546"
      ]
     },
     "execution_count": 9,
     "metadata": {},
     "output_type": "execute_result"
    }
   ],
   "source": [
    "sample_admins.select(\"user_id\").distinct().count()"
   ]
  },
  {
   "cell_type": "code",
   "execution_count": 12,
   "metadata": {},
   "outputs": [
    {
     "data": {
      "text/plain": [
       "0"
      ]
     },
     "execution_count": 12,
     "metadata": {},
     "output_type": "execute_result"
    }
   ],
   "source": [
    "sample_admins.where(\"username like '%bot%'\").select(\"user_id\").distinct().count()"
   ]
  },
  {
   "cell_type": "code",
   "execution_count": 10,
   "metadata": {},
   "outputs": [
    {
     "name": "stdout",
     "output_type": "stream",
     "text": [
      "+-------+----------+-------------------------------+\n",
      "|user_id|n_articles|CAST(sum(log(textdata)) AS INT)|\n",
      "+-------+----------+-------------------------------+\n",
      "| 509520|      9897|                          63662|\n",
      "| 379407|      5168|                          35748|\n",
      "| 296765|      4783|                          46719|\n",
      "|1089346|      4205|                          21210|\n",
      "| 429249|      3406|                          33826|\n",
      "| 659090|      3161|                          21070|\n",
      "| 319061|      2816|                          26194|\n",
      "| 271376|      2773|                          14598|\n",
      "|  97078|      2693|                          20160|\n",
      "|   7402|      2589|                          31334|\n",
      "| 921400|      2469|                          23864|\n",
      "| 657950|      2415|                          40352|\n",
      "| 889851|      2352|                          37896|\n",
      "|  59986|      2267|                          18601|\n",
      "|  44020|      2263|                          24403|\n",
      "| 266416|      2122|                          39640|\n",
      "| 214427|      2121|                          19998|\n",
      "|  15822|      2113|                          17327|\n",
      "| 170745|      2057|                          23955|\n",
      "|1283289|      1984|                          14223|\n",
      "+-------+----------+-------------------------------+\n",
      "only showing top 20 rows\n",
      "\n"
     ]
    }
   ],
   "source": [
    "from pyspark.sql import functions as F\n",
    "\n",
    "(\n",
    "    sample_admins\n",
    "    .groupBy(\"user_id\")\n",
    "    .agg(\n",
    "        F.countDistinct(\"article_id\").alias(\"n_articles\"),\n",
    "        F.expr(\"cast(sum(log(textdata)) as int)\")\n",
    "    )\n",
    "    .orderBy(F.desc(\"n_articles\"))\n",
    "    .show()\n",
    ")"
   ]
  },
  {
   "cell_type": "code",
   "execution_count": 41,
   "metadata": {},
   "outputs": [
    {
     "name": "stdout",
     "output_type": "stream",
     "text": [
      "+-----------------+-------------------+------------------+------------------+---------+\n",
      "|   avg_n_articles|avg_sumlog_textdata|    std_n_articles|   sumlog_textdata|n_samples|\n",
      "+-----------------+-------------------+------------------+------------------+---------+\n",
      "|4.140579194386872|  51.25286066062268|147.13882687455467|1114.4734118786153|  1820874|\n",
      "+-----------------+-------------------+------------------+------------------+---------+\n",
      "\n",
      "+-----------------+-------------------+-----------------+-----------------+---------+\n",
      "|   avg_n_articles|avg_sumlog_textdata|   std_n_articles|  sumlog_textdata|n_samples|\n",
      "+-----------------+-------------------+-----------------+-----------------+---------+\n",
      "|367.3369963369963|    4175.1472832393|737.1397698399015|6777.760328942174|      546|\n",
      "+-----------------+-------------------+-----------------+-----------------+---------+\n",
      "\n",
      "+-----------------+-------------------+-----------------+-----------------+---------+\n",
      "|   avg_n_articles|avg_sumlog_textdata|   std_n_articles|  sumlog_textdata|n_samples|\n",
      "+-----------------+-------------------+-----------------+-----------------+---------+\n",
      "|818.3851508120649|  5673.566176088171|5732.564404330988|40603.63306171453|      431|\n",
      "+-----------------+-------------------+-----------------+-----------------+---------+\n",
      "\n"
     ]
    }
   ],
   "source": [
    "def stats(df):\n",
    "    (\n",
    "        df.groupBy(\"user_id\")\n",
    "        .agg(\n",
    "            F.expr(\"count(distinct article_id) as n_articles\"),\n",
    "            F.expr(\"sum(log(textdata)) as sumlog_textdata\")\n",
    "        )\n",
    "        .selectExpr(\n",
    "            \"avg(n_articles) as avg_n_articles\", \n",
    "            \"avg(sumlog_textdata) as avg_sumlog_textdata\",\n",
    "            \"stddev_pop(n_articles) as std_n_articles\",\n",
    "            \"stddev_pop(sumlog_textdata) as sumlog_textdata\",\n",
    "            \"count(*) as n_samples\"\n",
    "        )\n",
    "    ).show()\n",
    "\n",
    "stats(sample)\n",
    "stats(sample_admins)\n",
    "stats(sample.where(\"username like '%bot%'\"))"
   ]
  }
 ],
 "metadata": {
  "kernelspec": {
   "display_name": "Python 2",
   "language": "python",
   "name": "python2"
  },
  "language_info": {
   "codemirror_mode": {
    "name": "ipython",
    "version": 2
   },
   "file_extension": ".py",
   "mimetype": "text/x-python",
   "name": "python",
   "nbconvert_exporter": "python",
   "pygments_lexer": "ipython2",
   "version": "2.7.15"
  }
 },
 "nbformat": 4,
 "nbformat_minor": 2
}
