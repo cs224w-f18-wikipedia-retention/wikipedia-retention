{
 "cells": [
  {
   "cell_type": "code",
   "execution_count": 6,
   "metadata": {},
   "outputs": [
    {
     "name": "stdout",
     "output_type": "stream",
     "text": [
      "enwiki-meta-parquet\r\n"
     ]
    }
   ],
   "source": [
    "! ls ../data/interim/"
   ]
  },
  {
   "cell_type": "code",
   "execution_count": 2,
   "metadata": {},
   "outputs": [],
   "source": [
    "from pyspark.sql import SparkSession, functions as F\n",
    "\n",
    "spark = SparkSession.builder.getOrCreate()\n",
    "df = spark.read.parquet(\"../data/interim/enwiki-meta-parquet\")"
   ]
  },
  {
   "cell_type": "code",
   "execution_count": 3,
   "metadata": {},
   "outputs": [
    {
     "name": "stdout",
     "output_type": "stream",
     "text": [
      "root\n",
      " |-- article_id: integer (nullable = true)\n",
      " |-- rev_id: integer (nullable = true)\n",
      " |-- article_title: string (nullable = true)\n",
      " |-- timestamp: timestamp (nullable = true)\n",
      " |-- username: string (nullable = true)\n",
      " |-- user_id: string (nullable = true)\n",
      " |-- category: string (nullable = true)\n",
      " |-- image: string (nullable = true)\n",
      " |-- main: string (nullable = true)\n",
      " |-- talk: string (nullable = true)\n",
      " |-- user: string (nullable = true)\n",
      " |-- user_talk: string (nullable = true)\n",
      " |-- other: string (nullable = true)\n",
      " |-- external: string (nullable = true)\n",
      " |-- template: string (nullable = true)\n",
      " |-- comment: string (nullable = true)\n",
      " |-- minor: boolean (nullable = true)\n",
      " |-- textdata: integer (nullable = true)\n",
      " |-- year: integer (nullable = true)\n",
      " |-- quarter: integer (nullable = true)\n",
      "\n"
     ]
    }
   ],
   "source": [
    "df.printSchema()"
   ]
  },
  {
   "cell_type": "code",
   "execution_count": 5,
   "metadata": {},
   "outputs": [
    {
     "name": "stdout",
     "output_type": "stream",
     "text": [
      "+-------+------------------+-----------------+-----------------+\n",
      "|summary|     length(image)|     length(main)|  length(comment)|\n",
      "+-------+------------------+-----------------+-----------------+\n",
      "|  count|          59054350|        114536655|         84355130|\n",
      "|   mean|105.13340932547729|1623.158221645289|41.20036592913792|\n",
      "| stddev| 633.4221015582104|3104.617789664033|40.99137021623147|\n",
      "|    min|                 1|                0|                1|\n",
      "|    max|           1888067|          2313950|              255|\n",
      "+-------+------------------+-----------------+-----------------+\n",
      "\n"
     ]
    }
   ],
   "source": [
    "df.selectExpr(\"length(image)\", \"length(main)\", \"length(comment)\").describe().show()"
   ]
  },
  {
   "cell_type": "code",
   "execution_count": 5,
   "metadata": {},
   "outputs": [],
   "source": [
    "to_drop = [\"image\", \"main\", \"talk\", \"user\", \"user_talk\", \"other\", \"external\", \"template\", \"comment\"]"
   ]
  },
  {
   "cell_type": "code",
   "execution_count": 13,
   "metadata": {},
   "outputs": [
    {
     "name": "stdout",
     "output_type": "stream",
     "text": [
      "+-----------+-------------+----------+--------+---------+------------+------------+------------+-----------+\n",
      "|      image|         main|      talk|    user|user_talk|       other|    external|    template|    comment|\n",
      "+-----------+-------------+----------+--------+---------+------------+------------+------------+-----------+\n",
      "|6208.585151|185911.113243|188.906808|8.645842| 0.486033|12750.286814|59798.492854|10895.123496|3475.462224|\n",
      "+-----------+-------------+----------+--------+---------+------------+------------+------------+-----------+\n",
      "\n"
     ]
    }
   ],
   "source": [
    "df.selectExpr(map(lambda x: \"sum(length({0}))/1000000 as {0}\".format(x), to_drop)).show()"
   ]
  },
  {
   "cell_type": "code",
   "execution_count": 7,
   "metadata": {},
   "outputs": [],
   "source": [
    "df.drop(*to_drop).orderBy(\"timestamp\").coalesce(10).write.parquet(\"../data/processed/enwiki-meta-compact\", mode=\"overwrite\")"
   ]
  },
  {
   "cell_type": "code",
   "execution_count": 9,
   "metadata": {},
   "outputs": [
    {
     "name": "stdout",
     "output_type": "stream",
     "text": [
      "root\n",
      " |-- article_id: integer (nullable = true)\n",
      " |-- rev_id: integer (nullable = true)\n",
      " |-- article_title: string (nullable = true)\n",
      " |-- timestamp: timestamp (nullable = true)\n",
      " |-- username: string (nullable = true)\n",
      " |-- user_id: string (nullable = true)\n",
      " |-- category: string (nullable = true)\n",
      " |-- minor: boolean (nullable = true)\n",
      " |-- textdata: integer (nullable = true)\n",
      " |-- year: integer (nullable = true)\n",
      " |-- quarter: integer (nullable = true)\n",
      "\n"
     ]
    }
   ],
   "source": [
    "df = spark.read.parquet(\"../data/processed/enwiki-meta-compact\")\n",
    "df.printSchema()"
   ]
  }
 ],
 "metadata": {
  "kernelspec": {
   "display_name": "Python 2",
   "language": "python",
   "name": "python2"
  },
  "language_info": {
   "codemirror_mode": {
    "name": "ipython",
    "version": 2
   },
   "file_extension": ".py",
   "mimetype": "text/x-python",
   "name": "python",
   "nbconvert_exporter": "python",
   "pygments_lexer": "ipython2",
   "version": "2.7.15"
  }
 },
 "nbformat": 4,
 "nbformat_minor": 2
}
